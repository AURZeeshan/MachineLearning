{
 "cells": [
  {
   "cell_type": "markdown",
   "metadata": {},
   "source": [
    "# Credit Card Fraud Detection\n",
    "\n",
    "The dataset contains transactions made by credit cards in September 2013 by european cardholders. This dataset presents transactions that occurred in two days, where we have 492 frauds out of 284,807 transactions. The dataset is highly unbalanced, the positive class (frauds) account for 0.172% of all transactions.\n",
    "\n",
    "An autoencoder is used as an unsupervised model to identify irregularities that might indicate fraud. It is imperfect, but works reasonable well.\n",
    "\n",
    "The data is available on [Kaggle](https://www.kaggle.com/mlg-ulb/creditcardfraud)"
   ]
  },
  {
   "cell_type": "code",
   "execution_count": 1,
   "metadata": {},
   "outputs": [
    {
     "name": "stderr",
     "output_type": "stream",
     "text": [
      "Using TensorFlow backend.\n"
     ]
    }
   ],
   "source": [
    "import pandas as pd\n",
    "import numpy as np\n",
    "import pickle\n",
    "import matplotlib.pyplot as plt\n",
    "from scipy import stats\n",
    "import tensorflow as tf\n",
    "import seaborn as sns\n",
    "from pylab import rcParams\n",
    "from sklearn.model_selection import train_test_split\n",
    "from sklearn.preprocessing import StandardScaler\n",
    "from keras.models import Model, load_model\n",
    "from keras.layers import Input, Dense\n",
    "from keras.callbacks import ModelCheckpoint, TensorBoard\n",
    "from keras import regularizers\n",
    "from sklearn.metrics import confusion_matrix"
   ]
  },
  {
   "cell_type": "markdown",
   "metadata": {},
   "source": [
    "## Read Data\n",
    "\n",
    "The original data set is fairly large. To reduce experiment cycle time, a subset of of the data is used here."
   ]
  },
  {
   "cell_type": "code",
   "execution_count": 2,
   "metadata": {},
   "outputs": [],
   "source": [
    "#data = pd.read_csv(\"data/creditcard.csv\")\n",
    "#data = data.head(30000)\n",
    "#data.shape"
   ]
  },
  {
   "cell_type": "code",
   "execution_count": 3,
   "metadata": {},
   "outputs": [],
   "source": [
    "#data.to_csv('data/subset.csv', index=False)"
   ]
  },
  {
   "cell_type": "code",
   "execution_count": 4,
   "metadata": {},
   "outputs": [
    {
     "data": {
      "text/plain": [
       "(30000, 31)"
      ]
     },
     "execution_count": 4,
     "metadata": {},
     "output_type": "execute_result"
    }
   ],
   "source": [
    "data = pd.read_csv(\"data/subset.csv\")\n",
    "data.shape"
   ]
  },
  {
   "cell_type": "markdown",
   "metadata": {},
   "source": [
    "## Data Engineering\n",
    "\n",
    "The Time column is ignored and the Amount is normalized. All other columns remain the same."
   ]
  },
  {
   "cell_type": "code",
   "execution_count": 5,
   "metadata": {},
   "outputs": [],
   "source": [
    "data = data.drop(['Time'], axis=1)\n",
    "data['Amount'] = StandardScaler().fit_transform(data['Amount'].values.reshape(-1, 1))"
   ]
  },
  {
   "cell_type": "code",
   "execution_count": 6,
   "metadata": {},
   "outputs": [
    {
     "data": {
      "text/plain": [
       "(24000, 29)"
      ]
     },
     "execution_count": 6,
     "metadata": {},
     "output_type": "execute_result"
    }
   ],
   "source": [
    "X_train, X_test = train_test_split(data, test_size=0.2)\n",
    "#X_train = X_train[X_train.Class == 0]\n",
    "X_train = X_train.drop(['Class'], axis=1)\n",
    "y_test = X_test['Class']\n",
    "X_test = X_test.drop(['Class'], axis=1)\n",
    "X_train = X_train.values\n",
    "X_test = X_test.values\n",
    "X_train.shape"
   ]
  },
  {
   "cell_type": "markdown",
   "metadata": {},
   "source": [
    "## Autoencoder Model\n",
    "\n",
    "This is a standard dense autoencoder with four layers."
   ]
  },
  {
   "cell_type": "code",
   "execution_count": 7,
   "metadata": {},
   "outputs": [
    {
     "name": "stdout",
     "output_type": "stream",
     "text": [
      "WARNING:tensorflow:From C:\\ProgramData\\Anaconda3\\lib\\site-packages\\tensorflow\\python\\framework\\op_def_library.py:263: colocate_with (from tensorflow.python.framework.ops) is deprecated and will be removed in a future version.\n",
      "Instructions for updating:\n",
      "Colocations handled automatically by placer.\n"
     ]
    }
   ],
   "source": [
    "input_dim = X_train.shape[1]\n",
    "encoding_dim = 14\n",
    "\n",
    "input_layer = Input(shape=(input_dim, ))\n",
    "encoder = Dense(encoding_dim, activation=\"tanh\", \n",
    "                activity_regularizer=regularizers.l1(10e-5))(input_layer)\n",
    "encoder = Dense(int(encoding_dim / 2), activation=\"relu\")(encoder)\n",
    "decoder = Dense(int(encoding_dim / 2), activation='tanh')(encoder)\n",
    "decoder = Dense(input_dim, activation='relu')(decoder)\n",
    "autoencoder = Model(inputs=input_layer, outputs=decoder)"
   ]
  },
  {
   "cell_type": "code",
   "execution_count": 8,
   "metadata": {},
   "outputs": [
    {
     "name": "stdout",
     "output_type": "stream",
     "text": [
      "WARNING:tensorflow:From C:\\ProgramData\\Anaconda3\\lib\\site-packages\\tensorflow\\python\\ops\\math_ops.py:3066: to_int32 (from tensorflow.python.ops.math_ops) is deprecated and will be removed in a future version.\n",
      "Instructions for updating:\n",
      "Use tf.cast instead.\n",
      "Train on 24000 samples, validate on 6000 samples\n",
      "Epoch 1/40\n",
      "24000/24000 [==============================] - 2s 77us/step - loss: 1.1442 - acc: 0.3041 - val_loss: 0.9935 - val_acc: 0.4413\n",
      "Epoch 2/40\n",
      "24000/24000 [==============================] - 2s 63us/step - loss: 1.0235 - acc: 0.5062 - val_loss: 0.9220 - val_acc: 0.5267\n",
      "Epoch 3/40\n",
      "24000/24000 [==============================] - 2s 64us/step - loss: 0.9702 - acc: 0.5678 - val_loss: 0.8944 - val_acc: 0.5795\n",
      "Epoch 4/40\n",
      "24000/24000 [==============================] - 2s 64us/step - loss: 0.9453 - acc: 0.5921 - val_loss: 0.8793 - val_acc: 0.5950\n",
      "Epoch 5/40\n",
      "24000/24000 [==============================] - 2s 63us/step - loss: 0.9277 - acc: 0.6062 - val_loss: 0.8649 - val_acc: 0.6090\n",
      "Epoch 6/40\n",
      "24000/24000 [==============================] - 2s 63us/step - loss: 0.9112 - acc: 0.6310 - val_loss: 0.8512 - val_acc: 0.6318\n",
      "Epoch 7/40\n",
      "24000/24000 [==============================] - 2s 63us/step - loss: 0.8986 - acc: 0.6508 - val_loss: 0.8441 - val_acc: 0.6437\n",
      "Epoch 8/40\n",
      "24000/24000 [==============================] - 2s 63us/step - loss: 0.8897 - acc: 0.6576 - val_loss: 0.8359 - val_acc: 0.6395\n",
      "Epoch 9/40\n",
      "24000/24000 [==============================] - 2s 64us/step - loss: 0.8829 - acc: 0.6613 - val_loss: 0.8308 - val_acc: 0.6533\n",
      "Epoch 10/40\n",
      "24000/24000 [==============================] - 2s 64us/step - loss: 0.8772 - acc: 0.6697 - val_loss: 0.8265 - val_acc: 0.6575\n",
      "Epoch 11/40\n",
      "24000/24000 [==============================] - 2s 64us/step - loss: 0.8710 - acc: 0.6741 - val_loss: 0.8191 - val_acc: 0.6753\n",
      "Epoch 12/40\n",
      "24000/24000 [==============================] - 2s 63us/step - loss: 0.8656 - acc: 0.6765 - val_loss: 0.8188 - val_acc: 0.6648\n",
      "Epoch 13/40\n",
      "24000/24000 [==============================] - 2s 67us/step - loss: 0.8608 - acc: 0.6830 - val_loss: 0.8116 - val_acc: 0.6848\n",
      "Epoch 14/40\n",
      "24000/24000 [==============================] - 2s 63us/step - loss: 0.8578 - acc: 0.6908 - val_loss: 0.8097 - val_acc: 0.6860\n",
      "Epoch 15/40\n",
      "24000/24000 [==============================] - 2s 66us/step - loss: 0.8550 - acc: 0.6933 - val_loss: 0.8124 - val_acc: 0.6810\n",
      "Epoch 16/40\n",
      "24000/24000 [==============================] - 1s 59us/step - loss: 0.8534 - acc: 0.6979 - val_loss: 0.8089 - val_acc: 0.6873\n",
      "Epoch 17/40\n",
      "24000/24000 [==============================] - 1s 61us/step - loss: 0.8519 - acc: 0.6976 - val_loss: 0.8059 - val_acc: 0.6902\n",
      "Epoch 18/40\n",
      "24000/24000 [==============================] - 2s 70us/step - loss: 0.8494 - acc: 0.7041 - val_loss: 0.8034 - val_acc: 0.6902\n",
      "Epoch 19/40\n",
      "24000/24000 [==============================] - 2s 68us/step - loss: 0.8483 - acc: 0.7039 - val_loss: 0.8019 - val_acc: 0.6958\n",
      "Epoch 20/40\n",
      "24000/24000 [==============================] - 2s 63us/step - loss: 0.8480 - acc: 0.7050 - val_loss: 0.8013 - val_acc: 0.6905\n",
      "Epoch 21/40\n",
      "24000/24000 [==============================] - 1s 62us/step - loss: 0.8461 - acc: 0.7083 - val_loss: 0.7998 - val_acc: 0.6997\n",
      "Epoch 22/40\n",
      "24000/24000 [==============================] - 2s 63us/step - loss: 0.8448 - acc: 0.7115 - val_loss: 0.8001 - val_acc: 0.7062\n",
      "Epoch 23/40\n",
      "24000/24000 [==============================] - 2s 63us/step - loss: 0.8443 - acc: 0.7131 - val_loss: 0.7992 - val_acc: 0.7063\n",
      "Epoch 24/40\n",
      "24000/24000 [==============================] - 1s 60us/step - loss: 0.8434 - acc: 0.7108 - val_loss: 0.7983 - val_acc: 0.7098\n",
      "Epoch 25/40\n",
      "24000/24000 [==============================] - 1s 61us/step - loss: 0.8432 - acc: 0.7165 - val_loss: 0.7970 - val_acc: 0.7055\n",
      "Epoch 26/40\n",
      "24000/24000 [==============================] - 2s 63us/step - loss: 0.8415 - acc: 0.7160 - val_loss: 0.7953 - val_acc: 0.7072\n",
      "Epoch 27/40\n",
      "24000/24000 [==============================] - 1s 62us/step - loss: 0.8412 - acc: 0.7169 - val_loss: 0.7948 - val_acc: 0.7120\n",
      "Epoch 28/40\n",
      "24000/24000 [==============================] - 1s 61us/step - loss: 0.8401 - acc: 0.7197 - val_loss: 0.7960 - val_acc: 0.7038\n",
      "Epoch 29/40\n",
      "24000/24000 [==============================] - 1s 61us/step - loss: 0.8397 - acc: 0.7194 - val_loss: 0.7940 - val_acc: 0.7130\n",
      "Epoch 30/40\n",
      "24000/24000 [==============================] - 2s 65us/step - loss: 0.8392 - acc: 0.7195 - val_loss: 0.7945 - val_acc: 0.7072\n",
      "Epoch 31/40\n",
      "24000/24000 [==============================] - 2s 68us/step - loss: 0.8384 - acc: 0.7215 - val_loss: 0.7934 - val_acc: 0.7122\n",
      "Epoch 32/40\n",
      "24000/24000 [==============================] - 2s 67us/step - loss: 0.8378 - acc: 0.7237 - val_loss: 0.7925 - val_acc: 0.7222\n",
      "Epoch 33/40\n",
      "24000/24000 [==============================] - 2s 67us/step - loss: 0.8364 - acc: 0.7236 - val_loss: 0.7923 - val_acc: 0.7107\n",
      "Epoch 34/40\n",
      "24000/24000 [==============================] - 2s 69us/step - loss: 0.8364 - acc: 0.7238 - val_loss: 0.7944 - val_acc: 0.7145\n",
      "Epoch 35/40\n",
      "24000/24000 [==============================] - 2s 64us/step - loss: 0.8357 - acc: 0.7220 - val_loss: 0.7927 - val_acc: 0.7153\n",
      "Epoch 36/40\n",
      "24000/24000 [==============================] - 2s 69us/step - loss: 0.8358 - acc: 0.7232 - val_loss: 0.7905 - val_acc: 0.7192\n",
      "Epoch 37/40\n",
      "24000/24000 [==============================] - 2s 69us/step - loss: 0.8349 - acc: 0.7265 - val_loss: 0.7904 - val_acc: 0.7167\n",
      "Epoch 38/40\n",
      "24000/24000 [==============================] - 2s 66us/step - loss: 0.8341 - acc: 0.7252 - val_loss: 0.7908 - val_acc: 0.7172\n",
      "Epoch 39/40\n",
      "24000/24000 [==============================] - 2s 68us/step - loss: 0.8344 - acc: 0.7245 - val_loss: 0.7910 - val_acc: 0.7188\n",
      "Epoch 40/40\n",
      "24000/24000 [==============================] - 2s 71us/step - loss: 0.8335 - acc: 0.7265 - val_loss: 0.7934 - val_acc: 0.7227\n"
     ]
    }
   ],
   "source": [
    "nb_epoch = 40\n",
    "batch_size = 32\n",
    "\n",
    "autoencoder.compile(optimizer='adam', \n",
    "                    loss='mean_squared_error', \n",
    "                    metrics=['acc'])\n",
    "\n",
    "checkpointer = ModelCheckpoint(filepath=\"model.h5\",\n",
    "                               verbose=0,\n",
    "                               save_best_only=True)\n",
    "tensorboard = TensorBoard(log_dir='./logs',\n",
    "                          histogram_freq=0,\n",
    "                          write_graph=True,\n",
    "                          write_images=True)\n",
    "\n",
    "history = autoencoder.fit(X_train, X_train,\n",
    "                    epochs=nb_epoch,\n",
    "                    batch_size=batch_size,\n",
    "                    shuffle=True,\n",
    "                    validation_data=(X_test, X_test),\n",
    "                    verbose=1,\n",
    "                    callbacks=[checkpointer, tensorboard]).history\n",
    "\n",
    "autoencoder = load_model('model.h5')"
   ]
  },
  {
   "cell_type": "markdown",
   "metadata": {},
   "source": [
    "## Model Performance\n",
    "\n",
    "A simple plot of model accuracy to confirm that is learning something."
   ]
  },
  {
   "cell_type": "code",
   "execution_count": 9,
   "metadata": {},
   "outputs": [
    {
     "data": {
      "image/png": "[encoded data removed]",
      "text/plain": [
       "<Figure size 432x288 with 1 Axes>"
      ]
     },
     "metadata": {
      "needs_background": "light"
     },
     "output_type": "display_data"
    }
   ],
   "source": [
    "# summarize history for accuracy\n",
    "plt.plot(history['acc'])\n",
    "plt.title('Model accuracy')\n",
    "plt.ylabel('Accuracy')\n",
    "plt.xlabel('Epoch')\n",
    "plt.legend(['Train'], loc='upper left')\n",
    "plt.show()"
   ]
  },
  {
   "cell_type": "markdown",
   "metadata": {},
   "source": [
    "## Prediction\n",
    "\n",
    "Predictions are made on the test set. The mean-squared error (MSE) is calculated between the test set and their predictions. If the MSE is high, it's a potential irregularity that might suggest fraud. It's not perfect, there will be false positives and false negatives."
   ]
  },
  {
   "cell_type": "code",
   "execution_count": 10,
   "metadata": {},
   "outputs": [],
   "source": [
    "predictions = autoencoder.predict(X_test)\n",
    "mse = np.mean(np.power(X_test - predictions, 2), axis=1)\n",
    "error_df = pd.DataFrame({'reconstruction_error': mse, 'true_class': y_test})"
   ]
  },
  {
   "cell_type": "markdown",
   "metadata": {},
   "source": [
    "## Plot Reconstruction Error\n",
    "\n",
    "The reconstruction error for each sample is plotted long with a color code indicating known fraud. Only 6000 samples are plotted, but the index is randomly sampled from the original set, so the X-axis shows almost the full range of indices."
   ]
  },
  {
   "cell_type": "code",
   "execution_count": 11,
   "metadata": {},
   "outputs": [
    {
     "data": {
      "image/png": "[encoded data removed]",
      "text/plain": [
       "<Figure size 864x576 with 1 Axes>"
      ]
     },
     "metadata": {
      "needs_background": "light"
     },
     "output_type": "display_data"
    }
   ],
   "source": [
    "threshold = 6.0\n",
    "\n",
    "groups = error_df.groupby('true_class')\n",
    "fig, ax = plt.subplots(figsize=(12, 8))\n",
    "\n",
    "for name, group in groups:\n",
    "    ax.plot(group.index, group.reconstruction_error, marker='o', ms=2.0, linestyle='',\n",
    "            label = \"Fraud\" if name == 1 else \"Normal\",\n",
    "            color = \"red\" if name == 1 else \"blue\")\n",
    "ax.hlines(threshold, ax.get_xlim()[0], ax.get_xlim()[1], colors=\"green\", zorder=100, label='Threshold')\n",
    "ax.legend()\n",
    "plt.title(\"Reconstruction error for different classes\")\n",
    "plt.ylabel(\"Reconstruction error\")\n",
    "plt.xlabel(\"Data point index\")\n",
    "plt.show();"
   ]
  },
  {
   "cell_type": "markdown",
   "metadata": {},
   "source": [
    "## Confusion Matrix\n",
    "\n",
    "The confusion matrix below shows the number of true/false positive/negatives. It's not perfect, but not too bad either."
   ]
  },
  {
   "cell_type": "code",
   "execution_count": 12,
   "metadata": {},
   "outputs": [
    {
     "data": {
      "image/png": "[encoded data removed]",
      "text/plain": [
       "<Figure size 432x360 with 2 Axes>"
      ]
     },
     "metadata": {
      "needs_background": "light"
     },
     "output_type": "display_data"
    }
   ],
   "source": [
    "labels = [\"Normal\", \"Fraud\"]\n",
    "\n",
    "y_pred = [1 if e > threshold else 0 for e in error_df.reconstruction_error.values]\n",
    "conf_matrix = confusion_matrix(error_df.true_class, y_pred)\n",
    "\n",
    "plt.figure(figsize=(6, 5))\n",
    "sns.heatmap(conf_matrix, xticklabels=labels, yticklabels=labels, annot=True, fmt=\"d\");\n",
    "plt.title(\"Confusion matrix\")\n",
    "plt.ylabel('True class')\n",
    "plt.xlabel('Predicted class')\n",
    "plt.show()"
   ]
  },
  {
   "cell_type": "code",
   "execution_count": null,
   "metadata": {},
   "outputs": [],
   "source": []
  }
 ],
 "metadata": {
  "kernelspec": {
   "display_name": "Python 3",
   "language": "python",
   "name": "python3"
  },
  "language_info": {
   "codemirror_mode": {
    "name": "ipython",
    "version": 3
   },
   "file_extension": ".py",
   "mimetype": "text/x-python",
   "name": "python",
   "nbconvert_exporter": "python",
   "pygments_lexer": "ipython3",
   "version": "3.6.8"
  }
 },
 "nbformat": 4,
 "nbformat_minor": 2
}
