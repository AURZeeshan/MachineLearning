{
 "cells": [
  {
   "cell_type": "markdown",
   "metadata": {},
   "source": [
    "# Credit Card Fraud Detection\n",
    "\n",
    "The dataset contains transactions made by credit cards in September 2013 by european cardholders. This dataset presents transactions that occurred in two days, where we have 492 frauds out of 284,807 transactions. The dataset is highly unbalanced, the positive class (frauds) account for 0.172% of all transactions.\n",
    "\n",
    "An autoencoder is used as an unsupervised model to identify irregularities that might indicate fraud. It is imperfect, but works reasonable well.\n",
    "\n",
    "The data is available on [Kaggle](https://www.kaggle.com/mlg-ulb/creditcardfraud)"
   ]
  },
  {
   "cell_type": "code",
   "execution_count": 1,
   "metadata": {},
   "outputs": [
    {
     "name": "stderr",
     "output_type": "stream",
     "text": [
      "Using TensorFlow backend.\n"
     ]
    }
   ],
   "source": [
    "import pandas as pd\n",
    "import numpy as np\n",
    "import pickle\n",
    "import matplotlib.pyplot as plt\n",
    "from scipy import stats\n",
    "import tensorflow as tf\n",
    "import seaborn as sns\n",
    "from pylab import rcParams\n",
    "from sklearn.model_selection import train_test_split\n",
    "from sklearn.preprocessing import StandardScaler\n",
    "from keras.models import Model, load_model\n",
    "from keras.layers import Input, Dense\n",
    "from keras.callbacks import ModelCheckpoint, TensorBoard\n",
    "from keras import regularizers\n",
    "from sklearn.metrics import confusion_matrix"
   ]
  },
  {
   "cell_type": "markdown",
   "metadata": {},
   "source": [
    "## Read Data\n",
    "\n",
    "The original data set is fairly large. To reduce experiment cycle time, a subset of of the data is used here."
   ]
  },
  {
   "cell_type": "code",
   "execution_count": 2,
   "metadata": {},
   "outputs": [],
   "source": [
    "#data = pd.read_csv(\"data/creditcard.csv\")\n",
    "#data = data.head(30000)\n",
    "#data.shape"
   ]
  },
  {
   "cell_type": "code",
   "execution_count": 3,
   "metadata": {},
   "outputs": [],
   "source": [
    "#data.to_csv('data/subset.csv', index=False)"
   ]
  },
  {
   "cell_type": "code",
   "execution_count": 4,
   "metadata": {},
   "outputs": [
    {
     "data": {
      "text/plain": [
       "(30000, 31)"
      ]
     },
     "execution_count": 4,
     "metadata": {},
     "output_type": "execute_result"
    }
   ],
   "source": [
    "data = pd.read_csv(\"data/subset.csv\")\n",
    "data.shape"
   ]
  },
  {
   "cell_type": "markdown",
   "metadata": {},
   "source": [
    "## Data Engineering\n",
    "\n",
    "The Time column is ignored and the Amount is normalized. All other columns remain the same."
   ]
  },
  {
   "cell_type": "code",
   "execution_count": 5,
   "metadata": {},
   "outputs": [],
   "source": [
    "data = data.drop(['Time'], axis=1)\n",
    "data['Amount'] = StandardScaler().fit_transform(data['Amount'].values.reshape(-1, 1))"
   ]
  },
  {
   "cell_type": "code",
   "execution_count": 6,
   "metadata": {},
   "outputs": [
    {
     "data": {
      "text/plain": [
       "(24000, 29)"
      ]
     },
     "execution_count": 6,
     "metadata": {},
     "output_type": "execute_result"
    }
   ],
   "source": [
    "X_train, X_test = train_test_split(data, test_size=0.2)\n",
    "#X_train = X_train[X_train.Class == 0]\n",
    "X_train = X_train.drop(['Class'], axis=1)\n",
    "y_test = X_test['Class']\n",
    "X_test = X_test.drop(['Class'], axis=1)\n",
    "X_train = X_train.values\n",
    "X_test = X_test.values\n",
    "X_train.shape"
   ]
  },
  {
   "cell_type": "markdown",
   "metadata": {},
   "source": [
    "## Autoencoder Model\n",
    "\n",
    "This is a standard dense autoencoder with four layers."
   ]
  },
  {
   "cell_type": "code",
   "execution_count": 7,
   "metadata": {},
   "outputs": [
    {
     "name": "stdout",
     "output_type": "stream",
     "text": [
      "WARNING:tensorflow:From C:\\ProgramData\\Anaconda3\\lib\\site-packages\\tensorflow\\python\\framework\\op_def_library.py:263: colocate_with (from tensorflow.python.framework.ops) is deprecated and will be removed in a future version.\n",
      "Instructions for updating:\n",
      "Colocations handled automatically by placer.\n"
     ]
    }
   ],
   "source": [
    "input_dim = X_train.shape[1]\n",
    "encoding_dim = 14\n",
    "\n",
    "input_layer = Input(shape=(input_dim, ))\n",
    "encoder = Dense(encoding_dim, activation=\"tanh\", \n",
    "                activity_regularizer=regularizers.l1(10e-5))(input_layer)\n",
    "encoder = Dense(int(encoding_dim / 2), activation=\"relu\")(encoder)\n",
    "decoder = Dense(int(encoding_dim / 2), activation='tanh')(encoder)\n",
    "decoder = Dense(input_dim, activation='relu')(decoder)\n",
    "autoencoder = Model(inputs=input_layer, outputs=decoder)"
   ]
  },
  {
   "cell_type": "code",
   "execution_count": 8,
   "metadata": {},
   "outputs": [
    {
     "name": "stdout",
     "output_type": "stream",
     "text": [
      "WARNING:tensorflow:From C:\\ProgramData\\Anaconda3\\lib\\site-packages\\tensorflow\\python\\ops\\math_ops.py:3066: to_int32 (from tensorflow.python.ops.math_ops) is deprecated and will be removed in a future version.\n",
      "Instructions for updating:\n",
      "Use tf.cast instead.\n",
      "Train on 24000 samples, validate on 6000 samples\n",
      "Epoch 1/40\n",
      "24000/24000 [==============================] - 1s 31us/step - loss: 1.1338 - acc: 0.3640 - val_loss: 1.0480 - val_acc: 0.4710\n",
      "Epoch 2/40\n",
      "24000/24000 [==============================] - ETA: 0s - loss: 1.0214 - acc: 0.522 - 1s 27us/step - loss: 1.0214 - acc: 0.5255 - val_loss: 0.9844 - val_acc: 0.5645\n",
      "Epoch 3/40\n",
      "24000/24000 [==============================] - 1s 27us/step - loss: 0.9796 - acc: 0.5774 - val_loss: 0.9558 - val_acc: 0.5913\n",
      "Epoch 4/40\n",
      "24000/24000 [==============================] - 1s 28us/step - loss: 0.9594 - acc: 0.5845 - val_loss: 0.9410 - val_acc: 0.5898\n",
      "Epoch 5/40\n",
      "24000/24000 [==============================] - 1s 26us/step - loss: 0.9474 - acc: 0.5818 - val_loss: 0.9316 - val_acc: 0.5787\n",
      "Epoch 6/40\n",
      "24000/24000 [==============================] - 1s 27us/step - loss: 0.9384 - acc: 0.5775 - val_loss: 0.9205 - val_acc: 0.5838\n",
      "Epoch 7/40\n",
      "24000/24000 [==============================] - 1s 27us/step - loss: 0.9300 - acc: 0.5802 - val_loss: 0.9146 - val_acc: 0.5845\n",
      "Epoch 8/40\n",
      "24000/24000 [==============================] - 1s 26us/step - loss: 0.9219 - acc: 0.5886 - val_loss: 0.9052 - val_acc: 0.6060\n",
      "Epoch 9/40\n",
      "24000/24000 [==============================] - 1s 26us/step - loss: 0.9125 - acc: 0.5960 - val_loss: 0.8973 - val_acc: 0.6048\n",
      "Epoch 10/40\n",
      "24000/24000 [==============================] - 1s 27us/step - loss: 0.9053 - acc: 0.6020 - val_loss: 0.8904 - val_acc: 0.6112\n",
      "Epoch 11/40\n",
      "24000/24000 [==============================] - 1s 26us/step - loss: 0.8996 - acc: 0.6065 - val_loss: 0.8843 - val_acc: 0.6112\n",
      "Epoch 12/40\n",
      "24000/24000 [==============================] - 1s 27us/step - loss: 0.8943 - acc: 0.6080 - val_loss: 0.8824 - val_acc: 0.6043\n",
      "Epoch 13/40\n",
      "24000/24000 [==============================] - 1s 26us/step - loss: 0.8908 - acc: 0.6080 - val_loss: 0.8781 - val_acc: 0.6108\n",
      "Epoch 14/40\n",
      "24000/24000 [==============================] - 1s 26us/step - loss: 0.8885 - acc: 0.6078 - val_loss: 0.8759 - val_acc: 0.6150\n",
      "Epoch 15/40\n",
      "24000/24000 [==============================] - 1s 26us/step - loss: 0.8846 - acc: 0.6106 - val_loss: 0.8743 - val_acc: 0.6022\n",
      "Epoch 16/40\n",
      "24000/24000 [==============================] - 1s 26us/step - loss: 0.8823 - acc: 0.6128 - val_loss: 0.8722 - val_acc: 0.6168\n",
      "Epoch 17/40\n",
      "24000/24000 [==============================] - 1s 27us/step - loss: 0.8808 - acc: 0.6133 - val_loss: 0.8696 - val_acc: 0.6138\n",
      "Epoch 18/40\n",
      "24000/24000 [==============================] - 1s 27us/step - loss: 0.8792 - acc: 0.6138 - val_loss: 0.8704 - val_acc: 0.6078\n",
      "Epoch 19/40\n",
      "24000/24000 [==============================] - 1s 26us/step - loss: 0.8776 - acc: 0.6153 - val_loss: 0.8674 - val_acc: 0.6200\n",
      "Epoch 20/40\n",
      "24000/24000 [==============================] - 1s 26us/step - loss: 0.8759 - acc: 0.6182 - val_loss: 0.8709 - val_acc: 0.6188\n",
      "Epoch 21/40\n",
      "24000/24000 [==============================] - 1s 26us/step - loss: 0.8749 - acc: 0.6200 - val_loss: 0.8662 - val_acc: 0.6240\n",
      "Epoch 22/40\n",
      "24000/24000 [==============================] - 1s 26us/step - loss: 0.8735 - acc: 0.6205 - val_loss: 0.8664 - val_acc: 0.6157\n",
      "Epoch 23/40\n",
      "24000/24000 [==============================] - 1s 26us/step - loss: 0.8724 - acc: 0.6210 - val_loss: 0.8679 - val_acc: 0.6163\n",
      "Epoch 24/40\n",
      "24000/24000 [==============================] - 1s 26us/step - loss: 0.8716 - acc: 0.6213 - val_loss: 0.8641 - val_acc: 0.6230\n",
      "Epoch 25/40\n",
      "24000/24000 [==============================] - 1s 25us/step - loss: 0.8709 - acc: 0.6227 - val_loss: 0.8656 - val_acc: 0.6227\n",
      "Epoch 26/40\n",
      "24000/24000 [==============================] - 1s 27us/step - loss: 0.8695 - acc: 0.6240 - val_loss: 0.8649 - val_acc: 0.6305\n",
      "Epoch 27/40\n",
      "24000/24000 [==============================] - 1s 27us/step - loss: 0.8687 - acc: 0.6265 - val_loss: 0.8657 - val_acc: 0.6303\n",
      "Epoch 28/40\n",
      "24000/24000 [==============================] - 1s 25us/step - loss: 0.8683 - acc: 0.6263 - val_loss: 0.8621 - val_acc: 0.6237\n",
      "Epoch 29/40\n",
      "24000/24000 [==============================] - 1s 26us/step - loss: 0.8681 - acc: 0.6263 - val_loss: 0.8641 - val_acc: 0.6223\n",
      "Epoch 30/40\n",
      "24000/24000 [==============================] - 1s 26us/step - loss: 0.8668 - acc: 0.6267 - val_loss: 0.8611 - val_acc: 0.6220\n",
      "Epoch 31/40\n",
      "24000/24000 [==============================] - 1s 26us/step - loss: 0.8659 - acc: 0.6289 - val_loss: 0.8620 - val_acc: 0.6348\n",
      "Epoch 32/40\n",
      "24000/24000 [==============================] - 1s 27us/step - loss: 0.8660 - acc: 0.6298 - val_loss: 0.8628 - val_acc: 0.6223\n",
      "Epoch 33/40\n",
      "24000/24000 [==============================] - 1s 26us/step - loss: 0.8657 - acc: 0.6273 - val_loss: 0.8600 - val_acc: 0.6328\n",
      "Epoch 34/40\n",
      "24000/24000 [==============================] - 1s 26us/step - loss: 0.8643 - acc: 0.6306 - val_loss: 0.8597 - val_acc: 0.6262\n",
      "Epoch 35/40\n",
      "24000/24000 [==============================] - 1s 25us/step - loss: 0.8642 - acc: 0.6277 - val_loss: 0.8613 - val_acc: 0.6207\n",
      "Epoch 36/40\n",
      "24000/24000 [==============================] - 1s 26us/step - loss: 0.8634 - acc: 0.6284 - val_loss: 0.8596 - val_acc: 0.6237\n",
      "Epoch 37/40\n",
      "24000/24000 [==============================] - 1s 26us/step - loss: 0.8633 - acc: 0.6300 - val_loss: 0.8619 - val_acc: 0.6150\n",
      "Epoch 38/40\n",
      "24000/24000 [==============================] - 1s 26us/step - loss: 0.8645 - acc: 0.6291 - val_loss: 0.8621 - val_acc: 0.6290\n",
      "Epoch 39/40\n",
      "24000/24000 [==============================] - 1s 27us/step - loss: 0.8630 - acc: 0.6315 - val_loss: 0.8601 - val_acc: 0.6315\n",
      "Epoch 40/40\n",
      "24000/24000 [==============================] - 1s 28us/step - loss: 0.8618 - acc: 0.6321 - val_loss: 0.8585 - val_acc: 0.6210\n"
     ]
    }
   ],
   "source": [
    "nb_epoch = 40\n",
    "batch_size = 32\n",
    "\n",
    "autoencoder.compile(optimizer='adam', \n",
    "                    loss='mean_squared_error', \n",
    "                    metrics=['accuracy'])\n",
    "\n",
    "checkpointer = ModelCheckpoint(filepath=\"model.h5\",\n",
    "                               verbose=0,\n",
    "                               save_best_only=True)\n",
    "tensorboard = TensorBoard(log_dir='./logs',\n",
    "                          histogram_freq=0,\n",
    "                          write_graph=True,\n",
    "                          write_images=True)\n",
    "\n",
    "history = autoencoder.fit(X_train, X_train,\n",
    "                    epochs=nb_epoch,\n",
    "                    batch_size=batch_size,\n",
    "                    shuffle=True,\n",
    "                    validation_data=(X_test, X_test),\n",
    "                    verbose=1,\n",
    "                    callbacks=[checkpointer, tensorboard]).history\n",
    "\n",
    "autoencoder = load_model('model.h5')"
   ]
  },
  {
   "cell_type": "markdown",
   "metadata": {},
   "source": [
    "## Model Performance\n",
    "\n",
    "A simple plot of model accuracy to confirm that is learning something."
   ]
  },
  {
   "cell_type": "code",
   "execution_count": 9,
   "metadata": {},
   "outputs": [
    {
     "data": {
      "image/png": "[encoded data removed]",
      "text/plain": [
       "<Figure size 432x288 with 1 Axes>"
      ]
     },
     "metadata": {
      "needs_background": "light"
     },
     "output_type": "display_data"
    }
   ],
   "source": [
    "# summarize history for accuracy\n",
    "plt.plot(history['acc'])\n",
    "plt.title('Model accuracy')\n",
    "plt.ylabel('Accuracy')\n",
    "plt.xlabel('Epoch')\n",
    "plt.legend(['Train'], loc='upper left')\n",
    "plt.show()"
   ]
  },
  {
   "cell_type": "markdown",
   "metadata": {},
   "source": [
    "## Prediction\n",
    "\n",
    "Predictions are made on the test set. The mean-squared error (MSE) is calculated between the test set and their predictions. If the MSE is high, it's a potential irregularity that might suggest fraud. It's not perfect, there will be false positives and false negatives."
   ]
  },
  {
   "cell_type": "code",
   "execution_count": 10,
   "metadata": {},
   "outputs": [],
   "source": [
    "predictions = autoencoder.predict(X_test)\n",
    "mse = np.mean(np.power(X_test - predictions, 2), axis=1)\n",
    "error_df = pd.DataFrame({'reconstruction_error': mse, 'true_class': y_test})"
   ]
  },
  {
   "cell_type": "markdown",
   "metadata": {},
   "source": [
    "## Plot Reconstruction Error\n",
    "\n",
    "The reconstruction error for each sample is plotted long with a color code indicating known fraud. Only 6000 samples are plotted, but the index is randomly sampled from the original set, so the X-axis shows almost the full range of indices."
   ]
  },
  {
   "cell_type": "code",
   "execution_count": 13,
   "metadata": {},
   "outputs": [
    {
     "data": {
      "image/png": "[encoded data removed]",
      "text/plain": [
       "<Figure size 864x576 with 1 Axes>"
      ]
     },
     "metadata": {
      "needs_background": "light"
     },
     "output_type": "display_data"
    }
   ],
   "source": [
    "threshold = 6.0\n",
    "\n",
    "groups = error_df.groupby('true_class')\n",
    "fig, ax = plt.subplots(figsize=(12, 8))\n",
    "\n",
    "for name, group in groups:\n",
    "    ax.plot(group.index, group.reconstruction_error, marker='o', ms=2.0, linestyle='',\n",
    "            label = \"Fraud\" if name == 1 else \"Normal\",\n",
    "            color = \"red\" if name == 1 else \"blue\")\n",
    "ax.hlines(threshold, ax.get_xlim()[0], ax.get_xlim()[1], colors=\"green\", zorder=100, label='Threshold')\n",
    "ax.legend()\n",
    "plt.title(\"Reconstruction error for different classes\")\n",
    "plt.ylabel(\"Reconstruction error\")\n",
    "plt.xlabel(\"Data point index\")\n",
    "plt.show();"
   ]
  },
  {
   "cell_type": "markdown",
   "metadata": {},
   "source": [
    "## Confusion Matrix\n",
    "\n",
    "The confusion matrix below shows the number of true/false positive/negatives. It's not perfect, but not too bad either."
   ]
  },
  {
   "cell_type": "code",
   "execution_count": 14,
   "metadata": {},
   "outputs": [
    {
     "data": {
      "image/png": "[encoded data removed]",
      "text/plain": [
       "<Figure size 432x360 with 2 Axes>"
      ]
     },
     "metadata": {
      "needs_background": "light"
     },
     "output_type": "display_data"
    }
   ],
   "source": [
    "labels = [\"Normal\", \"Fraud\"]\n",
    "\n",
    "y_pred = [1 if e > threshold else 0 for e in error_df.reconstruction_error.values]\n",
    "conf_matrix = confusion_matrix(error_df.true_class, y_pred)\n",
    "\n",
    "plt.figure(figsize=(6, 5))\n",
    "sns.heatmap(conf_matrix, xticklabels=labels, yticklabels=labels, annot=True, fmt=\"d\");\n",
    "plt.title(\"Confusion matrix\")\n",
    "plt.ylabel('True class')\n",
    "plt.xlabel('Predicted class')\n",
    "plt.show()"
   ]
  },
  {
   "cell_type": "code",
   "execution_count": null,
   "metadata": {},
   "outputs": [],
   "source": []
  }
 ],
 "metadata": {
  "kernelspec": {
   "display_name": "Python 3",
   "language": "python",
   "name": "python3"
  },
  "language_info": {
   "codemirror_mode": {
    "name": "ipython",
    "version": 3
   },
   "file_extension": ".py",
   "mimetype": "text/x-python",
   "name": "python",
   "nbconvert_exporter": "python",
   "pygments_lexer": "ipython3",
   "version": "3.6.8"
  }
 },
 "nbformat": 4,
 "nbformat_minor": 2
}
