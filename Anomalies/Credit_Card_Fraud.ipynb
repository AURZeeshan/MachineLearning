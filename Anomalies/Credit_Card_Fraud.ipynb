{
  "nbformat": 4,
  "nbformat_minor": 0,
  "metadata": {
    "kernelspec": {
      "name": "python3",
      "display_name": "Python 3"
    },
    "language_info": {
      "codemirror_mode": {
        "name": "ipython",
        "version": 3
      },
      "file_extension": ".py",
      "mimetype": "text/x-python",
      "name": "python",
      "nbconvert_exporter": "python",
      "pygments_lexer": "ipython3",
      "version": "3.6.8"
    },
    "colab": {
      "name": "Credit_Card_Fraud.ipynb",
      "provenance": []
    }
  },
  "cells": [
    {
      "cell_type": "markdown",
      "metadata": {
        "id": "xohAxkytgvbx",
        "colab_type": "text"
      },
      "source": [
        "# Credit Card Fraud Detection\n",
        "\n",
        "The dataset contains transactions made by credit cards in September 2013 by european cardholders. This dataset represents transactions that occurred in two days, where we have 492 cases of fraud out of 284,807 transactions. The dataset is highly unbalanced, the positive class (known fraudulent transactions) account for only 0.172% of all transactions.\n",
        "\n",
        "An autoencoder is used as an unsupervised model to identify irregularities that might indicate fraud. It is imperfect, but works reasonably well.\n",
        "\n",
        "The data is available on [Kaggle](https://www.kaggle.com/mlg-ulb/creditcardfraud)"
      ]
    },
    {
      "cell_type": "code",
      "metadata": {
        "id": "CyDO4jYDg_nO",
        "colab_type": "code",
        "colab": {}
      },
      "source": [
        "%tensorflow_version 1.x"
      ],
      "execution_count": 0,
      "outputs": []
    },
    {
      "cell_type": "code",
      "metadata": {
        "id": "fPIVi6aGgvb0",
        "colab_type": "code",
        "colab": {}
      },
      "source": [
        "import pandas as pd\n",
        "import numpy as np\n",
        "import matplotlib.pyplot as plt\n",
        "import seaborn as sns\n",
        "from sklearn.model_selection import train_test_split\n",
        "from sklearn.preprocessing import StandardScaler\n",
        "from keras.models import Sequential, load_model\n",
        "from keras.layers import Dense\n",
        "from keras.callbacks import ModelCheckpoint\n",
        "from keras import regularizers\n",
        "from sklearn.metrics import confusion_matrix"
      ],
      "execution_count": 0,
      "outputs": []
    },
    {
      "cell_type": "markdown",
      "metadata": {
        "id": "CqbDAvEbgvb7",
        "colab_type": "text"
      },
      "source": [
        "## Read Data\n",
        "\n",
        "The original data set is fairly large. To reduce experiment cycle time, a subset of of the data is used here. The data is available on [Kaggle](https://www.kaggle.com/mlg-ulb/creditcardfraud), which requires login. If you are using Google Colab, you can download the zip file to your local machine and then upload it into a Google Colab notebook. Pandas can read zip files directly."
      ]
    },
    {
      "cell_type": "code",
      "metadata": {
        "id": "VSEi4bFBgvb8",
        "colab_type": "code",
        "colab": {
          "base_uri": "https://localhost:8080/",
          "height": 35
        },
        "outputId": "066efe12-0072-47c7-ecdd-9895e761a75f"
      },
      "source": [
        "data = pd.read_csv(\"creditcardfraud.zip\")\n",
        "data = data.head(30000)\n",
        "data.shape"
      ],
      "execution_count": 18,
      "outputs": [
        {
          "output_type": "execute_result",
          "data": {
            "text/plain": [
              "(30000, 31)"
            ]
          },
          "metadata": {
            "tags": []
          },
          "execution_count": 18
        }
      ]
    },
    {
      "cell_type": "code",
      "metadata": {
        "id": "awMKKk6dgvb-",
        "colab_type": "code",
        "colab": {}
      },
      "source": [
        "#data.to_csv('data/subset.csv', index=False)"
      ],
      "execution_count": 0,
      "outputs": []
    },
    {
      "cell_type": "code",
      "metadata": {
        "id": "zh-HZs3Gv5c2",
        "colab_type": "code",
        "colab": {
          "base_uri": "https://localhost:8080/",
          "height": 223
        },
        "outputId": "1899e210-0ebf-4500-eb3a-bc7253241f34"
      },
      "source": [
        "data.head()"
      ],
      "execution_count": 20,
      "outputs": [
        {
          "output_type": "execute_result",
          "data": {
            "text/html": [
              "<div>\n",
              "<style scoped>\n",
              "    .dataframe tbody tr th:only-of-type {\n",
              "        vertical-align: middle;\n",
              "    }\n",
              "\n",
              "    .dataframe tbody tr th {\n",
              "        vertical-align: top;\n",
              "    }\n",
              "\n",
              "    .dataframe thead th {\n",
              "        text-align: right;\n",
              "    }\n",
              "</style>\n",
              "<table border=\"1\" class=\"dataframe\">\n",
              "  <thead>\n",
              "    <tr style=\"text-align: right;\">\n",
              "      <th></th>\n",
              "      <th>Time</th>\n",
              "      <th>V1</th>\n",
              "      <th>V2</th>\n",
              "      <th>V3</th>\n",
              "      <th>V4</th>\n",
              "      <th>V5</th>\n",
              "      <th>V6</th>\n",
              "      <th>V7</th>\n",
              "      <th>V8</th>\n",
              "      <th>V9</th>\n",
              "      <th>V10</th>\n",
              "      <th>V11</th>\n",
              "      <th>V12</th>\n",
              "      <th>V13</th>\n",
              "      <th>V14</th>\n",
              "      <th>V15</th>\n",
              "      <th>V16</th>\n",
              "      <th>V17</th>\n",
              "      <th>V18</th>\n",
              "      <th>V19</th>\n",
              "      <th>V20</th>\n",
              "      <th>V21</th>\n",
              "      <th>V22</th>\n",
              "      <th>V23</th>\n",
              "      <th>V24</th>\n",
              "      <th>V25</th>\n",
              "      <th>V26</th>\n",
              "      <th>V27</th>\n",
              "      <th>V28</th>\n",
              "      <th>Amount</th>\n",
              "      <th>Class</th>\n",
              "    </tr>\n",
              "  </thead>\n",
              "  <tbody>\n",
              "    <tr>\n",
              "      <th>0</th>\n",
              "      <td>0.0</td>\n",
              "      <td>-1.359807</td>\n",
              "      <td>-0.072781</td>\n",
              "      <td>2.536347</td>\n",
              "      <td>1.378155</td>\n",
              "      <td>-0.338321</td>\n",
              "      <td>0.462388</td>\n",
              "      <td>0.239599</td>\n",
              "      <td>0.098698</td>\n",
              "      <td>0.363787</td>\n",
              "      <td>0.090794</td>\n",
              "      <td>-0.551600</td>\n",
              "      <td>-0.617801</td>\n",
              "      <td>-0.991390</td>\n",
              "      <td>-0.311169</td>\n",
              "      <td>1.468177</td>\n",
              "      <td>-0.470401</td>\n",
              "      <td>0.207971</td>\n",
              "      <td>0.025791</td>\n",
              "      <td>0.403993</td>\n",
              "      <td>0.251412</td>\n",
              "      <td>-0.018307</td>\n",
              "      <td>0.277838</td>\n",
              "      <td>-0.110474</td>\n",
              "      <td>0.066928</td>\n",
              "      <td>0.128539</td>\n",
              "      <td>-0.189115</td>\n",
              "      <td>0.133558</td>\n",
              "      <td>-0.021053</td>\n",
              "      <td>149.62</td>\n",
              "      <td>0</td>\n",
              "    </tr>\n",
              "    <tr>\n",
              "      <th>1</th>\n",
              "      <td>0.0</td>\n",
              "      <td>1.191857</td>\n",
              "      <td>0.266151</td>\n",
              "      <td>0.166480</td>\n",
              "      <td>0.448154</td>\n",
              "      <td>0.060018</td>\n",
              "      <td>-0.082361</td>\n",
              "      <td>-0.078803</td>\n",
              "      <td>0.085102</td>\n",
              "      <td>-0.255425</td>\n",
              "      <td>-0.166974</td>\n",
              "      <td>1.612727</td>\n",
              "      <td>1.065235</td>\n",
              "      <td>0.489095</td>\n",
              "      <td>-0.143772</td>\n",
              "      <td>0.635558</td>\n",
              "      <td>0.463917</td>\n",
              "      <td>-0.114805</td>\n",
              "      <td>-0.183361</td>\n",
              "      <td>-0.145783</td>\n",
              "      <td>-0.069083</td>\n",
              "      <td>-0.225775</td>\n",
              "      <td>-0.638672</td>\n",
              "      <td>0.101288</td>\n",
              "      <td>-0.339846</td>\n",
              "      <td>0.167170</td>\n",
              "      <td>0.125895</td>\n",
              "      <td>-0.008983</td>\n",
              "      <td>0.014724</td>\n",
              "      <td>2.69</td>\n",
              "      <td>0</td>\n",
              "    </tr>\n",
              "    <tr>\n",
              "      <th>2</th>\n",
              "      <td>1.0</td>\n",
              "      <td>-1.358354</td>\n",
              "      <td>-1.340163</td>\n",
              "      <td>1.773209</td>\n",
              "      <td>0.379780</td>\n",
              "      <td>-0.503198</td>\n",
              "      <td>1.800499</td>\n",
              "      <td>0.791461</td>\n",
              "      <td>0.247676</td>\n",
              "      <td>-1.514654</td>\n",
              "      <td>0.207643</td>\n",
              "      <td>0.624501</td>\n",
              "      <td>0.066084</td>\n",
              "      <td>0.717293</td>\n",
              "      <td>-0.165946</td>\n",
              "      <td>2.345865</td>\n",
              "      <td>-2.890083</td>\n",
              "      <td>1.109969</td>\n",
              "      <td>-0.121359</td>\n",
              "      <td>-2.261857</td>\n",
              "      <td>0.524980</td>\n",
              "      <td>0.247998</td>\n",
              "      <td>0.771679</td>\n",
              "      <td>0.909412</td>\n",
              "      <td>-0.689281</td>\n",
              "      <td>-0.327642</td>\n",
              "      <td>-0.139097</td>\n",
              "      <td>-0.055353</td>\n",
              "      <td>-0.059752</td>\n",
              "      <td>378.66</td>\n",
              "      <td>0</td>\n",
              "    </tr>\n",
              "    <tr>\n",
              "      <th>3</th>\n",
              "      <td>1.0</td>\n",
              "      <td>-0.966272</td>\n",
              "      <td>-0.185226</td>\n",
              "      <td>1.792993</td>\n",
              "      <td>-0.863291</td>\n",
              "      <td>-0.010309</td>\n",
              "      <td>1.247203</td>\n",
              "      <td>0.237609</td>\n",
              "      <td>0.377436</td>\n",
              "      <td>-1.387024</td>\n",
              "      <td>-0.054952</td>\n",
              "      <td>-0.226487</td>\n",
              "      <td>0.178228</td>\n",
              "      <td>0.507757</td>\n",
              "      <td>-0.287924</td>\n",
              "      <td>-0.631418</td>\n",
              "      <td>-1.059647</td>\n",
              "      <td>-0.684093</td>\n",
              "      <td>1.965775</td>\n",
              "      <td>-1.232622</td>\n",
              "      <td>-0.208038</td>\n",
              "      <td>-0.108300</td>\n",
              "      <td>0.005274</td>\n",
              "      <td>-0.190321</td>\n",
              "      <td>-1.175575</td>\n",
              "      <td>0.647376</td>\n",
              "      <td>-0.221929</td>\n",
              "      <td>0.062723</td>\n",
              "      <td>0.061458</td>\n",
              "      <td>123.50</td>\n",
              "      <td>0</td>\n",
              "    </tr>\n",
              "    <tr>\n",
              "      <th>4</th>\n",
              "      <td>2.0</td>\n",
              "      <td>-1.158233</td>\n",
              "      <td>0.877737</td>\n",
              "      <td>1.548718</td>\n",
              "      <td>0.403034</td>\n",
              "      <td>-0.407193</td>\n",
              "      <td>0.095921</td>\n",
              "      <td>0.592941</td>\n",
              "      <td>-0.270533</td>\n",
              "      <td>0.817739</td>\n",
              "      <td>0.753074</td>\n",
              "      <td>-0.822843</td>\n",
              "      <td>0.538196</td>\n",
              "      <td>1.345852</td>\n",
              "      <td>-1.119670</td>\n",
              "      <td>0.175121</td>\n",
              "      <td>-0.451449</td>\n",
              "      <td>-0.237033</td>\n",
              "      <td>-0.038195</td>\n",
              "      <td>0.803487</td>\n",
              "      <td>0.408542</td>\n",
              "      <td>-0.009431</td>\n",
              "      <td>0.798278</td>\n",
              "      <td>-0.137458</td>\n",
              "      <td>0.141267</td>\n",
              "      <td>-0.206010</td>\n",
              "      <td>0.502292</td>\n",
              "      <td>0.219422</td>\n",
              "      <td>0.215153</td>\n",
              "      <td>69.99</td>\n",
              "      <td>0</td>\n",
              "    </tr>\n",
              "  </tbody>\n",
              "</table>\n",
              "</div>"
            ],
            "text/plain": [
              "   Time        V1        V2        V3  ...       V27       V28  Amount  Class\n",
              "0   0.0 -1.359807 -0.072781  2.536347  ...  0.133558 -0.021053  149.62      0\n",
              "1   0.0  1.191857  0.266151  0.166480  ... -0.008983  0.014724    2.69      0\n",
              "2   1.0 -1.358354 -1.340163  1.773209  ... -0.055353 -0.059752  378.66      0\n",
              "3   1.0 -0.966272 -0.185226  1.792993  ...  0.062723  0.061458  123.50      0\n",
              "4   2.0 -1.158233  0.877737  1.548718  ...  0.219422  0.215153   69.99      0\n",
              "\n",
              "[5 rows x 31 columns]"
            ]
          },
          "metadata": {
            "tags": []
          },
          "execution_count": 20
        }
      ]
    },
    {
      "cell_type": "markdown",
      "metadata": {
        "id": "cxjaflpVgvcD",
        "colab_type": "text"
      },
      "source": [
        "## Data Engineering\n",
        "\n",
        "The Time column is ignored and the Amount is normalized. All other columns remain the same."
      ]
    },
    {
      "cell_type": "code",
      "metadata": {
        "id": "JB_FNz-4gvcE",
        "colab_type": "code",
        "colab": {}
      },
      "source": [
        "data = data.drop(['Time'], axis=1)\n",
        "data['Amount'] = StandardScaler().fit_transform(data['Amount'].values.reshape(-1, 1))"
      ],
      "execution_count": 0,
      "outputs": []
    },
    {
      "cell_type": "code",
      "metadata": {
        "id": "3VhZZRvwgvcG",
        "colab_type": "code",
        "colab": {
          "base_uri": "https://localhost:8080/",
          "height": 35
        },
        "outputId": "84231efc-cc0b-415e-c7a4-208880f98782"
      },
      "source": [
        "X_train, X_test = train_test_split(data, test_size=0.2)\n",
        "X_train = X_train.drop(['Class'], axis=1)\n",
        "y_test = X_test['Class']\n",
        "X_test = X_test.drop(['Class'], axis=1)\n",
        "X_train = X_train.values\n",
        "X_test = X_test.values\n",
        "X_train.shape"
      ],
      "execution_count": 22,
      "outputs": [
        {
          "output_type": "execute_result",
          "data": {
            "text/plain": [
              "(24000, 29)"
            ]
          },
          "metadata": {
            "tags": []
          },
          "execution_count": 22
        }
      ]
    },
    {
      "cell_type": "markdown",
      "metadata": {
        "id": "idV-blvXgvcJ",
        "colab_type": "text"
      },
      "source": [
        "## Autoencoder Model\n",
        "\n",
        "This is a standard dense autoencoder with four layers."
      ]
    },
    {
      "cell_type": "code",
      "metadata": {
        "id": "rDTwKbXqln-T",
        "colab_type": "code",
        "colab": {
          "base_uri": "https://localhost:8080/",
          "height": 299
        },
        "outputId": "f08ad6ce-fcdc-4873-e792-8e9b272ecdc1"
      },
      "source": [
        "input_dim = X_train.shape[1]\n",
        "encoding_dim = 14\n",
        "\n",
        "model = Sequential()\n",
        "model.add(Dense(encoding_dim, activation=\"tanh\", activity_regularizer=regularizers.l1(10e-5), input_shape=(input_dim,)))\n",
        "model.add(Dense(int(encoding_dim / 2), activation=\"relu\"))\n",
        "model.add(Dense(int(encoding_dim / 2), activation='tanh'))\n",
        "model.add(Dense(input_dim, activation='relu'))\n",
        "\n",
        "model.summary()"
      ],
      "execution_count": 23,
      "outputs": [
        {
          "output_type": "stream",
          "text": [
            "Model: \"sequential_2\"\n",
            "_________________________________________________________________\n",
            "Layer (type)                 Output Shape              Param #   \n",
            "=================================================================\n",
            "dense_5 (Dense)              (None, 14)                420       \n",
            "_________________________________________________________________\n",
            "dense_6 (Dense)              (None, 7)                 105       \n",
            "_________________________________________________________________\n",
            "dense_7 (Dense)              (None, 7)                 56        \n",
            "_________________________________________________________________\n",
            "dense_8 (Dense)              (None, 29)                232       \n",
            "=================================================================\n",
            "Total params: 813\n",
            "Trainable params: 813\n",
            "Non-trainable params: 0\n",
            "_________________________________________________________________\n"
          ],
          "name": "stdout"
        }
      ]
    },
    {
      "cell_type": "markdown",
      "metadata": {
        "id": "kvOSXfO2yRAF",
        "colab_type": "text"
      },
      "source": [
        "# Model Training\n",
        "\n",
        "Given such a simple model and relatively small data set, it might be faster to train without a GPU."
      ]
    },
    {
      "cell_type": "code",
      "metadata": {
        "id": "sw64M6v7gvcN",
        "colab_type": "code",
        "colab": {
          "base_uri": "https://localhost:8080/",
          "height": 1000
        },
        "outputId": "c42cd84f-3cfe-40ab-8389-f746c47cc782"
      },
      "source": [
        "nb_epoch = 40\n",
        "batch_size = 32\n",
        "\n",
        "model.compile(optimizer='adam', loss='mean_squared_error', metrics=['acc'])\n",
        "\n",
        "checkpointer = ModelCheckpoint(filepath=\"model.h5\", verbose=0, save_best_only=True)\n",
        "\n",
        "history = model.fit(X_train, X_train,\n",
        "                    epochs=nb_epoch,\n",
        "                    batch_size=batch_size,\n",
        "                    shuffle=True,\n",
        "                    validation_data=(X_test, X_test),\n",
        "                    verbose=1,\n",
        "                    callbacks=[checkpointer]).history\n",
        "\n",
        "autoencoder = load_model('model.h5')"
      ],
      "execution_count": 24,
      "outputs": [
        {
          "output_type": "stream",
          "text": [
            "Train on 24000 samples, validate on 6000 samples\n",
            "Epoch 1/40\n",
            "24000/24000 [==============================] - 2s 68us/step - loss: 1.0757 - acc: 0.3317 - val_loss: 1.1928 - val_acc: 0.4483\n",
            "Epoch 2/40\n",
            "24000/24000 [==============================] - 1s 51us/step - loss: 0.9669 - acc: 0.4758 - val_loss: 1.1464 - val_acc: 0.4985\n",
            "Epoch 3/40\n",
            "24000/24000 [==============================] - 1s 51us/step - loss: 0.9295 - acc: 0.5541 - val_loss: 1.1133 - val_acc: 0.5747\n",
            "Epoch 4/40\n",
            "24000/24000 [==============================] - 1s 49us/step - loss: 0.9055 - acc: 0.5883 - val_loss: 1.0942 - val_acc: 0.5837\n",
            "Epoch 5/40\n",
            "24000/24000 [==============================] - 1s 50us/step - loss: 0.8929 - acc: 0.5976 - val_loss: 1.0816 - val_acc: 0.5932\n",
            "Epoch 6/40\n",
            "24000/24000 [==============================] - 1s 50us/step - loss: 0.8844 - acc: 0.6051 - val_loss: 1.0725 - val_acc: 0.6113\n",
            "Epoch 7/40\n",
            "24000/24000 [==============================] - 1s 49us/step - loss: 0.8781 - acc: 0.6092 - val_loss: 1.0646 - val_acc: 0.6117\n",
            "Epoch 8/40\n",
            "24000/24000 [==============================] - 1s 49us/step - loss: 0.8729 - acc: 0.6132 - val_loss: 1.0600 - val_acc: 0.6202\n",
            "Epoch 9/40\n",
            "24000/24000 [==============================] - 1s 50us/step - loss: 0.8694 - acc: 0.6155 - val_loss: 1.0568 - val_acc: 0.6175\n",
            "Epoch 10/40\n",
            "24000/24000 [==============================] - 1s 50us/step - loss: 0.8649 - acc: 0.6196 - val_loss: 1.0505 - val_acc: 0.6268\n",
            "Epoch 11/40\n",
            "24000/24000 [==============================] - 1s 51us/step - loss: 0.8623 - acc: 0.6194 - val_loss: 1.0475 - val_acc: 0.6257\n",
            "Epoch 12/40\n",
            "24000/24000 [==============================] - 1s 50us/step - loss: 0.8596 - acc: 0.6252 - val_loss: 1.0450 - val_acc: 0.6250\n",
            "Epoch 13/40\n",
            "24000/24000 [==============================] - 1s 50us/step - loss: 0.8569 - acc: 0.6237 - val_loss: 1.0398 - val_acc: 0.6370\n",
            "Epoch 14/40\n",
            "24000/24000 [==============================] - 1s 50us/step - loss: 0.8489 - acc: 0.6444 - val_loss: 1.0314 - val_acc: 0.6532\n",
            "Epoch 15/40\n",
            "24000/24000 [==============================] - 1s 51us/step - loss: 0.8419 - acc: 0.6635 - val_loss: 1.0235 - val_acc: 0.6647\n",
            "Epoch 16/40\n",
            "24000/24000 [==============================] - 1s 52us/step - loss: 0.8379 - acc: 0.6759 - val_loss: 1.0192 - val_acc: 0.6827\n",
            "Epoch 17/40\n",
            "24000/24000 [==============================] - 1s 50us/step - loss: 0.8343 - acc: 0.6804 - val_loss: 1.0193 - val_acc: 0.6717\n",
            "Epoch 18/40\n",
            "24000/24000 [==============================] - 1s 51us/step - loss: 0.8319 - acc: 0.6834 - val_loss: 1.0155 - val_acc: 0.6800\n",
            "Epoch 19/40\n",
            "24000/24000 [==============================] - 1s 51us/step - loss: 0.8304 - acc: 0.6864 - val_loss: 1.0114 - val_acc: 0.6912\n",
            "Epoch 20/40\n",
            "24000/24000 [==============================] - 1s 50us/step - loss: 0.8283 - acc: 0.6864 - val_loss: 1.0095 - val_acc: 0.6930\n",
            "Epoch 21/40\n",
            "24000/24000 [==============================] - 1s 53us/step - loss: 0.8269 - acc: 0.6877 - val_loss: 1.0094 - val_acc: 0.6862\n",
            "Epoch 22/40\n",
            "24000/24000 [==============================] - 1s 52us/step - loss: 0.8258 - acc: 0.6882 - val_loss: 1.0078 - val_acc: 0.6965\n",
            "Epoch 23/40\n",
            "24000/24000 [==============================] - 1s 50us/step - loss: 0.8247 - acc: 0.6926 - val_loss: 1.0083 - val_acc: 0.6928\n",
            "Epoch 24/40\n",
            "24000/24000 [==============================] - 1s 51us/step - loss: 0.8237 - acc: 0.6913 - val_loss: 1.0046 - val_acc: 0.6922\n",
            "Epoch 25/40\n",
            "24000/24000 [==============================] - 1s 50us/step - loss: 0.8223 - acc: 0.6916 - val_loss: 1.0027 - val_acc: 0.6905\n",
            "Epoch 26/40\n",
            "24000/24000 [==============================] - 1s 50us/step - loss: 0.8213 - acc: 0.6947 - val_loss: 1.0023 - val_acc: 0.7020\n",
            "Epoch 27/40\n",
            "24000/24000 [==============================] - 1s 52us/step - loss: 0.8207 - acc: 0.6930 - val_loss: 1.0020 - val_acc: 0.6910\n",
            "Epoch 28/40\n",
            "24000/24000 [==============================] - 1s 51us/step - loss: 0.8209 - acc: 0.6911 - val_loss: 1.0023 - val_acc: 0.6983\n",
            "Epoch 29/40\n",
            "24000/24000 [==============================] - 1s 50us/step - loss: 0.8197 - acc: 0.6913 - val_loss: 1.0010 - val_acc: 0.6955\n",
            "Epoch 30/40\n",
            "24000/24000 [==============================] - 1s 51us/step - loss: 0.8184 - acc: 0.6907 - val_loss: 0.9989 - val_acc: 0.6958\n",
            "Epoch 31/40\n",
            "24000/24000 [==============================] - 1s 50us/step - loss: 0.8173 - acc: 0.6901 - val_loss: 0.9984 - val_acc: 0.6953\n",
            "Epoch 32/40\n",
            "24000/24000 [==============================] - 1s 50us/step - loss: 0.8169 - acc: 0.6897 - val_loss: 0.9979 - val_acc: 0.6992\n",
            "Epoch 33/40\n",
            "24000/24000 [==============================] - 1s 51us/step - loss: 0.8155 - acc: 0.6916 - val_loss: 0.9951 - val_acc: 0.6963\n",
            "Epoch 34/40\n",
            "24000/24000 [==============================] - 1s 49us/step - loss: 0.8153 - acc: 0.6919 - val_loss: 0.9951 - val_acc: 0.6958\n",
            "Epoch 35/40\n",
            "24000/24000 [==============================] - 1s 51us/step - loss: 0.8141 - acc: 0.6920 - val_loss: 0.9948 - val_acc: 0.7005\n",
            "Epoch 36/40\n",
            "24000/24000 [==============================] - 1s 50us/step - loss: 0.8148 - acc: 0.6907 - val_loss: 0.9946 - val_acc: 0.6927\n",
            "Epoch 37/40\n",
            "24000/24000 [==============================] - 1s 51us/step - loss: 0.8137 - acc: 0.6945 - val_loss: 0.9933 - val_acc: 0.6960\n",
            "Epoch 38/40\n",
            "24000/24000 [==============================] - 1s 50us/step - loss: 0.8127 - acc: 0.6960 - val_loss: 0.9929 - val_acc: 0.7027\n",
            "Epoch 39/40\n",
            "24000/24000 [==============================] - 1s 50us/step - loss: 0.8128 - acc: 0.6944 - val_loss: 0.9925 - val_acc: 0.7063\n",
            "Epoch 40/40\n",
            "24000/24000 [==============================] - 1s 52us/step - loss: 0.8120 - acc: 0.6945 - val_loss: 0.9929 - val_acc: 0.6997\n"
          ],
          "name": "stdout"
        }
      ]
    },
    {
      "cell_type": "markdown",
      "metadata": {
        "id": "jOreexr_gvcP",
        "colab_type": "text"
      },
      "source": [
        "## Model Performance\n",
        "\n",
        "A simple plot of model accuracy to confirm that it is learning something."
      ]
    },
    {
      "cell_type": "code",
      "metadata": {
        "id": "KU1Y1-12gvcQ",
        "colab_type": "code",
        "colab": {
          "base_uri": "https://localhost:8080/",
          "height": 295
        },
        "outputId": "4f05d5d3-e925-4120-fef3-143321ac25d9"
      },
      "source": [
        "# summarize history for accuracy\n",
        "plt.plot(history['acc'])\n",
        "plt.title('Model accuracy')\n",
        "plt.ylabel('Accuracy')\n",
        "plt.xlabel('Epoch')\n",
        "plt.legend(['Train'], loc='upper left')\n",
        "plt.show()"
      ],
      "execution_count": 25,
      "outputs": [
        {
          "output_type": "display_data",
          "data": {
            "image/png": "[encoded data removed]",
            "text/plain": [
              "<Figure size 432x288 with 1 Axes>"
            ]
          },
          "metadata": {
            "tags": []
          }
        }
      ]
    },
    {
      "cell_type": "markdown",
      "metadata": {
        "id": "EK8OLAVegvcT",
        "colab_type": "text"
      },
      "source": [
        "## Prediction\n",
        "\n",
        "Predictions are made on the test set. The mean-squared error (MSE) is calculated between the test set and their predictions. If the MSE is high, it's a potential irregularity that might suggest fraud. It's not perfect, there will be false positives and false negatives."
      ]
    },
    {
      "cell_type": "code",
      "metadata": {
        "id": "pedvVXtngvcU",
        "colab_type": "code",
        "colab": {}
      },
      "source": [
        "predictions = autoencoder.predict(X_test)\n",
        "mse = np.mean(np.power(X_test - predictions, 2), axis=1)\n",
        "error_df = pd.DataFrame({'reconstruction_error': mse, 'true_class': y_test})"
      ],
      "execution_count": 0,
      "outputs": []
    },
    {
      "cell_type": "markdown",
      "metadata": {
        "id": "IXPep-KbgvcX",
        "colab_type": "text"
      },
      "source": [
        "## Plot Reconstruction Error\n",
        "\n",
        "The reconstruction error for each sample is plotted long with a color code indicating known fraud. Only 6000 samples are plotted, but the index is randomly sampled from the original set, so the X-axis shows almost the full range of indices."
      ]
    },
    {
      "cell_type": "code",
      "metadata": {
        "id": "O3TXPKJIgvcX",
        "colab_type": "code",
        "colab": {
          "base_uri": "https://localhost:8080/",
          "height": 513
        },
        "outputId": "4eecdaf5-beb3-4d26-a182-c49b2bb5b84e"
      },
      "source": [
        "threshold = 6.0\n",
        "\n",
        "groups = error_df.groupby('true_class')\n",
        "fig, ax = plt.subplots(figsize=(12, 8))\n",
        "\n",
        "for name, group in groups:\n",
        "    ax.plot(group.index, group.reconstruction_error, marker='o', ms=2.0, linestyle='',\n",
        "            label = \"Fraud\" if name == 1 else \"Normal\",\n",
        "            color = \"red\" if name == 1 else \"blue\")\n",
        "ax.hlines(threshold, ax.get_xlim()[0], ax.get_xlim()[1], colors=\"green\", zorder=100, label='Threshold')\n",
        "ax.legend()\n",
        "plt.title(\"Reconstruction error for different classes\")\n",
        "plt.ylabel(\"Reconstruction error\")\n",
        "plt.xlabel(\"Data point index\")\n",
        "plt.show();"
      ],
      "execution_count": 27,
      "outputs": [
        {
          "output_type": "display_data",
          "data": {
            "image/png": "[encoded data removed]",
            "text/plain": [
              "<Figure size 864x576 with 1 Axes>"
            ]
          },
          "metadata": {
            "tags": []
          }
        }
      ]
    },
    {
      "cell_type": "markdown",
      "metadata": {
        "id": "FbU9T7gMgvca",
        "colab_type": "text"
      },
      "source": [
        "## Confusion Matrix\n",
        "\n",
        "The confusion matrix below shows the number of true/false positive/negatives. It's not perfect, but not too bad either."
      ]
    },
    {
      "cell_type": "code",
      "metadata": {
        "id": "zb_Azs0Xgvcb",
        "colab_type": "code",
        "colab": {
          "base_uri": "https://localhost:8080/",
          "height": 350
        },
        "outputId": "13e4d1e3-4208-4675-8925-bd7af725b493"
      },
      "source": [
        "labels = [\"Normal\", \"Fraud\"]\n",
        "\n",
        "y_pred = [1 if e > threshold else 0 for e in error_df.reconstruction_error.values]\n",
        "conf_matrix = confusion_matrix(error_df.true_class, y_pred)\n",
        "\n",
        "plt.figure(figsize=(6, 5))\n",
        "sns.heatmap(conf_matrix, xticklabels=labels, yticklabels=labels, annot=True, fmt=\"d\");\n",
        "plt.title(\"Confusion matrix\")\n",
        "plt.ylabel('True class')\n",
        "plt.xlabel('Predicted class')\n",
        "plt.show()"
      ],
      "execution_count": 28,
      "outputs": [
        {
          "output_type": "display_data",
          "data": {
            "image/png": "[encoded data removed]",
            "text/plain": [
              "<Figure size 432x360 with 2 Axes>"
            ]
          },
          "metadata": {
            "tags": []
          }
        }
      ]
    },
    {
      "cell_type": "code",
      "metadata": {
        "id": "YcYrqCvrgvce",
        "colab_type": "code",
        "colab": {
          "base_uri": "https://localhost:8080/",
          "height": 35
        },
        "outputId": "606a3c2e-1220-4f6c-ade3-c80ce7a1a406"
      },
      "source": [
        "normal = error_df[error_df.true_class == 0]\n",
        "fraud = error_df[error_df.true_class == 1]\n",
        "\n",
        "print('Normal transactions: %d, fraud transactions: %d' % (len(normal), len(fraud)))"
      ],
      "execution_count": 29,
      "outputs": [
        {
          "output_type": "stream",
          "text": [
            "Normal transactions: 5975, fraud transactions: 25\n"
          ],
          "name": "stdout"
        }
      ]
    },
    {
      "cell_type": "markdown",
      "metadata": {
        "id": "e4JxXgvyxJku",
        "colab_type": "text"
      },
      "source": [
        "# Analysis\n",
        "\n",
        "Given the known fraud transactions, we can determine the number of true/false positives and negatives. Ideally, there should be no false positives and false negatives, but this is an imperfect model. Let's see how well it does."
      ]
    },
    {
      "cell_type": "code",
      "metadata": {
        "id": "1ySewU_gsZBZ",
        "colab_type": "code",
        "colab": {
          "base_uri": "https://localhost:8080/",
          "height": 52
        },
        "outputId": "be9d90e9-c938-4130-8f07-4581250154de"
      },
      "source": [
        "true_positives = len(fraud[fraud.reconstruction_error >= threshold])\n",
        "false_positives = len(normal[normal.reconstruction_error >= threshold])\n",
        "\n",
        "true_negatives = len(normal[normal.reconstruction_error < threshold])\n",
        "false_negatives = len(fraud[fraud.reconstruction_error < threshold])\n",
        "\n",
        "print('True positives: %d, true negatives: %d' % (true_positives, true_negatives))\n",
        "print('False positives: %d, false negatives: %d' % (false_positives, false_negatives))"
      ],
      "execution_count": 30,
      "outputs": [
        {
          "output_type": "stream",
          "text": [
            "True positives: 22, true negatives: 5901\n",
            "False positives: 74, false negatives: 3\n"
          ],
          "name": "stdout"
        }
      ]
    }
  ]
}