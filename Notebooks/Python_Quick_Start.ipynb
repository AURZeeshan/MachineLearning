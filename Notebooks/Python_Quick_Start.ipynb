{
 "cells": [
  {
   "cell_type": "markdown",
   "metadata": {
    "colab_type": "text",
    "id": "2EQ3aMz5KrjT"
   },
   "source": [
    "# Python Quick Start\n",
    "\n",
    "Python is a popular programming language used for many applications. Interestingly, it is widely used for machine learning. This is due in part to it's simple syntax, interactive nature, and numerous machine learning libraries. It's easy to quickly test things out, which is important during data analysis or model development.\n",
    "\n",
    "We will focus on Python 3 here."
   ]
  },
  {
   "cell_type": "markdown",
   "metadata": {
    "colab_type": "text",
    "id": "HHHYgpbFL4-N"
   },
   "source": [
    "## Basic Syntax\n",
    "\n",
    "[Data types](https://docs.python.org/3.4/reference/datamodel.html), [operators](https://docs.python.org/3.4/library/operator.html), and variables. Python is interactive, so we can try things out by just entering code and running it in this notebook."
   ]
  },
  {
   "cell_type": "code",
   "execution_count": null,
   "metadata": {
    "colab": {},
    "colab_type": "code",
    "id": "e8wn727POHDT"
   },
   "outputs": [],
   "source": [
    "# Numbers, e.g. int, float, bool, complex\n",
    "\n",
    "11"
   ]
  },
  {
   "cell_type": "code",
   "execution_count": null,
   "metadata": {
    "colab": {},
    "colab_type": "code",
    "id": "RPm4AG4kbEw0"
   },
   "outputs": [],
   "source": [
    "3.1415926535897"
   ]
  },
  {
   "cell_type": "code",
   "execution_count": null,
   "metadata": {
    "colab": {},
    "colab_type": "code",
    "id": "bE7teAo0bIPE"
   },
   "outputs": [],
   "source": [
    "True"
   ]
  },
  {
   "cell_type": "code",
   "execution_count": null,
   "metadata": {
    "colab": {},
    "colab_type": "code",
    "id": "qGOImoA2bKHa"
   },
   "outputs": [],
   "source": [
    "# Complex or imaginary numbers\n",
    "\n",
    "1+2j"
   ]
  },
  {
   "cell_type": "code",
   "execution_count": null,
   "metadata": {
    "colab": {},
    "colab_type": "code",
    "id": "IzEjfhsSG5MP"
   },
   "outputs": [],
   "source": [
    "# None is similar to null on other languages\n",
    "\n",
    "a = None\n",
    "print(a)"
   ]
  },
  {
   "cell_type": "code",
   "execution_count": null,
   "metadata": {
    "colab": {},
    "colab_type": "code",
    "id": "3bGPFjxJUjla"
   },
   "outputs": [],
   "source": [
    "# type() can tell us the type of a variable\n",
    "\n",
    "a = 12.0\n",
    "type(a)"
   ]
  },
  {
   "cell_type": "code",
   "execution_count": null,
   "metadata": {
    "colab": {},
    "colab_type": "code",
    "id": "6J9HxRECRiDi"
   },
   "outputs": [],
   "source": [
    "# Strings can be defined with single or double quotes\n",
    "\n",
    "'This is a string'"
   ]
  },
  {
   "cell_type": "code",
   "execution_count": null,
   "metadata": {
    "colab": {},
    "colab_type": "code",
    "id": "6iel--V5Rod7"
   },
   "outputs": [],
   "source": [
    "\"This is also a string\""
   ]
  },
  {
   "cell_type": "code",
   "execution_count": null,
   "metadata": {
    "colab": {},
    "colab_type": "code",
    "id": "DkCP-uPTRsO4"
   },
   "outputs": [],
   "source": [
    "# Get the length of a string\n",
    "\n",
    "len('some string')"
   ]
  },
  {
   "cell_type": "code",
   "execution_count": null,
   "metadata": {
    "colab": {},
    "colab_type": "code",
    "id": "vGnLAm1OR1L6"
   },
   "outputs": [],
   "source": [
    "# Select a character within a string\n",
    "\n",
    "a = 'some string'\n",
    "a[0]"
   ]
  },
  {
   "cell_type": "code",
   "execution_count": null,
   "metadata": {
    "colab": {},
    "colab_type": "code",
    "id": "OwtwX0K6SgVz"
   },
   "outputs": [],
   "source": [
    "# Python checks array bounds\n",
    "\n",
    "a = 'some string'\n",
    "a[20]"
   ]
  },
  {
   "cell_type": "code",
   "execution_count": null,
   "metadata": {
    "colab": {},
    "colab_type": "code",
    "id": "xKZ3jhLISNzA"
   },
   "outputs": [],
   "source": [
    "# Negative indexes select from the end\n",
    "\n",
    "a = 'some string'\n",
    "a[-1]"
   ]
  },
  {
   "cell_type": "code",
   "execution_count": null,
   "metadata": {
    "colab": {},
    "colab_type": "code",
    "id": "Osb-GVD7SBHh"
   },
   "outputs": [],
   "source": [
    "# Select a range of characters, uses a left closed, right open interval\n",
    "\n",
    "a = 'some string'\n",
    "a[0:5]"
   ]
  },
  {
   "cell_type": "code",
   "execution_count": null,
   "metadata": {
    "colab": {},
    "colab_type": "code",
    "id": "14ciHg-BSava"
   },
   "outputs": [],
   "source": [
    "# Negative index work with ranges also\n",
    "\n",
    "a = 'some string'\n",
    "a[5:-2]"
   ]
  },
  {
   "cell_type": "markdown",
   "metadata": {
    "colab_type": "text",
    "id": "Kd3FLpHXaT2N"
   },
   "source": [
    "### String formatting\n",
    "\n",
    "Python supports multiple styles of string formatting:\n",
    "\n",
    "\n",
    "*   [printf](https://docs.python.org/3/library/stdtypes.html#printf-style-string-formatting)\n",
    "*   [format()](https://docs.python.org/3.4/library/string.html#formatspec)\n",
    "\n"
   ]
  },
  {
   "cell_type": "code",
   "execution_count": null,
   "metadata": {
    "colab": {},
    "colab_type": "code",
    "id": "AVtaLbChTXc2"
   },
   "outputs": [],
   "source": [
    "# printf style formatting\n",
    "\n",
    "answer = 42\n",
    "'The answer to the ultimate question of life, the universe, and everything is %d' % answer"
   ]
  },
  {
   "cell_type": "markdown",
   "metadata": {
    "colab_type": "text",
    "id": "5m4XM7qjWfJo"
   },
   "source": [
    "### Type Conversion"
   ]
  },
  {
   "cell_type": "code",
   "execution_count": null,
   "metadata": {
    "colab": {},
    "colab_type": "code",
    "id": "JMzoX-ipWkcA"
   },
   "outputs": [],
   "source": [
    "pi = 3.1415926535897\n",
    "type(pi)"
   ]
  },
  {
   "cell_type": "code",
   "execution_count": null,
   "metadata": {
    "colab": {},
    "colab_type": "code",
    "id": "0BBZv2o4Wu6g"
   },
   "outputs": [],
   "source": [
    "int(pi)"
   ]
  },
  {
   "cell_type": "code",
   "execution_count": null,
   "metadata": {
    "colab": {},
    "colab_type": "code",
    "id": "FzbZ1NQ4W-Xg"
   },
   "outputs": [],
   "source": [
    "complex(pi)"
   ]
  },
  {
   "cell_type": "code",
   "execution_count": null,
   "metadata": {
    "colab": {},
    "colab_type": "code",
    "id": "4avOgb6iWxrx"
   },
   "outputs": [],
   "source": [
    "int('42')"
   ]
  },
  {
   "cell_type": "code",
   "execution_count": null,
   "metadata": {
    "colab": {},
    "colab_type": "code",
    "id": "bSgBvoNeW3hJ"
   },
   "outputs": [],
   "source": [
    "str(42)"
   ]
  },
  {
   "cell_type": "code",
   "execution_count": null,
   "metadata": {
    "colab": {},
    "colab_type": "code",
    "id": "epmKkhMIGo8I"
   },
   "outputs": [],
   "source": [
    "bool(0)"
   ]
  },
  {
   "cell_type": "markdown",
   "metadata": {
    "colab_type": "text",
    "id": "MiNZ8-THMGaQ"
   },
   "source": [
    "## Data Structures\n",
    "\n",
    "Lists, Hashes, Tuples, Sets"
   ]
  },
  {
   "cell_type": "code",
   "execution_count": null,
   "metadata": {
    "colab": {},
    "colab_type": "code",
    "id": "n6zfxlBYQwqc"
   },
   "outputs": [],
   "source": [
    "[1, 2, 3]"
   ]
  },
  {
   "cell_type": "code",
   "execution_count": null,
   "metadata": {
    "colab": {},
    "colab_type": "code",
    "id": "wgIvI40zQ2iJ"
   },
   "outputs": [],
   "source": [
    "a = [1, 2, 3]\n",
    "len(a)"
   ]
  },
  {
   "cell_type": "code",
   "execution_count": null,
   "metadata": {
    "colab": {},
    "colab_type": "code",
    "id": "33i5smW9HadB"
   },
   "outputs": [],
   "source": [
    "# Add two lists\n",
    "\n",
    "a = [1, 2, 3]\n",
    "b = [7, 8, 9]\n",
    "\n",
    "a+b"
   ]
  },
  {
   "cell_type": "code",
   "execution_count": null,
   "metadata": {
    "colab": {},
    "colab_type": "code",
    "id": "sN4Oe48mHkkw"
   },
   "outputs": [],
   "source": [
    "# List comprehension\n",
    "\n",
    "a = [2*i for i in range(10)]\n",
    "a"
   ]
  },
  {
   "cell_type": "code",
   "execution_count": null,
   "metadata": {
    "colab": {},
    "colab_type": "code",
    "id": "4C1d30LxHsK4"
   },
   "outputs": [],
   "source": [
    "# Reverse a list\n",
    "\n",
    "a = [2*i for i in range(10)]\n",
    "a.reverse()\n",
    "a"
   ]
  },
  {
   "cell_type": "code",
   "execution_count": null,
   "metadata": {
    "colab": {},
    "colab_type": "code",
    "id": "SSERRxx8Ic4c"
   },
   "outputs": [],
   "source": [
    "a.sort()\n",
    "a"
   ]
  },
  {
   "cell_type": "markdown",
   "metadata": {
    "colab_type": "text",
    "id": "4TmkBx4nL-lr"
   },
   "source": [
    "## Flow Control\n",
    "\n",
    "If, for, and while. Spaces or tabs are used to group statements together. Unlike many languages today, whitespace is significant in Python."
   ]
  },
  {
   "cell_type": "markdown",
   "metadata": {
    "colab_type": "text",
    "id": "zH7zPFeoMCU6"
   },
   "source": [
    "## Functions and Methods\n",
    "\n",
    "Functions and methods are similar, but differ slightly."
   ]
  },
  {
   "cell_type": "code",
   "execution_count": null,
   "metadata": {
    "colab": {},
    "colab_type": "code",
    "id": "2BS31fldUKDz"
   },
   "outputs": [],
   "source": [
    "# len() is a method\n",
    "\n",
    "a = 'some string'\n",
    "len(a)"
   ]
  },
  {
   "cell_type": "code",
   "execution_count": null,
   "metadata": {
    "colab": {},
    "colab_type": "code",
    "id": "bL_N3deVUQWK"
   },
   "outputs": [],
   "source": [
    "# upper() is a method\n",
    "\n",
    "a = 'some string'\n",
    "a.upper()"
   ]
  },
  {
   "cell_type": "code",
   "execution_count": null,
   "metadata": {
    "colab": {},
    "colab_type": "code",
    "id": "e2ps7j1TUe4Z"
   },
   "outputs": [],
   "source": [
    "# dir() lists attributes and methods of an object\n",
    "\n",
    "a = 'some string'\n",
    "dir(a)"
   ]
  },
  {
   "cell_type": "code",
   "execution_count": null,
   "metadata": {
    "colab": {},
    "colab_type": "code",
    "id": "pVXM5ZACVhnT"
   },
   "outputs": [],
   "source": [
    "# Use def to define a function\n",
    "\n",
    "def average(array):\n",
    "  n = len(array)\n",
    "  total = 0.0\n",
    "  for a in array:\n",
    "    total = total + a\n",
    "  return total / n\n",
    "\n",
    "average([1, 2, 3])"
   ]
  },
  {
   "cell_type": "code",
   "execution_count": null,
   "metadata": {
    "colab": {},
    "colab_type": "code",
    "id": "bSC0VjeDXNXY"
   },
   "outputs": [],
   "source": [
    "# Functions can return tuples\n",
    "\n",
    "def statistics(array):\n",
    "  avg = average(array)\n",
    "  n = len(array)\n",
    "  total = 0.0\n",
    "  for a in array:\n",
    "    variance = a - avg\n",
    "    total += variance ** 2\n",
    "  stddev = total / n\n",
    "  return (avg, stddev)\n",
    "\n",
    "statistics([1, 2, 3])"
   ]
  },
  {
   "cell_type": "code",
   "execution_count": null,
   "metadata": {
    "colab": {},
    "colab_type": "code",
    "id": "6NbDMklxX-hs"
   },
   "outputs": [],
   "source": [
    "# Assign to a tuple\n",
    "\n",
    "(avg, stddev) = statistics([1, 2, 3])\n",
    "print('The average is %.2f and the standard deviation is %.2f' % (avg, stddev))"
   ]
  },
  {
   "cell_type": "markdown",
   "metadata": {
    "colab_type": "text",
    "id": "6D7CKgOPQSzF"
   },
   "source": [
    "## Classes\n",
    "\n",
    "Use the class keyword to define classses."
   ]
  },
  {
   "cell_type": "code",
   "execution_count": null,
   "metadata": {
    "colab": {},
    "colab_type": "code",
    "id": "9ztIx4IjKqvW"
   },
   "outputs": [],
   "source": [
    "class BankAccount(object):\n",
    "  def __init__(self, accountNumber, initialBalance, interestRate):\n",
    "    self.accountNumber = accountNumber\n",
    "    self.balance = initialBalance\n",
    "    self.interestRate = interestRate\n",
    "  \n",
    "  def deposit(self, amount):\n",
    "    self.balance += amount\n",
    "  \n",
    "  def withdraw(self, amount):\n",
    "    if self.balance >= amount:\n",
    "      self.balance -= amount\n",
    "      return self.balance\n",
    "    raise Exception('Insufficient balance for withdrawal: only %.2f in account %d' % (self.balance, self.accountNumber))\n",
    "  \n",
    "  def addInterest(self):\n",
    "    self.balance *= 1.0 + self.interestRate/100.0\n",
    "  \n",
    "  def transferTo(self, otherAccount, amount):\n",
    "    otherAccount.deposit(self.withdraw(amount))\n",
    "  \n",
    "  def __str__(self):\n",
    "    return 'Account %d, balance: %.2f' % (self.accountNumber, self.balance)"
   ]
  },
  {
   "cell_type": "code",
   "execution_count": null,
   "metadata": {
    "colab": {},
    "colab_type": "code",
    "id": "RR7vPMAtDh-7"
   },
   "outputs": [],
   "source": [
    "checking = BankAccount(101, 100.0, 1.0)\n",
    "savings = BankAccount(201, 1000.0, 5.0)\n",
    "\n",
    "print(checking)\n",
    "print(savings)\n",
    "checking.addInterest()\n",
    "savings.addInterest()\n",
    "\n",
    "savings.transferTo(checking, 500)\n",
    "\n",
    "print(checking)\n",
    "print(savings)\n",
    "\n",
    "savings.transferTo(checking, 1000)"
   ]
  },
  {
   "cell_type": "markdown",
   "metadata": {
    "colab_type": "text",
    "id": "URDoWEMQJEdg"
   },
   "source": [
    "## Reading and Writing files"
   ]
  },
  {
   "cell_type": "code",
   "execution_count": null,
   "metadata": {
    "colab": {},
    "colab_type": "code",
    "id": "A_v0ZAX6JIwf"
   },
   "outputs": [],
   "source": [
    "# Write a file, 'w' opens a file for writing, 'a' appends to an existing file\n",
    "\n",
    "with open('somefile.txt', 'w') as f:\n",
    "  f.write('First line\\n')\n",
    "  f.write('Second line\\n')"
   ]
  },
  {
   "cell_type": "code",
   "execution_count": null,
   "metadata": {
    "colab": {},
    "colab_type": "code",
    "id": "jx3mqmASJt_X"
   },
   "outputs": [],
   "source": [
    "# strip() removes the trailing \\n\n",
    "\n",
    "with open('somefile.txt') as f:\n",
    "  print(f.readline().strip())"
   ]
  },
  {
   "cell_type": "code",
   "execution_count": null,
   "metadata": {
    "colab": {},
    "colab_type": "code",
    "id": "k2lTneQUKRfD"
   },
   "outputs": [],
   "source": [
    "with open('somefile.txt') as f:\n",
    "  print(f.readlines())"
   ]
  },
  {
   "cell_type": "markdown",
   "metadata": {
    "colab_type": "text",
    "id": "cxv30sH9bm4N"
   },
   "source": [
    "## Modules\n",
    "\n",
    "[import](https://docs.python.org/3/reference/simple_stmts.html#import) can be used to refer to modules."
   ]
  },
  {
   "cell_type": "code",
   "execution_count": null,
   "metadata": {
    "colab": {},
    "colab_type": "code",
    "id": "pYjERSx-bmQJ"
   },
   "outputs": [],
   "source": []
  }
 ],
 "metadata": {
  "colab": {
   "collapsed_sections": [],
   "name": "Python Quick Start.ipynb",
   "provenance": []
  },
  "kernelspec": {
   "display_name": "Python 3",
   "language": "python",
   "name": "python3"
  },
  "language_info": {
   "codemirror_mode": {
    "name": "ipython",
    "version": 3
   },
   "file_extension": ".py",
   "mimetype": "text/x-python",
   "name": "python",
   "nbconvert_exporter": "python",
   "pygments_lexer": "ipython3",
   "version": "3.6.8"
  }
 },
 "nbformat": 4,
 "nbformat_minor": 1
}
