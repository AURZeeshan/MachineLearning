{
 "cells": [
  {
   "cell_type": "markdown",
   "metadata": {},
   "source": [
    "# The Great Pyramid\n",
    "\n",
    "This is an estimate of the number of people needed to build the [great pyramid](https://en.wikipedia.org/wiki/Great_Pyramid_of_Giza) using basic physics, such as force, energy, and power. It relies solely on reasonable estimates of known dimensions of the great pyramid and typical human labor capacity.\n",
    "\n",
    "The dimensions of the great pyramid are shown below:\n",
    "\n",
    "![Pyramid](https://www.cheops-pyramide.ch/khufu-pyramid/great-pyramid/stonelayers.gif \"https://www.cheops-pyramide.ch/khufu-pyramid/khufu-numbers.html\")\n",
    "\n",
    "For simplicity, this analysis will assume a step-wise build of five courses with these parameters:\n",
    "\n",
    "| Parameter | Value |\n",
    "| ----- | ----:|\n",
    "| Total number of stones| 2.5 million |\n",
    "| Average mass of each stone | 2.5 tons |\n",
    "| Total build time | 20 years |\n",
    "| Power per man available | 200 Calories/day |\n",
    "| Active build rate | 3 months/year |\n",
    "| Pyramid slope | 53 degrees |\n",
    "| Limestone coefficient of friction | 0.3 |\n",
    "\n",
    "| Course | Height | Amount of Material |\n",
    "| ------ |:------:| ------------------:|\n",
    "| 1 | 15m | 30% |\n",
    "| 2 | 30m | 22% |\n",
    "| 3 | 50m | 30% |\n",
    "| 4 | 100m | 15% |\n",
    "| 5 | 146m | 3% |"
   ]
  },
  {
   "cell_type": "markdown",
   "metadata": {},
   "source": [
    "# Pulling Force\n",
    "\n",
    "It is possible for a crew of men to stand on top of one course and simply pull a single stone up the side of a pyramid covered with smooth casing stones.  It is expected that smooth casing stones were added at the same time each layer of rough blocks were added, which is very likely. This simple approach does not require large ramps, elaborate machines, deep knowledge, or alien intervention. It just requires many crews of men pulling on ropes attached to rough stones. Of course, a number of additional crews are needed to place stones and align stones properly, but the solutions to those problems are well solved.\n",
    "\n",
    "This analysis focuses solely on the rigging problem of raising stones to the proper level just prior to final placement.\n",
    "\n",
    "The force required to pull one stone up the side of the pyramid is\n",
    "\n",
    "$$ F_p = m_s g (sin \\theta + \\mu cos \\theta)$$\n",
    "\n",
    "Where $m_s$ is the mass of one stone, $g$ is acceleration of gravity, $\\theta$ is the pyramid slope, and $\\mu$ is the coefficient of friction.\n",
    "\n",
    "Give the parameters above, the pulling force is\n",
    "\n",
    "$$ F_p \\approx 21778 N  $$\n",
    "\n",
    "or\n",
    "\n",
    "$$ F_p \\approx 4896 lb $$"
   ]
  },
  {
   "cell_type": "markdown",
   "metadata": {},
   "source": [
    "# Energy to Raise Stones\n",
    "\n",
    "The energy to raise a single stone to given height $h$ is\n",
    "\n",
    "$$ E_s = \\frac{F_p h}{sin \\theta} $$\n",
    "\n",
    "For all stones the total energy is\n",
    "\n",
    "$$ E_t = \\frac{F_p h N_s}{sin \\theta} (15m \\times 0.3 + 30m \\times 0.22 + 50m \\times 0.3 + 100m \\times 0.15 + 146m \\times 0.03) $$\n",
    "\n",
    "This is a simple, conservative estimate. A more accurate estimate can be made considering all 210 layers, but that is left as an exercise to the reader.\n",
    "\n",
    "The total energy is\n",
    "\n",
    "$$ E_t \\approx 3.1 \\times 10^{12} J $$\n",
    "\n",
    "or\n",
    "\n",
    "$$ E_t \\approx 7.4 \\times 10^8 {kcal} $$"
   ]
  },
  {
   "cell_type": "markdown",
   "metadata": {},
   "source": [
    "# Average Power\n",
    "\n",
    "The average power required to raise all stones is\n",
    "\n",
    "$$ P_{avg} = \\frac{E_t}{t} $$\n",
    "\n",
    "In watts, the value is:\n",
    "\n",
    "$$ P_{avg} \\approx 4913 W $$\n",
    "\n",
    "In horse power:\n",
    "\n",
    "$$ P_{avg} \\approx 6.6 {HP} $$\n",
    "\n",
    "This surprisingly modest number is due to the 20 year build time for the pyramid. Even though the size of the pyramid is staggering, the build time is equally large.\n",
    "\n",
    "Humans are not efficient machines. Given a modest diet, we can expect maybe 200 calories/day of useful work, which is an average power of 9.7 Watts."
   ]
  },
  {
   "cell_type": "markdown",
   "metadata": {},
   "source": [
    "# Workforce Size\n",
    "\n",
    "Assuming work is performed only one season a year, the total number of workers required to raise all blocks is\n",
    "\n",
    "$$ N_w = 4 \\frac{P_{avg}}{P_w} $$\n",
    "\n",
    "$$ N_w \\approx 2028 $$\n",
    "\n",
    "Other estimates of total workforce are about 10 times this value, which makes sense given the many other tasks, such as cutting and transporting stones, finish work, food preparation, management, accounting, and other support activities.\n",
    "\n",
    "To lift a single stone, a crew of men would be required to raise each stone. Assuming each man can lift 75 lbs, the size of lifting crew is\n",
    "\n",
    "$$ N_{lc} = \\frac{F_p}{75 lb} $$\n",
    "\n",
    "$$ N_{lc} \\approx 65 $$\n",
    "\n",
    "That's 65 workers per lifting crew. The number of crews is\n",
    "\n",
    "$$ N_c = \\frac{N_w}{N_{lc}} $$\n",
    "\n",
    "So about 31 concurrent crews are required just to raise stones."
   ]
  },
  {
   "cell_type": "markdown",
   "metadata": {},
   "source": [
    "# Summary\n",
    "\n",
    "A crew of 64 workers can raise 2.5 ton stones using simple ropes alone. Over a 20 year period, 31 concurrent crews totalling 2028 workers are needed to raise all 2.5 million blocks.\n",
    "\n",
    "Building the pyramids seems staggering to us today, but that may be due more to our short attention span and availability of powerful machines to do the heavy lifting. We don't stop to consider that a large workforce, all pulling together at the same time, can do a lot of work. It's not magic, just dedication and arithmetic.\n",
    "\n",
    "In the modern day, we expect a return on our investment in a reasonable time, perhaps five or ten years for large public works projects. For the pharoahs, 20 years was a completely acceptable delivery schedule for their investment given their well documented exit strategy. To acheive higher rates of return, we built powerful machines, efficient supply chains, measured and optimized all of our processes. We just won't accept slow progress over a long period of time because we our expectations are so high. The pharoahs on the other hand, didn't have all of that. They had a large enough workforce that was willing dedicate themselves to a single cause over a significant part of their lifetime and they used it to great effect."
   ]
  },
  {
   "cell_type": "code",
   "execution_count": null,
   "metadata": {},
   "outputs": [],
   "source": []
  }
 ],
 "metadata": {
  "kernelspec": {
   "display_name": "Python 3",
   "language": "python",
   "name": "python3"
  },
  "language_info": {
   "codemirror_mode": {
    "name": "ipython",
    "version": 3
   },
   "file_extension": ".py",
   "mimetype": "text/x-python",
   "name": "python",
   "nbconvert_exporter": "python",
   "pygments_lexer": "ipython3",
   "version": "3.6.8"
  }
 },
 "nbformat": 4,
 "nbformat_minor": 2
}
