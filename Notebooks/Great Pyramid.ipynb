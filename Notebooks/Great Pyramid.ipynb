{
 "cells": [
  {
   "cell_type": "markdown",
   "metadata": {},
   "source": [
    "# The Great Pyramid\n",
    "\n",
    "This is an estimate of the number of people needed to build the [great pyramid](https://en.wikipedia.org/wiki/Great_Pyramid_of_Giza) using basic physics, such as force, energy, and power. It relies solely on reasonable estimates of known dimensions of the great pyramid and typical human labor capacity.\n",
    "\n",
    "The dimensions of the great pyramid are shown below:\n",
    "\n",
    "![Pyramid](https://www.cheops-pyramide.ch/khufu-pyramid/great-pyramid/stonelayers.gif \"https://www.cheops-pyramide.ch/khufu-pyramid/khufu-numbers.html\")\n",
    "\n",
    "For simplicity, this analysis will assume a step-wise build of five courses with these parameters:\n",
    "\n",
    "| Parameter | Value |\n",
    "| ----- | ----:|\n",
    "| Total number of stones| 2.5 million |\n",
    "| Average mass of each stone | 2.5 tons |\n",
    "| Total build time | 20 years |\n",
    "| Power per man available | 200 Calories/day |\n",
    "| Active build rate | 3 months/year |\n",
    "| Pyramid slope | 53 degrees |\n",
    "| Pyramid base | 230 m |\n",
    "| Limestone coefficient of friction | 0.3 |\n",
    "\n",
    "| Course | Height | Amount of Material |\n",
    "| ------ |:------:| ------------------:|\n",
    "| 1 | 15m | 30% |\n",
    "| 2 | 30m | 22% |\n",
    "| 3 | 50m | 30% |\n",
    "| 4 | 100m | 15% |\n",
    "| 5 | 146m | 3% |"
   ]
  },
  {
   "cell_type": "markdown",
   "metadata": {},
   "source": [
    "# Pulling Force\n",
    "\n",
    "It is possible for a crew of men to stand on top of one course and simply pull a single stone up the side of a pyramid covered with smooth casing stones.  It is expected that smooth casing stones were added at the same time each layer of rough blocks were added, which is very likely. This simple approach does not require large ramps, elaborate machines, deep knowledge, or alien intervention. It just requires many crews of men pulling on ropes attached to rough stones. Of course, a number of additional crews are needed to place stones and align stones properly, but the solutions to those problems are well documented.\n",
    "\n",
    "This analysis focuses solely on the rigging problem of raising stones to the proper level just prior to final placement.\n",
    "\n",
    "The force required to pull one stone up the side of the pyramid is\n",
    "\n",
    "$$ F_p = m_s g (sin \\theta + \\mu cos \\theta)$$\n",
    "\n",
    "Where $m_s$ is the mass of one stone, $g$ is acceleration of gravity, $\\theta$ is the pyramid slope, and $\\mu$ is the coefficient of friction.\n",
    "\n",
    "Give the parameters above, the pulling force is\n",
    "\n",
    "$$ F_p \\approx 21778 N  $$\n",
    "\n",
    "or\n",
    "\n",
    "$$ F_p \\approx 4896 lb $$"
   ]
  },
  {
   "cell_type": "markdown",
   "metadata": {},
   "source": [
    "# Energy to Raise Stones\n",
    "\n",
    "The energy required to raise a single stone to a height $h$ is\n",
    "\n",
    "$$ E_s = \\frac{F_p h}{sin \\theta} $$\n",
    "\n",
    "For all stones the total energy is\n",
    "\n",
    "$$ E_t = \\frac{F_p h N_s}{sin \\theta} (15m \\times 0.3 + 30m \\times 0.22 + 50m \\times 0.3 + 100m \\times 0.15 + 146m \\times 0.03) $$\n",
    "\n",
    "This is a simple, conservative estimate. A more accurate estimate can be made considering all 210 layers, but that is left as an exercise to the reader.\n",
    "\n",
    "The total energy is\n",
    "\n",
    "$$ E_t \\approx 3.1 \\times 10^{12} J $$\n",
    "\n",
    "or\n",
    "\n",
    "$$ E_t \\approx 7.4 \\times 10^8 {kcal} $$"
   ]
  },
  {
   "cell_type": "markdown",
   "metadata": {},
   "source": [
    "# Average Power\n",
    "\n",
    "The average power required to raise all stones is\n",
    "\n",
    "$$ P_{avg} = \\frac{E_t}{t} $$\n",
    "\n",
    "In watts, the value is:\n",
    "\n",
    "$$ P_{avg} \\approx 4913 W $$\n",
    "\n",
    "In horse power:\n",
    "\n",
    "$$ P_{avg} \\approx 6.6 {HP} $$\n",
    "\n",
    "This surprisingly modest number is due to the 20 year build time for the pyramid. Even though the size of the pyramid is staggering, the build time is equally large.\n",
    "\n",
    "Humans are not efficient machines. Given a modest diet, we can expect maybe 200 calories/day of useful work, which is an average power of 9.7 Watts."
   ]
  },
  {
   "cell_type": "markdown",
   "metadata": {},
   "source": [
    "# Workforce Size\n",
    "\n",
    "Assuming work is performed only one season a year, the total number of workers required to raise all blocks is given by\n",
    "\n",
    "$$ N_w = 4 \\frac{P_{avg}}{P_w} $$\n",
    "\n",
    "The approximate number of workers is\n",
    "\n",
    "$$ N_w \\approx 2028 $$\n",
    "\n",
    "Other estimates of total workforce are about 10 times this value, which makes sense given the many other tasks, such as cutting and transporting stones, finish work, food preparation, management, accounting, and other support activities.\n",
    "\n",
    "To lift a single stone, a crew of workers would be required to raise each stone. Assuming each worker can lift 75 lbs, the size of lifting crew is\n",
    "\n",
    "$$ N_{lc} = \\frac{F_p}{75 lb} $$\n",
    "\n",
    "The number of workers in a lifting crew is\n",
    "\n",
    "$$ N_{lc} \\approx 65 $$\n",
    "\n",
    "That's 65 workers per lifting crew. The total number of crews is\n",
    "\n",
    "$$ N_c = \\frac{N_w}{N_{lc}} $$\n",
    "\n",
    "So about 31 concurrent crews are required just to raise stones. It is possible to imagine six or seven ropes pulled by lines of ten or eleven workers."
   ]
  },
  {
   "cell_type": "markdown",
   "metadata": {},
   "source": [
    "# Stone Raising Rate\n",
    "\n",
    "Assuming all 31 crews are operating concurrently, it is possible to estimate the block raising rate. 200 calories per day of worker output is an average number. Humans are not machines and need rest, so in practice, crews may only raise blocks as little as 6 hours per day. That would raise the peak crew power to six times the average:\n",
    "\n",
    "$$ P_{cp} = 6 N_{lc} P_w$$\n",
    "\n",
    "This value is 3.8 kW or just a little over 5 horsepower.\n",
    "\n",
    "The velocity of a single block raised by a crew is given by\n",
    "\n",
    "$$ v_{bc} = \\frac{P_{cp}}{F_p} $$\n",
    "\n",
    "The rate along the slope is about 0.17 $m/s$ or 0.57 $ft/s$. To raise one stone to a height h, the time required is\n",
    "\n",
    "$$ t = \\frac{h}{v_{bc} sin \\theta} $$\n",
    "\n",
    "To raise one block to a height of 30m, which is contains more than 50% of all stones, the time is about 216 seconds or 3.6 minutes. With all 31 crews operating concurrently, one stone could be raised every seven seconds.\n",
    "\n",
    "At the 100m level (97% of all blocks), 31 crews could raise a stone every 23 seconds."
   ]
  },
  {
   "cell_type": "markdown",
   "metadata": {},
   "source": [
    "# Logistical Constraints\n",
    "\n",
    "Fitting 2000 or more workers on a level requires room to maneuver. The area available is reduced higher up the pyramid. Assuming all 31 crews are operating concurrently and each worker requires at least $1 m^2$, the minimum area required is $A_c \\approx 2028 m^2$.\n",
    "\n",
    "The available area at a height $h$ is\n",
    "\n",
    "$$ A_l = (l_b - \\frac{2 h}{tan \\theta})^2 $$\n",
    "\n",
    "Where $l_b$ is the length of the base of the pyramid.\n",
    "\n",
    "The ratio of available area to the area required by the lifting crews is\n",
    "\n",
    "$$ r_a = \\frac{A_l}{A_c} $$\n",
    "\n",
    "Values of $ r_a $ at various heights are given in the table below\n",
    "\n",
    "| Height (m) | $ r_a $ | Percent of total mass |\n",
    "| ------ |:------:| ------------------:|\n",
    "| 15m | 21 | 30% |\n",
    "| 30m | 17 | 52% |\n",
    "| 50m | 12 | 82% |\n",
    "| 100m | 3.1 | 97% |\n",
    "\n",
    "Even at a heigh of 100m, where only 3% of the pyramid remains, more than three times the area required by all 31 lifting crews is still available. This should leave sufficient room for others to position stones after then have been lifted."
   ]
  },
  {
   "cell_type": "markdown",
   "metadata": {},
   "source": [
    "# Ramps and Stone Size\n",
    "\n",
    "This theory might explain why there is little evidence of external or internal ramps, simply because a smooth pyramid can act as the ramp itself. It might also explain how large granite blocks were hauled up to the kings chamber. Considering the required rate of block raising, a wide ramp is needed. Narrow ramps that can only support one or two blocks side by side seem like a bottleneck. Ramps with right angles require more time to rotate and orient blocks. Using the sides of the pyramid offers the largest ramp possible on all four sides, so the only limitation would be the number of workers that could be on top at any one time. Even if one set of crews becomes fatigued raising stones, they could be relieved by another crew later in the day. It is possible that two or more shifts of lifting crews were used to minimize fatigue or injury.\n",
    "\n",
    "The Egyptians were free to decide how big to make the rough limestone blocks. They could have made them small enough for one person to carry, but they chose not to. After many pyramid construction attempts, they decided that 2.5 ton blocks were small enough to handle without too much difficulty, so raising these stones had to be straightforward. It seems that simply dragging block up the side of a smooth pyramid is a straightforward solution that they could have easily developed on their own. It probably seemed so obvious to them that it made no sense to document it."
   ]
  },
  {
   "cell_type": "markdown",
   "metadata": {},
   "source": [
    "# Summary\n",
    "\n",
    "A crew of 65 workers can raise 2.5 ton stones using simple ropes alone. Over a 20 year period, 31 concurrent crews totalling 2028 workers are needed to raise all 2.5 million blocks.\n",
    "\n",
    "Building the pyramids seems staggering to us today, but that may be due more to our short attention span and availability of powerful machines to do the heavy lifting. We don't stop to consider that a large workforce, all pulling together at the same time, can do a lot of work. It's not magic, just dedication and arithmetic.\n",
    "\n",
    "In the modern day, we expect a return on our investment in a reasonable time, perhaps five or ten years for large public works projects. For the pharoahs, 20 years was a completely acceptable delivery schedule for their investment and exit strategy. To acheive higher rates of return, we built powerful machines, efficient supply chains, measured and optimized all of our processes. We just won't accept slow progress over a long period of time because our expectations and labor costs are so high. The pharoahs on the other hand, were in the opposite position. They had a large enough workforce that was willing dedicate themselves to a single cause over a significant part of their lifetime and this cause was used to great effect."
   ]
  },
  {
   "cell_type": "code",
   "execution_count": null,
   "metadata": {},
   "outputs": [],
   "source": []
  }
 ],
 "metadata": {
  "kernelspec": {
   "display_name": "Python 3",
   "language": "python",
   "name": "python3"
  },
  "language_info": {
   "codemirror_mode": {
    "name": "ipython",
    "version": 3
   },
   "file_extension": ".py",
   "mimetype": "text/x-python",
   "name": "python",
   "nbconvert_exporter": "python",
   "pygments_lexer": "ipython3",
   "version": "3.6.8"
  }
 },
 "nbformat": 4,
 "nbformat_minor": 2
}
