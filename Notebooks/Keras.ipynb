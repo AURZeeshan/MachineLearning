{
  "nbformat": 4,
  "nbformat_minor": 0,
  "metadata": {
    "kernelspec": {
      "display_name": "Python 3",
      "language": "python",
      "name": "python3"
    },
    "language_info": {
      "codemirror_mode": {
        "name": "ipython",
        "version": 3
      },
      "file_extension": ".py",
      "mimetype": "text/x-python",
      "name": "python",
      "nbconvert_exporter": "python",
      "pygments_lexer": "ipython3",
      "version": "3.6.8"
    },
    "colab": {
      "name": "Keras_TF2.ipynb",
      "provenance": [],
      "collapsed_sections": []
    }
  },
  "cells": [
    {
      "cell_type": "markdown",
      "metadata": {
        "id": "XUSrFWcGFhcl",
        "colab_type": "text"
      },
      "source": [
        "# Keras\n",
        "\n",
        "[Keras](https://keras.io) is a popular, high level deep learning library for Python. It can run on top of several lower level deep learning libraries, such as [Tensorflow](https://www.tensorflow.org) or [Theano](https://github.com/Theano/Theano).\n",
        "\n",
        "Keras was designed to be easy to use and intuitive for deep neural networks. Keras includes a number of commonly used layers, activation functions, and optimizers. A model can be defined and trained with just a few lines of Python code.\n",
        "\n",
        "Keras interoperates with Matplotlib and NumPy."
      ]
    },
    {
      "cell_type": "code",
      "metadata": {
        "id": "3NsnTYHYF0Bh",
        "colab_type": "code",
        "colab": {
          "base_uri": "https://localhost:8080/",
          "height": 35
        },
        "outputId": "426c0331-ec3c-4a42-dc40-89e79d99825e"
      },
      "source": [
        "%tensorflow_version 2.x"
      ],
      "execution_count": 1,
      "outputs": [
        {
          "output_type": "stream",
          "text": [
            "TensorFlow 2.x selected.\n"
          ],
          "name": "stdout"
        }
      ]
    },
    {
      "cell_type": "code",
      "metadata": {
        "id": "vb12iwrZFhcn",
        "colab_type": "code",
        "colab": {}
      },
      "source": [
        "from tensorflow.keras.models import Sequential\n",
        "from tensorflow.keras.layers import Dense, Activation\n",
        "from tensorflow.keras.optimizers import Adam\n",
        "from tensorflow.keras.models import model_from_json\n",
        "\n",
        "from matplotlib import pyplot as plt\n",
        "\n",
        "import numpy as np"
      ],
      "execution_count": 0,
      "outputs": []
    },
    {
      "cell_type": "markdown",
      "metadata": {
        "id": "vp2VRqVTFhcq",
        "colab_type": "text"
      },
      "source": [
        "# Learning a Mathematical Function\n",
        "\n",
        "As an easy to understand example, we will develop a Keras models to predict the value of a mathematical function. This example trains quickly, making it ideal for experimentation.\n",
        "\n",
        "The train and test data sets are generated using the function below. The number of training samples can be adjusted to explore model accuracy as a function of data set size."
      ]
    },
    {
      "cell_type": "code",
      "metadata": {
        "id": "tVFtnVpbFhcr",
        "colab_type": "code",
        "colab": {}
      },
      "source": [
        "def function(x):\n",
        "    return 10*x**2 - 5*x - 0.5"
      ],
      "execution_count": 0,
      "outputs": []
    },
    {
      "cell_type": "code",
      "metadata": {
        "id": "MaA-CwDvFhcu",
        "colab_type": "code",
        "colab": {}
      },
      "source": [
        "x_train = np.random.rand(10000)\n",
        "y_train = function(x_train)\n",
        "\n",
        "x_test = np.linspace(0, 1, 100)\n",
        "y_test = function(x_test)"
      ],
      "execution_count": 0,
      "outputs": []
    },
    {
      "cell_type": "markdown",
      "metadata": {
        "id": "xfoWDwv1Fhcw",
        "colab_type": "text"
      },
      "source": [
        "# Visualize the Dataset"
      ]
    },
    {
      "cell_type": "code",
      "metadata": {
        "id": "qGkGqeiFFhcx",
        "colab_type": "code",
        "outputId": "044db2db-3091-4b87-a52f-e47989f63e34",
        "colab": {
          "base_uri": "https://localhost:8080/",
          "height": 279
        }
      },
      "source": [
        "plt.scatter(x_train, y_train, label='Train', color='blue')\n",
        "plt.plot(x_test, y_test, label='Test', color='red')\n",
        "plt.ylabel('y')\n",
        "plt.xlabel('x')\n",
        "plt.legend(loc='best')\n",
        "plt.show()"
      ],
      "execution_count": 5,
      "outputs": [
        {
          "output_type": "display_data",
          "data": {
            "image/png": "[encoded data removed]",
            "text/plain": [
              "<Figure size 432x288 with 1 Axes>"
            ]
          },
          "metadata": {
            "tags": []
          }
        }
      ]
    },
    {
      "cell_type": "markdown",
      "metadata": {
        "id": "yTCfi6LVFhcz",
        "colab_type": "text"
      },
      "source": [
        "# Define the Model\n",
        "\n",
        "A basic, multilayer dense model with [ReLU](https://en.wikipedia.org/wiki/Rectifier_(neural_networks)) activation functions is used. The output layer does not have activation function in order to produce continous output values."
      ]
    },
    {
      "cell_type": "code",
      "metadata": {
        "id": "Em4o_qwMFhcz",
        "colab_type": "code",
        "colab": {}
      },
      "source": [
        "model = Sequential()\n",
        "model.add(Dense(units=200, input_dim=1))\n",
        "model.add(Activation('relu'))\n",
        "model.add(Dense(units=20))\n",
        "model.add(Activation('relu'))\n",
        "model.add(Dense(units=1))"
      ],
      "execution_count": 0,
      "outputs": []
    },
    {
      "cell_type": "markdown",
      "metadata": {
        "id": "z6RsOvfNFhc1",
        "colab_type": "text"
      },
      "source": [
        "# Training"
      ]
    },
    {
      "cell_type": "code",
      "metadata": {
        "id": "uORd3TnDFhc2",
        "colab_type": "code",
        "outputId": "9483db05-861b-49ed-9def-15d8e4a9d5f5",
        "colab": {
          "base_uri": "https://localhost:8080/",
          "height": 387
        }
      },
      "source": [
        "model.compile(loss='mean_squared_error', optimizer=Adam())\n",
        "history = model.fit(x_train, y_train, batch_size=50, epochs=10, verbose=1, validation_data=(x_test, y_test))"
      ],
      "execution_count": 7,
      "outputs": [
        {
          "output_type": "stream",
          "text": [
            "Train on 10000 samples, validate on 100 samples\n",
            "Epoch 1/10\n",
            "10000/10000 [==============================] - 1s 100us/sample - loss: 1.1578 - val_loss: 0.0894\n",
            "Epoch 2/10\n",
            "10000/10000 [==============================] - 0s 39us/sample - loss: 0.0277 - val_loss: 0.0121\n",
            "Epoch 3/10\n",
            "10000/10000 [==============================] - 0s 39us/sample - loss: 0.0064 - val_loss: 0.0047\n",
            "Epoch 4/10\n",
            "10000/10000 [==============================] - 0s 39us/sample - loss: 0.0024 - val_loss: 0.0019\n",
            "Epoch 5/10\n",
            "10000/10000 [==============================] - 0s 40us/sample - loss: 0.0011 - val_loss: 8.7525e-04\n",
            "Epoch 6/10\n",
            "10000/10000 [==============================] - 0s 39us/sample - loss: 5.0923e-04 - val_loss: 5.1909e-04\n",
            "Epoch 7/10\n",
            "10000/10000 [==============================] - 0s 42us/sample - loss: 2.7013e-04 - val_loss: 2.6015e-04\n",
            "Epoch 8/10\n",
            "10000/10000 [==============================] - 0s 37us/sample - loss: 1.6617e-04 - val_loss: 1.6942e-04\n",
            "Epoch 9/10\n",
            "10000/10000 [==============================] - 0s 38us/sample - loss: 1.0423e-04 - val_loss: 1.2964e-04\n",
            "Epoch 10/10\n",
            "10000/10000 [==============================] - 0s 38us/sample - loss: 7.8163e-05 - val_loss: 8.7335e-05\n"
          ],
          "name": "stdout"
        }
      ]
    },
    {
      "cell_type": "markdown",
      "metadata": {
        "id": "-1i2pVnDFhc4",
        "colab_type": "text"
      },
      "source": [
        "# Model Loss\n",
        "\n",
        "The loss is the difference between expected output (y_train) and model output. Lower loss values are better."
      ]
    },
    {
      "cell_type": "code",
      "metadata": {
        "id": "5KudLprqFhc4",
        "colab_type": "code",
        "outputId": "c7c81775-cdb9-4b47-dab0-95920fa62759",
        "colab": {
          "base_uri": "https://localhost:8080/",
          "height": 295
        }
      },
      "source": [
        "plt.plot(history.history['loss'])\n",
        "plt.plot(history.history['val_loss'])\n",
        "plt.title('Model accuracy')\n",
        "plt.ylabel('Accuracy')\n",
        "plt.xlabel('Epoch')\n",
        "plt.legend(['Train', 'Test'], loc='upper left')\n",
        "plt.show()"
      ],
      "execution_count": 8,
      "outputs": [
        {
          "output_type": "display_data",
          "data": {
            "image/png": "[encoded data removed]",
            "text/plain": [
              "<Figure size 432x288 with 1 Axes>"
            ]
          },
          "metadata": {
            "tags": []
          }
        }
      ]
    },
    {
      "cell_type": "markdown",
      "metadata": {
        "id": "-wPyvVLsFhc6",
        "colab_type": "text"
      },
      "source": [
        "# Predictions"
      ]
    },
    {
      "cell_type": "code",
      "metadata": {
        "id": "k7_b9Cw5Fhc7",
        "colab_type": "code",
        "colab": {}
      },
      "source": [
        "y_predictions = model.predict(x_test, batch_size=1)"
      ],
      "execution_count": 0,
      "outputs": []
    },
    {
      "cell_type": "code",
      "metadata": {
        "id": "OdLofm11Fhc8",
        "colab_type": "code",
        "outputId": "e007a569-3ce2-4560-b08a-d9084eff83f7",
        "colab": {
          "base_uri": "https://localhost:8080/",
          "height": 279
        }
      },
      "source": [
        "plt.scatter(x_test, y_predictions, label='Predictions', color='blue')\n",
        "plt.plot(x_test, y_test, label='Test', color='red')\n",
        "plt.ylabel('y')\n",
        "plt.xlabel('x')\n",
        "plt.legend(loc='best')\n",
        "plt.show()"
      ],
      "execution_count": 10,
      "outputs": [
        {
          "output_type": "display_data",
          "data": {
            "image/png": "[encoded data removed]",
            "text/plain": [
              "<Figure size 432x288 with 1 Axes>"
            ]
          },
          "metadata": {
            "tags": []
          }
        }
      ]
    },
    {
      "cell_type": "markdown",
      "metadata": {
        "id": "2f9xlyUpFhc-",
        "colab_type": "text"
      },
      "source": [
        "# Save the Model\n",
        "\n",
        "The model structure and trained weights/biases can be saved to files. These can be reloaded later for prediction."
      ]
    },
    {
      "cell_type": "code",
      "metadata": {
        "id": "88pKENGNFhc_",
        "colab_type": "code",
        "colab": {}
      },
      "source": [
        "model_structure = model.to_json()\n",
        "with open(\"model.json\", \"w\") as json_file:\n",
        "    json_file.write(model_structure)\n",
        "model.save_weights(\"weights.h5\")"
      ],
      "execution_count": 0,
      "outputs": []
    },
    {
      "cell_type": "markdown",
      "metadata": {
        "id": "Sd_4K4KiFhdA",
        "colab_type": "text"
      },
      "source": [
        "# Restore Trained Model"
      ]
    },
    {
      "cell_type": "code",
      "metadata": {
        "id": "Z-eQPcfaFhdB",
        "colab_type": "code",
        "colab": {}
      },
      "source": [
        "with open('model.json', 'r') as json_file:\n",
        "    loaded_model_json = json_file.read()\n",
        "restored_model = model_from_json(loaded_model_json)\n",
        "restored_model.load_weights(\"weights.h5\")"
      ],
      "execution_count": 0,
      "outputs": []
    },
    {
      "cell_type": "markdown",
      "metadata": {
        "id": "HolgBmP-FhdD",
        "colab_type": "text"
      },
      "source": [
        "# Predictions\n",
        "\n",
        "Make predictions using the restored model. It should produce the same results as the original model."
      ]
    },
    {
      "cell_type": "code",
      "metadata": {
        "id": "7611b9AoFhdD",
        "colab_type": "code",
        "outputId": "0dd10070-72ef-44aa-feb4-59c4e1a38fb1",
        "colab": {
          "base_uri": "https://localhost:8080/",
          "height": 279
        }
      },
      "source": [
        "y_predictions = restored_model.predict(x_test, batch_size=1)\n",
        "\n",
        "plt.scatter(x_test, y_predictions, label='Predictions', color='blue')\n",
        "plt.plot(x_test, y_test, label='Test', color='red')\n",
        "plt.ylabel('y')\n",
        "plt.xlabel('x')\n",
        "plt.legend(loc='best')\n",
        "plt.show()"
      ],
      "execution_count": 13,
      "outputs": [
        {
          "output_type": "display_data",
          "data": {
            "image/png": "[encoded data removed]",
            "text/plain": [
              "<Figure size 432x288 with 1 Axes>"
            ]
          },
          "metadata": {
            "tags": []
          }
        }
      ]
    },
    {
      "cell_type": "code",
      "metadata": {
        "id": "PIweYWwuFhdF",
        "colab_type": "code",
        "colab": {}
      },
      "source": [
        ""
      ],
      "execution_count": 0,
      "outputs": []
    }
  ]
}