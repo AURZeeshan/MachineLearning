{
  "nbformat": 4,
  "nbformat_minor": 0,
  "metadata": {
    "colab": {
      "name": "Movie Recommendations.ipynb",
      "provenance": [],
      "collapsed_sections": []
    },
    "kernelspec": {
      "name": "python3",
      "display_name": "Python 3"
    },
    "accelerator": "GPU"
  },
  "cells": [
    {
      "cell_type": "markdown",
      "metadata": {
        "id": "NT4wCSFZmJnl",
        "colab_type": "text"
      },
      "source": [
        "# Movie Recommendations\n",
        "\n",
        "Recommendations are a common machine learning task widely used by many leading companies, such as Netflix, Amazon, and YouTube. If you have used any of these online services, you are familiar with recommendations that are often prefixed with \"You might also like..\" or \"Recommended items other customers buy...\".\n",
        "\n",
        "There are many ways to generate recommendations. It could be done based on simple criteria, such as movie genre, e.g. comedies or action adventure. More sophisticated recommendations might consider many more factors, such as the director, when the movie was produced and so on.\n",
        "\n",
        "In this example, we will use a common, straightforward method known as [collaborative filtering](https://en.wikipedia.org/wiki/Collaborative_filtering). This method is based on idea that many customers have similar likes and dislikes. It also considers similarities between products. It's a simple, yet effective technique that depends only user preferences, such as product ratings. If you have a sufficiently large dataset of ratings from your customers, then this approach is a good place to start."
      ]
    },
    {
      "cell_type": "code",
      "metadata": {
        "id": "WStenIzSmBFf",
        "colab_type": "code",
        "colab": {}
      },
      "source": [
        "%tensorflow_version 1.x"
      ],
      "execution_count": 0,
      "outputs": []
    },
    {
      "cell_type": "code",
      "metadata": {
        "id": "s_kskAKSmP_8",
        "colab_type": "code",
        "colab": {}
      },
      "source": [
        "import pandas as pd\n",
        "import numpy as np\n",
        "import matplotlib.pyplot as plt\n",
        "from sklearn.model_selection import train_test_split\n",
        "from sklearn.preprocessing import StandardScaler\n",
        "from keras.layers import Input, Embedding, Flatten, Dot, Dense, Add, Dropout\n",
        "from keras.models import Model\n",
        "from keras.optimizers import Adam\n",
        "from sklearn.preprocessing import LabelEncoder"
      ],
      "execution_count": 0,
      "outputs": []
    },
    {
      "cell_type": "markdown",
      "metadata": {
        "id": "shIqoQ8CmZbb",
        "colab_type": "text"
      },
      "source": [
        "# Load data\n",
        "\n",
        "In this example, we will make movie recommendations given about 100,000 samples from roughly 10,000 customers or users.\n",
        "\n",
        "The data set is freely available on the [MovieLens website](https://grouplens.org/datasets/movielens/)."
      ]
    },
    {
      "cell_type": "code",
      "metadata": {
        "id": "8iSN-FLpmfqc",
        "colab_type": "code",
        "outputId": "4b43764f-ab3e-436c-d49b-2bf82fb3afc1",
        "colab": {
          "base_uri": "https://localhost:8080/",
          "height": 211
        }
      },
      "source": [
        "!wget http://files.grouplens.org/datasets/movielens/ml-latest-small.zip"
      ],
      "execution_count": 188,
      "outputs": [
        {
          "output_type": "stream",
          "text": [
            "--2019-12-14 20:56:24--  http://files.grouplens.org/datasets/movielens/ml-latest-small.zip\n",
            "Resolving files.grouplens.org (files.grouplens.org)... 128.101.65.152\n",
            "Connecting to files.grouplens.org (files.grouplens.org)|128.101.65.152|:80... connected.\n",
            "HTTP request sent, awaiting response... 200 OK\n",
            "Length: 978202 (955K) [application/zip]\n",
            "Saving to: ‘ml-latest-small.zip’\n",
            "\n",
            "\rml-latest-small.zip   0%[                    ]       0  --.-KB/s               \rml-latest-small.zip 100%[===================>] 955.28K  6.03MB/s    in 0.2s    \n",
            "\n",
            "2019-12-14 20:56:24 (6.03 MB/s) - ‘ml-latest-small.zip’ saved [978202/978202]\n",
            "\n"
          ],
          "name": "stdout"
        }
      ]
    },
    {
      "cell_type": "code",
      "metadata": {
        "id": "r9VHQzMBm7EN",
        "colab_type": "code",
        "outputId": "e9f3f115-edb2-4778-95ec-607108c61fff",
        "colab": {
          "base_uri": "https://localhost:8080/",
          "height": 140
        }
      },
      "source": [
        "!unzip ml-latest-small.zip"
      ],
      "execution_count": 189,
      "outputs": [
        {
          "output_type": "stream",
          "text": [
            "Archive:  ml-latest-small.zip\n",
            "   creating: ml-latest-small/\n",
            "  inflating: ml-latest-small/links.csv  \n",
            "  inflating: ml-latest-small/tags.csv  \n",
            "  inflating: ml-latest-small/ratings.csv  \n",
            "  inflating: ml-latest-small/README.txt  \n",
            "  inflating: ml-latest-small/movies.csv  \n"
          ],
          "name": "stdout"
        }
      ]
    },
    {
      "cell_type": "code",
      "metadata": {
        "id": "m8gfiZ0QnROz",
        "colab_type": "code",
        "outputId": "46b7f524-2027-474f-8eca-199eced46bd5",
        "colab": {
          "base_uri": "https://localhost:8080/",
          "height": 203
        }
      },
      "source": [
        "movies = pd.read_csv('ml-latest-small/movies.csv')\n",
        "movies.head()"
      ],
      "execution_count": 190,
      "outputs": [
        {
          "output_type": "execute_result",
          "data": {
            "text/html": [
              "<div>\n",
              "<style scoped>\n",
              "    .dataframe tbody tr th:only-of-type {\n",
              "        vertical-align: middle;\n",
              "    }\n",
              "\n",
              "    .dataframe tbody tr th {\n",
              "        vertical-align: top;\n",
              "    }\n",
              "\n",
              "    .dataframe thead th {\n",
              "        text-align: right;\n",
              "    }\n",
              "</style>\n",
              "<table border=\"1\" class=\"dataframe\">\n",
              "  <thead>\n",
              "    <tr style=\"text-align: right;\">\n",
              "      <th></th>\n",
              "      <th>movieId</th>\n",
              "      <th>title</th>\n",
              "      <th>genres</th>\n",
              "    </tr>\n",
              "  </thead>\n",
              "  <tbody>\n",
              "    <tr>\n",
              "      <th>0</th>\n",
              "      <td>1</td>\n",
              "      <td>Toy Story (1995)</td>\n",
              "      <td>Adventure|Animation|Children|Comedy|Fantasy</td>\n",
              "    </tr>\n",
              "    <tr>\n",
              "      <th>1</th>\n",
              "      <td>2</td>\n",
              "      <td>Jumanji (1995)</td>\n",
              "      <td>Adventure|Children|Fantasy</td>\n",
              "    </tr>\n",
              "    <tr>\n",
              "      <th>2</th>\n",
              "      <td>3</td>\n",
              "      <td>Grumpier Old Men (1995)</td>\n",
              "      <td>Comedy|Romance</td>\n",
              "    </tr>\n",
              "    <tr>\n",
              "      <th>3</th>\n",
              "      <td>4</td>\n",
              "      <td>Waiting to Exhale (1995)</td>\n",
              "      <td>Comedy|Drama|Romance</td>\n",
              "    </tr>\n",
              "    <tr>\n",
              "      <th>4</th>\n",
              "      <td>5</td>\n",
              "      <td>Father of the Bride Part II (1995)</td>\n",
              "      <td>Comedy</td>\n",
              "    </tr>\n",
              "  </tbody>\n",
              "</table>\n",
              "</div>"
            ],
            "text/plain": [
              "   movieId  ...                                       genres\n",
              "0        1  ...  Adventure|Animation|Children|Comedy|Fantasy\n",
              "1        2  ...                   Adventure|Children|Fantasy\n",
              "2        3  ...                               Comedy|Romance\n",
              "3        4  ...                         Comedy|Drama|Romance\n",
              "4        5  ...                                       Comedy\n",
              "\n",
              "[5 rows x 3 columns]"
            ]
          },
          "metadata": {
            "tags": []
          },
          "execution_count": 190
        }
      ]
    },
    {
      "cell_type": "code",
      "metadata": {
        "id": "LwtxE_wWAS_P",
        "colab_type": "code",
        "colab": {
          "base_uri": "https://localhost:8080/",
          "height": 203
        },
        "outputId": "a8928abf-8db4-473e-e03f-a40eaa946b0b"
      },
      "source": [
        "ratings = pd.read_csv('ml-latest-small/ratings.csv')\n",
        "ratings.head()"
      ],
      "execution_count": 191,
      "outputs": [
        {
          "output_type": "execute_result",
          "data": {
            "text/html": [
              "<div>\n",
              "<style scoped>\n",
              "    .dataframe tbody tr th:only-of-type {\n",
              "        vertical-align: middle;\n",
              "    }\n",
              "\n",
              "    .dataframe tbody tr th {\n",
              "        vertical-align: top;\n",
              "    }\n",
              "\n",
              "    .dataframe thead th {\n",
              "        text-align: right;\n",
              "    }\n",
              "</style>\n",
              "<table border=\"1\" class=\"dataframe\">\n",
              "  <thead>\n",
              "    <tr style=\"text-align: right;\">\n",
              "      <th></th>\n",
              "      <th>userId</th>\n",
              "      <th>movieId</th>\n",
              "      <th>rating</th>\n",
              "      <th>timestamp</th>\n",
              "    </tr>\n",
              "  </thead>\n",
              "  <tbody>\n",
              "    <tr>\n",
              "      <th>0</th>\n",
              "      <td>1</td>\n",
              "      <td>1</td>\n",
              "      <td>4.0</td>\n",
              "      <td>964982703</td>\n",
              "    </tr>\n",
              "    <tr>\n",
              "      <th>1</th>\n",
              "      <td>1</td>\n",
              "      <td>3</td>\n",
              "      <td>4.0</td>\n",
              "      <td>964981247</td>\n",
              "    </tr>\n",
              "    <tr>\n",
              "      <th>2</th>\n",
              "      <td>1</td>\n",
              "      <td>6</td>\n",
              "      <td>4.0</td>\n",
              "      <td>964982224</td>\n",
              "    </tr>\n",
              "    <tr>\n",
              "      <th>3</th>\n",
              "      <td>1</td>\n",
              "      <td>47</td>\n",
              "      <td>5.0</td>\n",
              "      <td>964983815</td>\n",
              "    </tr>\n",
              "    <tr>\n",
              "      <th>4</th>\n",
              "      <td>1</td>\n",
              "      <td>50</td>\n",
              "      <td>5.0</td>\n",
              "      <td>964982931</td>\n",
              "    </tr>\n",
              "  </tbody>\n",
              "</table>\n",
              "</div>"
            ],
            "text/plain": [
              "   userId  movieId  rating  timestamp\n",
              "0       1        1     4.0  964982703\n",
              "1       1        3     4.0  964981247\n",
              "2       1        6     4.0  964982224\n",
              "3       1       47     5.0  964983815\n",
              "4       1       50     5.0  964982931"
            ]
          },
          "metadata": {
            "tags": []
          },
          "execution_count": 191
        }
      ]
    },
    {
      "cell_type": "markdown",
      "metadata": {
        "id": "K7uejLK0AFi0",
        "colab_type": "text"
      },
      "source": [
        "## Join Ratings with Movies\n",
        "\n",
        "The ratings don't contain movie titles, so let's join or merge these two sets for convenience."
      ]
    },
    {
      "cell_type": "code",
      "metadata": {
        "id": "trWhyJF9neTr",
        "colab_type": "code",
        "outputId": "0c8af622-4297-47c4-f9bf-f63567ad0084",
        "colab": {
          "base_uri": "https://localhost:8080/",
          "height": 203
        }
      },
      "source": [
        "ratings = ratings.merge(movies, on='movieId').drop(['genres','timestamp'],axis=1)\n",
        "ratings.head()"
      ],
      "execution_count": 192,
      "outputs": [
        {
          "output_type": "execute_result",
          "data": {
            "text/html": [
              "<div>\n",
              "<style scoped>\n",
              "    .dataframe tbody tr th:only-of-type {\n",
              "        vertical-align: middle;\n",
              "    }\n",
              "\n",
              "    .dataframe tbody tr th {\n",
              "        vertical-align: top;\n",
              "    }\n",
              "\n",
              "    .dataframe thead th {\n",
              "        text-align: right;\n",
              "    }\n",
              "</style>\n",
              "<table border=\"1\" class=\"dataframe\">\n",
              "  <thead>\n",
              "    <tr style=\"text-align: right;\">\n",
              "      <th></th>\n",
              "      <th>userId</th>\n",
              "      <th>movieId</th>\n",
              "      <th>rating</th>\n",
              "      <th>title</th>\n",
              "    </tr>\n",
              "  </thead>\n",
              "  <tbody>\n",
              "    <tr>\n",
              "      <th>0</th>\n",
              "      <td>1</td>\n",
              "      <td>1</td>\n",
              "      <td>4.0</td>\n",
              "      <td>Toy Story (1995)</td>\n",
              "    </tr>\n",
              "    <tr>\n",
              "      <th>1</th>\n",
              "      <td>5</td>\n",
              "      <td>1</td>\n",
              "      <td>4.0</td>\n",
              "      <td>Toy Story (1995)</td>\n",
              "    </tr>\n",
              "    <tr>\n",
              "      <th>2</th>\n",
              "      <td>7</td>\n",
              "      <td>1</td>\n",
              "      <td>4.5</td>\n",
              "      <td>Toy Story (1995)</td>\n",
              "    </tr>\n",
              "    <tr>\n",
              "      <th>3</th>\n",
              "      <td>15</td>\n",
              "      <td>1</td>\n",
              "      <td>2.5</td>\n",
              "      <td>Toy Story (1995)</td>\n",
              "    </tr>\n",
              "    <tr>\n",
              "      <th>4</th>\n",
              "      <td>17</td>\n",
              "      <td>1</td>\n",
              "      <td>4.5</td>\n",
              "      <td>Toy Story (1995)</td>\n",
              "    </tr>\n",
              "  </tbody>\n",
              "</table>\n",
              "</div>"
            ],
            "text/plain": [
              "   userId  movieId  rating             title\n",
              "0       1        1     4.0  Toy Story (1995)\n",
              "1       5        1     4.0  Toy Story (1995)\n",
              "2       7        1     4.5  Toy Story (1995)\n",
              "3      15        1     2.5  Toy Story (1995)\n",
              "4      17        1     4.5  Toy Story (1995)"
            ]
          },
          "metadata": {
            "tags": []
          },
          "execution_count": 192
        }
      ]
    },
    {
      "cell_type": "markdown",
      "metadata": {
        "id": "cnWx4rr2KEht",
        "colab_type": "text"
      },
      "source": [
        "## Generate Sequential Identifiers\n",
        "\n",
        "`userId` and `movieId` are not sequential, which causes problems for our model. To compensate, we can use the [LabelEncoder](https://scikit-learn.org/stable/modules/generated/sklearn.preprocessing.LabelEncoder.html) class from [scikit-learn](https://scikit-learn.org/) to generate sequential identifiers for users and movies. The original identifiers are still available, so we can always join back to the original data set if needed."
      ]
    },
    {
      "cell_type": "code",
      "metadata": {
        "id": "JUOvcGER93u4",
        "colab_type": "code",
        "outputId": "4d3faffa-c4aa-479d-b0a9-c145ebf52900",
        "colab": {
          "base_uri": "https://localhost:8080/",
          "height": 203
        }
      },
      "source": [
        "user_enc = LabelEncoder()\n",
        "ratings['userSeq'] = user_enc.fit_transform(ratings['userId'].values)\n",
        "\n",
        "item_enc = LabelEncoder()\n",
        "ratings['movieSeq'] = item_enc.fit_transform(ratings['movieId'].values)\n",
        "\n",
        "ratings.head()"
      ],
      "execution_count": 193,
      "outputs": [
        {
          "output_type": "execute_result",
          "data": {
            "text/html": [
              "<div>\n",
              "<style scoped>\n",
              "    .dataframe tbody tr th:only-of-type {\n",
              "        vertical-align: middle;\n",
              "    }\n",
              "\n",
              "    .dataframe tbody tr th {\n",
              "        vertical-align: top;\n",
              "    }\n",
              "\n",
              "    .dataframe thead th {\n",
              "        text-align: right;\n",
              "    }\n",
              "</style>\n",
              "<table border=\"1\" class=\"dataframe\">\n",
              "  <thead>\n",
              "    <tr style=\"text-align: right;\">\n",
              "      <th></th>\n",
              "      <th>userId</th>\n",
              "      <th>movieId</th>\n",
              "      <th>rating</th>\n",
              "      <th>title</th>\n",
              "      <th>userSeq</th>\n",
              "      <th>movieSeq</th>\n",
              "    </tr>\n",
              "  </thead>\n",
              "  <tbody>\n",
              "    <tr>\n",
              "      <th>0</th>\n",
              "      <td>1</td>\n",
              "      <td>1</td>\n",
              "      <td>4.0</td>\n",
              "      <td>Toy Story (1995)</td>\n",
              "      <td>0</td>\n",
              "      <td>0</td>\n",
              "    </tr>\n",
              "    <tr>\n",
              "      <th>1</th>\n",
              "      <td>5</td>\n",
              "      <td>1</td>\n",
              "      <td>4.0</td>\n",
              "      <td>Toy Story (1995)</td>\n",
              "      <td>4</td>\n",
              "      <td>0</td>\n",
              "    </tr>\n",
              "    <tr>\n",
              "      <th>2</th>\n",
              "      <td>7</td>\n",
              "      <td>1</td>\n",
              "      <td>4.5</td>\n",
              "      <td>Toy Story (1995)</td>\n",
              "      <td>6</td>\n",
              "      <td>0</td>\n",
              "    </tr>\n",
              "    <tr>\n",
              "      <th>3</th>\n",
              "      <td>15</td>\n",
              "      <td>1</td>\n",
              "      <td>2.5</td>\n",
              "      <td>Toy Story (1995)</td>\n",
              "      <td>14</td>\n",
              "      <td>0</td>\n",
              "    </tr>\n",
              "    <tr>\n",
              "      <th>4</th>\n",
              "      <td>17</td>\n",
              "      <td>1</td>\n",
              "      <td>4.5</td>\n",
              "      <td>Toy Story (1995)</td>\n",
              "      <td>16</td>\n",
              "      <td>0</td>\n",
              "    </tr>\n",
              "  </tbody>\n",
              "</table>\n",
              "</div>"
            ],
            "text/plain": [
              "   userId  movieId  rating             title  userSeq  movieSeq\n",
              "0       1        1     4.0  Toy Story (1995)        0         0\n",
              "1       5        1     4.0  Toy Story (1995)        4         0\n",
              "2       7        1     4.5  Toy Story (1995)        6         0\n",
              "3      15        1     2.5  Toy Story (1995)       14         0\n",
              "4      17        1     4.5  Toy Story (1995)       16         0"
            ]
          },
          "metadata": {
            "tags": []
          },
          "execution_count": 193
        }
      ]
    },
    {
      "cell_type": "markdown",
      "metadata": {
        "id": "QKug9IoGBlvo",
        "colab_type": "text"
      },
      "source": [
        "## Train/Test Split\n",
        "\n",
        "We will use most of the data (95%) for training and only 5% for testing. In this case, we expect to make predictions with a small subset of users, so using more data for training will improve accuracy."
      ]
    },
    {
      "cell_type": "code",
      "metadata": {
        "id": "cWzCvTtHno9b",
        "colab_type": "code",
        "outputId": "b0738f44-d284-4289-b84c-351393b5dbd8",
        "colab": {
          "base_uri": "https://localhost:8080/",
          "height": 52
        }
      },
      "source": [
        "train, test = train_test_split(ratings, test_size=0.05, random_state=0)\n",
        "numUsers = len(ratings.userSeq.unique())\n",
        "numMovies = len(ratings.movieSeq.unique())\n",
        "print((numUsers, numMovies))\n",
        "print((len(train), len(test)))"
      ],
      "execution_count": 194,
      "outputs": [
        {
          "output_type": "stream",
          "text": [
            "(610, 9724)\n",
            "(95794, 5042)\n"
          ],
          "name": "stdout"
        }
      ]
    },
    {
      "cell_type": "markdown",
      "metadata": {
        "id": "wEOJRfE2tBmO",
        "colab_type": "text"
      },
      "source": [
        "## Recommendation Model\n",
        "\n",
        "Collaborative filtering tries to minimize the error between a predicted value and ground truth. This is similar to many supervised machine learning problems. The model learns a set of features that similar movies share. The number of features could be as simple as the genre or more complex. The `numFeatures` variable below is a hyperparameter that can be tuned to optimize performance."
      ]
    },
    {
      "cell_type": "code",
      "metadata": {
        "id": "s6WzjAvComok",
        "colab_type": "code",
        "outputId": "a152c556-e889-498a-af70-4d3b4a99e4b2",
        "colab": {
          "base_uri": "https://localhost:8080/",
          "height": 703
        }
      },
      "source": [
        "numFeatures = 50\n",
        "dropout = 0.06\n",
        "\n",
        "user_input = Input(shape=(1,))\n",
        "user_emb = Embedding(numUsers, numFeatures)(user_input)\n",
        "flat_user = Flatten()(user_emb)\n",
        "user_dropout = Dropout(dropout)(flat_user)\n",
        "\n",
        "movie_input = Input(shape=(1,))\n",
        "movie_emb = Embedding(numMovies, numFeatures)(movie_input)\n",
        "flat_movie = Flatten()(movie_emb)\n",
        "movie_dropout = Dropout(dropout)(flat_movie)\n",
        "\n",
        "dotProduct = Dot(axes=1)([user_dropout, movie_dropout])\n",
        "\n",
        "user_bias = Embedding(numUsers, 1)(user_input)\n",
        "movie_bias = Embedding(numMovies, 1)(movie_input)\n",
        "sum = Add()([dotProduct, user_bias, movie_bias])\n",
        "flat_sum = Flatten()(sum)\n",
        "output = Dropout(dropout)(flat_sum)\n",
        "\n",
        "model = Model([user_input, movie_input], output)\n",
        "\n",
        "model.summary()"
      ],
      "execution_count": 195,
      "outputs": [
        {
          "output_type": "stream",
          "text": [
            "Model: \"model_20\"\n",
            "__________________________________________________________________________________________________\n",
            "Layer (type)                    Output Shape         Param #     Connected to                     \n",
            "==================================================================================================\n",
            "input_42 (InputLayer)           (None, 1)            0                                            \n",
            "__________________________________________________________________________________________________\n",
            "input_43 (InputLayer)           (None, 1)            0                                            \n",
            "__________________________________________________________________________________________________\n",
            "embedding_80 (Embedding)        (None, 1, 50)        30500       input_42[0][0]                   \n",
            "__________________________________________________________________________________________________\n",
            "embedding_81 (Embedding)        (None, 1, 50)        486200      input_43[0][0]                   \n",
            "__________________________________________________________________________________________________\n",
            "flatten_56 (Flatten)            (None, 50)           0           embedding_80[0][0]               \n",
            "__________________________________________________________________________________________________\n",
            "flatten_57 (Flatten)            (None, 50)           0           embedding_81[0][0]               \n",
            "__________________________________________________________________________________________________\n",
            "dropout_25 (Dropout)            (None, 50)           0           flatten_56[0][0]                 \n",
            "__________________________________________________________________________________________________\n",
            "dropout_26 (Dropout)            (None, 50)           0           flatten_57[0][0]                 \n",
            "__________________________________________________________________________________________________\n",
            "dot_21 (Dot)                    (None, 1)            0           dropout_25[0][0]                 \n",
            "                                                                 dropout_26[0][0]                 \n",
            "__________________________________________________________________________________________________\n",
            "embedding_82 (Embedding)        (None, 1, 1)         610         input_42[0][0]                   \n",
            "__________________________________________________________________________________________________\n",
            "embedding_83 (Embedding)        (None, 1, 1)         9724        input_43[0][0]                   \n",
            "__________________________________________________________________________________________________\n",
            "add_20 (Add)                    (None, 1, 1)         0           dot_21[0][0]                     \n",
            "                                                                 embedding_82[0][0]               \n",
            "                                                                 embedding_83[0][0]               \n",
            "__________________________________________________________________________________________________\n",
            "flatten_58 (Flatten)            (None, 1)            0           add_20[0][0]                     \n",
            "__________________________________________________________________________________________________\n",
            "dropout_27 (Dropout)            (None, 1)            0           flatten_58[0][0]                 \n",
            "==================================================================================================\n",
            "Total params: 527,034\n",
            "Trainable params: 527,034\n",
            "Non-trainable params: 0\n",
            "__________________________________________________________________________________________________\n"
          ],
          "name": "stdout"
        }
      ]
    },
    {
      "cell_type": "markdown",
      "metadata": {
        "id": "rwBRWEY8uOOv",
        "colab_type": "text"
      },
      "source": [
        "## Model Training"
      ]
    },
    {
      "cell_type": "code",
      "metadata": {
        "id": "5ZXh0fuiuNfx",
        "colab_type": "code",
        "outputId": "b92e70cc-e934-41a2-8961-ad7769b0685b",
        "colab": {
          "base_uri": "https://localhost:8080/",
          "height": 665
        }
      },
      "source": [
        "model.compile(loss='mean_squared_error', optimizer=Adam())\n",
        "history = model.fit([train.userSeq, train.movieSeq], train.rating,\n",
        "                    batch_size=32, epochs=10, verbose=1,\n",
        "                    validation_data=([test.userSeq, test.movieSeq], test.rating))\n",
        "\n",
        "plt.plot(history.history['loss'])\n",
        "plt.plot(history.history['val_loss'])\n",
        "plt.title('Model accuracy')\n",
        "plt.ylabel('Accuracy')\n",
        "plt.xlabel('Epoch')\n",
        "plt.legend(['Train', 'Test'], loc='upper left')\n",
        "plt.show()"
      ],
      "execution_count": 196,
      "outputs": [
        {
          "output_type": "stream",
          "text": [
            "Train on 95794 samples, validate on 5042 samples\n",
            "Epoch 1/10\n",
            "95794/95794 [==============================] - 15s 155us/step - loss: 7.2869 - val_loss: 2.1134\n",
            "Epoch 2/10\n",
            "95794/95794 [==============================] - 14s 142us/step - loss: 2.0215 - val_loss: 1.2000\n",
            "Epoch 3/10\n",
            "95794/95794 [==============================] - 13s 140us/step - loss: 1.6198 - val_loss: 1.0506\n",
            "Epoch 4/10\n",
            "95794/95794 [==============================] - 13s 139us/step - loss: 1.4778 - val_loss: 0.9693\n",
            "Epoch 5/10\n",
            "95794/95794 [==============================] - 13s 140us/step - loss: 1.3545 - val_loss: 0.9342\n",
            "Epoch 6/10\n",
            "95794/95794 [==============================] - 13s 141us/step - loss: 1.3116 - val_loss: 0.9348\n",
            "Epoch 7/10\n",
            "95794/95794 [==============================] - 13s 139us/step - loss: 1.2535 - val_loss: 0.9400\n",
            "Epoch 8/10\n",
            "95794/95794 [==============================] - 13s 138us/step - loss: 1.1769 - val_loss: 0.9358\n",
            "Epoch 9/10\n",
            "95794/95794 [==============================] - 13s 138us/step - loss: 1.1502 - val_loss: 0.9534\n",
            "Epoch 10/10\n",
            "95794/95794 [==============================] - 13s 139us/step - loss: 1.1117 - val_loss: 0.9608\n"
          ],
          "name": "stdout"
        },
        {
          "output_type": "display_data",
          "data": {
            "image/png": "[encoded data removed]",
            "text/plain": [
              "<Figure size 432x288 with 1 Axes>"
            ]
          },
          "metadata": {
            "tags": []
          }
        }
      ]
    },
    {
      "cell_type": "markdown",
      "metadata": {
        "id": "EjmI0CuZFLIU",
        "colab_type": "text"
      },
      "source": [
        "## Make Predictions\n",
        "\n",
        "We can make predictions for a given user by creating a numpy array of all movies and a numpy array of the same dimension filled with just the one user we are interested in. The model will predict ratings for the specified user given all movies in the test data set.\n",
        "\n",
        "We can then sort the data set by predicted rating descending to get the best recommendations first."
      ]
    },
    {
      "cell_type": "code",
      "metadata": {
        "id": "WwzJSCvhj8U8",
        "colab_type": "code",
        "colab": {
          "base_uri": "https://localhost:8080/",
          "height": 357
        },
        "outputId": "6316be5b-2a7f-4aab-9be7-2c6139c337ee"
      },
      "source": [
        "# The user for whom we want to make recommendations\n",
        "userNumber = 0\n",
        "\n",
        "movie_vector = test.movieSeq.values\n",
        "user_vector = np.ones((len(test),)) * userNumber\n",
        "predictions = model.predict([user_vector, movie_vector])\n",
        "pSeries = pd.Series([a[0] for a in predictions])\n",
        "predictedDF = test.copy()\n",
        "predictedDF['Predictions'] = pSeries\n",
        "\n",
        "predictedDF.drop_duplicates(subset=['movieSeq']).sort_values(by='Predictions', ascending=False).head(10)"
      ],
      "execution_count": 197,
      "outputs": [
        {
          "output_type": "execute_result",
          "data": {
            "text/html": [
              "<div>\n",
              "<style scoped>\n",
              "    .dataframe tbody tr th:only-of-type {\n",
              "        vertical-align: middle;\n",
              "    }\n",
              "\n",
              "    .dataframe tbody tr th {\n",
              "        vertical-align: top;\n",
              "    }\n",
              "\n",
              "    .dataframe thead th {\n",
              "        text-align: right;\n",
              "    }\n",
              "</style>\n",
              "<table border=\"1\" class=\"dataframe\">\n",
              "  <thead>\n",
              "    <tr style=\"text-align: right;\">\n",
              "      <th></th>\n",
              "      <th>userId</th>\n",
              "      <th>movieId</th>\n",
              "      <th>rating</th>\n",
              "      <th>title</th>\n",
              "      <th>userSeq</th>\n",
              "      <th>movieSeq</th>\n",
              "      <th>Predictions</th>\n",
              "    </tr>\n",
              "  </thead>\n",
              "  <tbody>\n",
              "    <tr>\n",
              "      <th>2930</th>\n",
              "      <td>579</td>\n",
              "      <td>367</td>\n",
              "      <td>4.0</td>\n",
              "      <td>Mask, The (1994)</td>\n",
              "      <td>578</td>\n",
              "      <td>325</td>\n",
              "      <td>5.097548</td>\n",
              "    </tr>\n",
              "    <tr>\n",
              "      <th>1696</th>\n",
              "      <td>308</td>\n",
              "      <td>260</td>\n",
              "      <td>2.5</td>\n",
              "      <td>Star Wars: Episode IV - A New Hope (1977)</td>\n",
              "      <td>307</td>\n",
              "      <td>224</td>\n",
              "      <td>4.884718</td>\n",
              "    </tr>\n",
              "    <tr>\n",
              "      <th>4589</th>\n",
              "      <td>1</td>\n",
              "      <td>596</td>\n",
              "      <td>5.0</td>\n",
              "      <td>Pinocchio (1940)</td>\n",
              "      <td>0</td>\n",
              "      <td>513</td>\n",
              "      <td>4.788651</td>\n",
              "    </tr>\n",
              "    <tr>\n",
              "      <th>3731</th>\n",
              "      <td>452</td>\n",
              "      <td>527</td>\n",
              "      <td>5.0</td>\n",
              "      <td>Schindler's List (1993)</td>\n",
              "      <td>451</td>\n",
              "      <td>461</td>\n",
              "      <td>4.693644</td>\n",
              "    </tr>\n",
              "    <tr>\n",
              "      <th>2950</th>\n",
              "      <td>414</td>\n",
              "      <td>423</td>\n",
              "      <td>2.0</td>\n",
              "      <td>Blown Away (1994)</td>\n",
              "      <td>413</td>\n",
              "      <td>367</td>\n",
              "      <td>4.671918</td>\n",
              "    </tr>\n",
              "    <tr>\n",
              "      <th>355</th>\n",
              "      <td>559</td>\n",
              "      <td>6</td>\n",
              "      <td>5.0</td>\n",
              "      <td>Heat (1995)</td>\n",
              "      <td>558</td>\n",
              "      <td>5</td>\n",
              "      <td>4.599598</td>\n",
              "    </tr>\n",
              "    <tr>\n",
              "      <th>1194</th>\n",
              "      <td>434</td>\n",
              "      <td>163</td>\n",
              "      <td>3.0</td>\n",
              "      <td>Desperado (1995)</td>\n",
              "      <td>433</td>\n",
              "      <td>136</td>\n",
              "      <td>4.574470</td>\n",
              "    </tr>\n",
              "    <tr>\n",
              "      <th>184</th>\n",
              "      <td>534</td>\n",
              "      <td>1</td>\n",
              "      <td>4.0</td>\n",
              "      <td>Toy Story (1995)</td>\n",
              "      <td>533</td>\n",
              "      <td>0</td>\n",
              "      <td>4.553178</td>\n",
              "    </tr>\n",
              "    <tr>\n",
              "      <th>4955</th>\n",
              "      <td>470</td>\n",
              "      <td>648</td>\n",
              "      <td>3.0</td>\n",
              "      <td>Mission: Impossible (1996)</td>\n",
              "      <td>469</td>\n",
              "      <td>546</td>\n",
              "      <td>4.550874</td>\n",
              "    </tr>\n",
              "    <tr>\n",
              "      <th>2784</th>\n",
              "      <td>541</td>\n",
              "      <td>362</td>\n",
              "      <td>5.0</td>\n",
              "      <td>Jungle Book, The (1994)</td>\n",
              "      <td>540</td>\n",
              "      <td>320</td>\n",
              "      <td>4.447228</td>\n",
              "    </tr>\n",
              "  </tbody>\n",
              "</table>\n",
              "</div>"
            ],
            "text/plain": [
              "      userId  movieId  rating  ... userSeq  movieSeq  Predictions\n",
              "2930     579      367     4.0  ...     578       325     5.097548\n",
              "1696     308      260     2.5  ...     307       224     4.884718\n",
              "4589       1      596     5.0  ...       0       513     4.788651\n",
              "3731     452      527     5.0  ...     451       461     4.693644\n",
              "2950     414      423     2.0  ...     413       367     4.671918\n",
              "355      559        6     5.0  ...     558         5     4.599598\n",
              "1194     434      163     3.0  ...     433       136     4.574470\n",
              "184      534        1     4.0  ...     533         0     4.553178\n",
              "4955     470      648     3.0  ...     469       546     4.550874\n",
              "2784     541      362     5.0  ...     540       320     4.447228\n",
              "\n",
              "[10 rows x 7 columns]"
            ]
          },
          "metadata": {
            "tags": []
          },
          "execution_count": 197
        }
      ]
    },
    {
      "cell_type": "markdown",
      "metadata": {
        "id": "Ga2dHwYa7pP2",
        "colab_type": "text"
      },
      "source": [
        "## Error Analysis\n",
        "\n",
        "Let's look at some movies where the ground truth did not compare well with predictions."
      ]
    },
    {
      "cell_type": "code",
      "metadata": {
        "id": "xC6srYBe6CU3",
        "colab_type": "code",
        "colab": {
          "base_uri": "https://localhost:8080/",
          "height": 203
        },
        "outputId": "96446c7f-ac0e-4445-86b2-3bc8027ca53e"
      },
      "source": [
        "oneUser = predictedDF[predictedDF.userSeq == userNumber].copy()\n",
        "oneUser['Error'] = (oneUser.rating - oneUser.Predictions)**2\n",
        "oneUser.sort_values(by='Error', ascending=False).head(5)"
      ],
      "execution_count": 198,
      "outputs": [
        {
          "output_type": "execute_result",
          "data": {
            "text/html": [
              "<div>\n",
              "<style scoped>\n",
              "    .dataframe tbody tr th:only-of-type {\n",
              "        vertical-align: middle;\n",
              "    }\n",
              "\n",
              "    .dataframe tbody tr th {\n",
              "        vertical-align: top;\n",
              "    }\n",
              "\n",
              "    .dataframe thead th {\n",
              "        text-align: right;\n",
              "    }\n",
              "</style>\n",
              "<table border=\"1\" class=\"dataframe\">\n",
              "  <thead>\n",
              "    <tr style=\"text-align: right;\">\n",
              "      <th></th>\n",
              "      <th>userId</th>\n",
              "      <th>movieId</th>\n",
              "      <th>rating</th>\n",
              "      <th>title</th>\n",
              "      <th>userSeq</th>\n",
              "      <th>movieSeq</th>\n",
              "      <th>Predictions</th>\n",
              "      <th>Error</th>\n",
              "    </tr>\n",
              "  </thead>\n",
              "  <tbody>\n",
              "    <tr>\n",
              "      <th>2946</th>\n",
              "      <td>1</td>\n",
              "      <td>423</td>\n",
              "      <td>3.0</td>\n",
              "      <td>Blown Away (1994)</td>\n",
              "      <td>0</td>\n",
              "      <td>367</td>\n",
              "      <td>4.574666</td>\n",
              "      <td>2.479573</td>\n",
              "    </tr>\n",
              "    <tr>\n",
              "      <th>3570</th>\n",
              "      <td>1</td>\n",
              "      <td>527</td>\n",
              "      <td>5.0</td>\n",
              "      <td>Schindler's List (1993)</td>\n",
              "      <td>0</td>\n",
              "      <td>461</td>\n",
              "      <td>3.757696</td>\n",
              "      <td>1.543318</td>\n",
              "    </tr>\n",
              "    <tr>\n",
              "      <th>369</th>\n",
              "      <td>1</td>\n",
              "      <td>47</td>\n",
              "      <td>5.0</td>\n",
              "      <td>Seven (a.k.a. Se7en) (1995)</td>\n",
              "      <td>0</td>\n",
              "      <td>43</td>\n",
              "      <td>4.328542</td>\n",
              "      <td>0.450856</td>\n",
              "    </tr>\n",
              "    <tr>\n",
              "      <th>4992</th>\n",
              "      <td>1</td>\n",
              "      <td>661</td>\n",
              "      <td>5.0</td>\n",
              "      <td>James and the Giant Peach (1996)</td>\n",
              "      <td>0</td>\n",
              "      <td>551</td>\n",
              "      <td>4.354843</td>\n",
              "      <td>0.416227</td>\n",
              "    </tr>\n",
              "    <tr>\n",
              "      <th>4589</th>\n",
              "      <td>1</td>\n",
              "      <td>596</td>\n",
              "      <td>5.0</td>\n",
              "      <td>Pinocchio (1940)</td>\n",
              "      <td>0</td>\n",
              "      <td>513</td>\n",
              "      <td>4.788651</td>\n",
              "      <td>0.044669</td>\n",
              "    </tr>\n",
              "  </tbody>\n",
              "</table>\n",
              "</div>"
            ],
            "text/plain": [
              "      userId  movieId  rating  ... movieSeq  Predictions     Error\n",
              "2946       1      423     3.0  ...      367     4.574666  2.479573\n",
              "3570       1      527     5.0  ...      461     3.757696  1.543318\n",
              "369        1       47     5.0  ...       43     4.328542  0.450856\n",
              "4992       1      661     5.0  ...      551     4.354843  0.416227\n",
              "4589       1      596     5.0  ...      513     4.788651  0.044669\n",
              "\n",
              "[5 rows x 8 columns]"
            ]
          },
          "metadata": {
            "tags": []
          },
          "execution_count": 198
        }
      ]
    },
    {
      "cell_type": "code",
      "metadata": {
        "id": "EaaOoNBLKyPt",
        "colab_type": "code",
        "colab": {
          "base_uri": "https://localhost:8080/",
          "height": 357
        },
        "outputId": "0c6f8f87-c0ce-408e-fbdc-43358652064d"
      },
      "source": [
        "ratings[ratings.movieSeq == 367]"
      ],
      "execution_count": 199,
      "outputs": [
        {
          "output_type": "execute_result",
          "data": {
            "text/html": [
              "<div>\n",
              "<style scoped>\n",
              "    .dataframe tbody tr th:only-of-type {\n",
              "        vertical-align: middle;\n",
              "    }\n",
              "\n",
              "    .dataframe tbody tr th {\n",
              "        vertical-align: top;\n",
              "    }\n",
              "\n",
              "    .dataframe thead th {\n",
              "        text-align: right;\n",
              "    }\n",
              "</style>\n",
              "<table border=\"1\" class=\"dataframe\">\n",
              "  <thead>\n",
              "    <tr style=\"text-align: right;\">\n",
              "      <th></th>\n",
              "      <th>userId</th>\n",
              "      <th>movieId</th>\n",
              "      <th>rating</th>\n",
              "      <th>title</th>\n",
              "      <th>userSeq</th>\n",
              "      <th>movieSeq</th>\n",
              "    </tr>\n",
              "  </thead>\n",
              "  <tbody>\n",
              "    <tr>\n",
              "      <th>2946</th>\n",
              "      <td>1</td>\n",
              "      <td>423</td>\n",
              "      <td>3.0</td>\n",
              "      <td>Blown Away (1994)</td>\n",
              "      <td>0</td>\n",
              "      <td>367</td>\n",
              "    </tr>\n",
              "    <tr>\n",
              "      <th>2947</th>\n",
              "      <td>19</td>\n",
              "      <td>423</td>\n",
              "      <td>3.0</td>\n",
              "      <td>Blown Away (1994)</td>\n",
              "      <td>18</td>\n",
              "      <td>367</td>\n",
              "    </tr>\n",
              "    <tr>\n",
              "      <th>2948</th>\n",
              "      <td>217</td>\n",
              "      <td>423</td>\n",
              "      <td>3.0</td>\n",
              "      <td>Blown Away (1994)</td>\n",
              "      <td>216</td>\n",
              "      <td>367</td>\n",
              "    </tr>\n",
              "    <tr>\n",
              "      <th>2949</th>\n",
              "      <td>268</td>\n",
              "      <td>423</td>\n",
              "      <td>2.0</td>\n",
              "      <td>Blown Away (1994)</td>\n",
              "      <td>267</td>\n",
              "      <td>367</td>\n",
              "    </tr>\n",
              "    <tr>\n",
              "      <th>2950</th>\n",
              "      <td>414</td>\n",
              "      <td>423</td>\n",
              "      <td>2.0</td>\n",
              "      <td>Blown Away (1994)</td>\n",
              "      <td>413</td>\n",
              "      <td>367</td>\n",
              "    </tr>\n",
              "    <tr>\n",
              "      <th>2951</th>\n",
              "      <td>438</td>\n",
              "      <td>423</td>\n",
              "      <td>3.0</td>\n",
              "      <td>Blown Away (1994)</td>\n",
              "      <td>437</td>\n",
              "      <td>367</td>\n",
              "    </tr>\n",
              "    <tr>\n",
              "      <th>2952</th>\n",
              "      <td>599</td>\n",
              "      <td>423</td>\n",
              "      <td>2.5</td>\n",
              "      <td>Blown Away (1994)</td>\n",
              "      <td>598</td>\n",
              "      <td>367</td>\n",
              "    </tr>\n",
              "    <tr>\n",
              "      <th>2953</th>\n",
              "      <td>603</td>\n",
              "      <td>423</td>\n",
              "      <td>4.0</td>\n",
              "      <td>Blown Away (1994)</td>\n",
              "      <td>602</td>\n",
              "      <td>367</td>\n",
              "    </tr>\n",
              "    <tr>\n",
              "      <th>2954</th>\n",
              "      <td>607</td>\n",
              "      <td>423</td>\n",
              "      <td>3.0</td>\n",
              "      <td>Blown Away (1994)</td>\n",
              "      <td>606</td>\n",
              "      <td>367</td>\n",
              "    </tr>\n",
              "    <tr>\n",
              "      <th>2955</th>\n",
              "      <td>608</td>\n",
              "      <td>423</td>\n",
              "      <td>3.0</td>\n",
              "      <td>Blown Away (1994)</td>\n",
              "      <td>607</td>\n",
              "      <td>367</td>\n",
              "    </tr>\n",
              "  </tbody>\n",
              "</table>\n",
              "</div>"
            ],
            "text/plain": [
              "      userId  movieId  rating              title  userSeq  movieSeq\n",
              "2946       1      423     3.0  Blown Away (1994)        0       367\n",
              "2947      19      423     3.0  Blown Away (1994)       18       367\n",
              "2948     217      423     3.0  Blown Away (1994)      216       367\n",
              "2949     268      423     2.0  Blown Away (1994)      267       367\n",
              "2950     414      423     2.0  Blown Away (1994)      413       367\n",
              "2951     438      423     3.0  Blown Away (1994)      437       367\n",
              "2952     599      423     2.5  Blown Away (1994)      598       367\n",
              "2953     603      423     4.0  Blown Away (1994)      602       367\n",
              "2954     607      423     3.0  Blown Away (1994)      606       367\n",
              "2955     608      423     3.0  Blown Away (1994)      607       367"
            ]
          },
          "metadata": {
            "tags": []
          },
          "execution_count": 199
        }
      ]
    }
  ]
}