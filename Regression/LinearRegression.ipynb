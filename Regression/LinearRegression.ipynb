{
 "cells": [
  {
   "cell_type": "code",
   "execution_count": 6,
   "metadata": {},
   "outputs": [],
   "source": [
    "import numpy as np\n",
    "from matplotlib import pyplot as plt"
   ]
  },
  {
   "cell_type": "markdown",
   "metadata": {},
   "source": [
    "# Linear Regression\n",
    "\n",
    "Linear regression is a classic method of fitting a line to a set of data. It can be extended to fitting any curve with linear coefficients."
   ]
  },
  {
   "cell_type": "markdown",
   "metadata": {},
   "source": [
    "## Basic Algebra\n",
    "\n",
    "A line can be defined using this standard equation:\n",
    "\n",
    "$$y = a x + b$$\n",
    "\n",
    "Where $a$ is the slope and $b$ is the y-intercept. Given two sets of points $x_1, y_1 and x_2, y_2$, we have two equations with two unknowns. It is then possible to solve for $a$ and $b$ explicitly.\n",
    "\n",
    "For example, given the points 2, 1 and 3, 3, we can visualize these points:"
   ]
  },
  {
   "cell_type": "code",
   "execution_count": 4,
   "metadata": {},
   "outputs": [
    {
     "data": {
      "image/png": "[encoded data removed]",
      "text/plain": [
       "<Figure size 432x288 with 1 Axes>"
      ]
     },
     "metadata": {
      "needs_background": "light"
     },
     "output_type": "display_data"
    }
   ],
   "source": [
    "(x1, y1) = (2, 1)\n",
    "(x2, y2) = (3, 3)\n",
    "\n",
    "plt.plot(x1, y1, 'ro')\n",
    "plt.plot(x2, y2, 'ro')\n",
    "plt.plot([x1, x2], [y1, y2])\n",
    "plt.show()"
   ]
  },
  {
   "cell_type": "markdown",
   "metadata": {},
   "source": [
    "To solve for constants $a$ and $b$, we can write these two equations:\n",
    "\n",
    "$$1 = 2 a + b$$\n",
    "\n",
    "$$3 = 3 a + b$$\n",
    "\n",
    "Using basic algebra, we find the values for $a$ and $b$ are:\n",
    "\n",
    "$$a = 2$$\n",
    "\n",
    "$$b = -3$$\n",
    "\n",
    "Redrawing the graph with the y-intercept:"
   ]
  },
  {
   "cell_type": "code",
   "execution_count": 5,
   "metadata": {},
   "outputs": [
    {
     "data": {
      "image/png": "[encoded data removed]",
      "text/plain": [
       "<Figure size 432x288 with 1 Axes>"
      ]
     },
     "metadata": {
      "needs_background": "light"
     },
     "output_type": "display_data"
    }
   ],
   "source": [
    "a = 2\n",
    "b = -3\n",
    "\n",
    "plt.plot(x1, y1, 'ro')\n",
    "plt.plot(x2, y2, 'ro')\n",
    "plt.plot([0, x2], [b, y2])\n",
    "plt.show()"
   ]
  },
  {
   "cell_type": "markdown",
   "metadata": {},
   "source": [
    "## Linear Algebra\n",
    "\n",
    "The problem above can be abstracted using [linear algebra](https://en.wikipedia.org/wiki/Linear_algebra). The system of equations above can be rewritten in matrix form:\n",
    "\n",
    "$$1 = 2 a + b$$\n",
    "\n",
    "$$3 = 3 a + b$$\n",
    "\n",
    "$$ \\begin{bmatrix}\n",
    "1 \\\\\n",
    "3\n",
    "\\end{bmatrix} = \\begin{bmatrix}\n",
    "2 & 1 \\\\\n",
    "3 & 1 \\\\\n",
    "\\end{bmatrix} \\begin{bmatrix}\n",
    "a \\\\\n",
    "b\n",
    "\\end{bmatrix}$$\n",
    "\n",
    "This can be written more generally as matrix equation\n",
    "\n",
    "$$y = A v$$\n",
    "\n",
    "Where $A$ is a matrix and $v$ is a vector.\n",
    "\n",
    "To solve for $a$ and $b$, consider how we would solve a simple equation such as\n",
    "\n",
    "$$1 = 2 x$$\n",
    "\n",
    "We could multiply both sides of the equation by the inverse of $2$, which $2^{-1}$\n",
    "\n",
    "$$2^{-1} \\times 1 = 2^{-1} \\times 2 x$$\n",
    "\n",
    "$2 \\times 2^{-1}$ is obviously $1$, so\n",
    "\n",
    "$$x = \\frac{1}{2}$$\n",
    "\n",
    "By analogy, multiplying the matrix equation above by the inverse of $A$ or $A^{-1}$ on both sides would look like this\n",
    "\n",
    "$$y = A v$$\n",
    "\n",
    "$$A^{-1} y = A^{-1} A v$$\n",
    "\n",
    "The quantity $A A^{-1}$ becomes the [identity matrix](https://en.wikipedia.org/wiki/Identity_matrix), so the vector $v$ would then be\n",
    "\n",
    "$$v = A^{-1} y$$\n",
    "\n",
    "NumPy contains methods to compute the inverse of a matrix."
   ]
  },
  {
   "cell_type": "code",
   "execution_count": 16,
   "metadata": {},
   "outputs": [
    {
     "data": {
      "text/plain": [
       "array([[2, 1],\n",
       "       [3, 1]])"
      ]
     },
     "execution_count": 16,
     "metadata": {},
     "output_type": "execute_result"
    }
   ],
   "source": [
    "A = np.array([[2, 1], [3, 1]])\n",
    "A"
   ]
  },
  {
   "cell_type": "code",
   "execution_count": 17,
   "metadata": {},
   "outputs": [
    {
     "data": {
      "text/plain": [
       "array([[-1.,  1.],\n",
       "       [ 3., -2.]])"
      ]
     },
     "execution_count": 17,
     "metadata": {},
     "output_type": "execute_result"
    }
   ],
   "source": [
    "Ainv = np.linalg.inv(A)\n",
    "Ainv"
   ]
  },
  {
   "cell_type": "code",
   "execution_count": 19,
   "metadata": {},
   "outputs": [
    {
     "data": {
      "text/plain": [
       "array([ 2., -3.])"
      ]
     },
     "execution_count": 19,
     "metadata": {},
     "output_type": "execute_result"
    }
   ],
   "source": [
    "y = np.array([1, 3])\n",
    "Ainv.dot(y)"
   ]
  },
  {
   "cell_type": "markdown",
   "metadata": {},
   "source": [
    "Which is the same result as before with basic algebra."
   ]
  },
  {
   "cell_type": "markdown",
   "metadata": {},
   "source": [
    "## More Data\n",
    "\n",
    "Consider the case when more than two data points are available."
   ]
  },
  {
   "cell_type": "markdown",
   "metadata": {},
   "source": [
    "Given a set of samples, $x_1, x_2, ... x_n$ and $y_1, y_2, ... y_n$, a simple linear model can be written as:\n",
    "\n",
    "$$ y_i = a x_i + b\\tag{1}$$"
   ]
  },
  {
   "cell_type": "markdown",
   "metadata": {},
   "source": [
    "(1) can be rewritten in matrix form:\n",
    "\n",
    "$$ \\begin{bmatrix}\n",
    "y_1 \\\\\n",
    "y_2 \\\\\n",
    "... \\\\\n",
    "y_n\n",
    "\\end{bmatrix} = \\begin{bmatrix}\n",
    "x_1 & 1 \\\\\n",
    "x_2 & 1 \\\\\n",
    "... \\\\\n",
    "x_n & 1\n",
    "\\end{bmatrix} \\begin{bmatrix}\n",
    "a \\\\\n",
    "b\n",
    "\\end{bmatrix} \\tag{2}$$"
   ]
  },
  {
   "cell_type": "markdown",
   "metadata": {},
   "source": [
    "Introduce variables for simplification:\n",
    "\n",
    "$$ y = \\begin{bmatrix}\n",
    "y_1 \\\\\n",
    "y_2 \\\\\n",
    "... \\\\\n",
    "y_n\n",
    "\\end{bmatrix} \\tag{3}$$\n",
    "\n",
    "$$ A = \\begin{bmatrix}\n",
    "x_1 & 1 \\\\\n",
    "x_2 & 1 \\\\\n",
    "... \\\\\n",
    "x_n & 1\n",
    "\\end{bmatrix} \\tag{4}$$"
   ]
  },
  {
   "cell_type": "markdown",
   "metadata": {},
   "source": [
    "Substitute variables defined in (3) and (4) to produce a simplifed form of (2):\n",
    "\n",
    "$$ y = A \\begin{bmatrix}\n",
    "a \\\\\n",
    "b\n",
    "\\end{bmatrix} \\tag{5}$$"
   ]
  },
  {
   "cell_type": "markdown",
   "metadata": {},
   "source": [
    "If $A$ is a square matrix, i.e. $n = 2$, $a$ and $b$ can be determined exactly:\n",
    "\n",
    "$$ \\begin{bmatrix}\n",
    "a \\\\\n",
    "b\n",
    "\\end{bmatrix} = A^{-1} y \\tag{6}$$"
   ]
  },
  {
   "cell_type": "markdown",
   "metadata": {},
   "source": [
    "In the case where $n > 2$, $A$ is not square and cannot be inverted. One solution is to compute a pseudo-inverse by multiplying $A$ by it's transpose $A^T$, which will yield a square matrix on the right hand side:\n",
    "\n",
    "$$ A^T y = A^T A \\begin{bmatrix}\n",
    "a \\\\\n",
    "b\n",
    "\\end{bmatrix} \\tag{7}$$"
   ]
  },
  {
   "cell_type": "markdown",
   "metadata": {},
   "source": [
    "The matrix $A^T A$ on the right can be eliminated by multiplying by it's inverse $(A^T A)^{-1}$:\n",
    "\n",
    "$$ (A^T A)^{-1} A^T y = (A^T A)^{-1} (A^T A) \\begin{bmatrix}\n",
    "a \\\\\n",
    "b\n",
    "\\end{bmatrix} \\tag{8} $$"
   ]
  },
  {
   "cell_type": "markdown",
   "metadata": {},
   "source": [
    "Simplifying yields the result for $a$ and $b$:\n",
    "\n",
    "$$ \\begin{bmatrix}\n",
    "a \\\\\n",
    "b\n",
    "\\end{bmatrix} = (A^T A)^{-1} A^T y\\tag{9}$$"
   ]
  },
  {
   "cell_type": "markdown",
   "metadata": {},
   "source": [
    "## Model Accuracy\n",
    "\n",
    "The accuracy of the model above can be measured by computing the mean squared error between predicted and training values:\n",
    "\n",
    "$$ \\epsilon = \\frac{1}{m} \\sum_{i=1}^{m} (a x_i + b - y_i)^2 $$\n",
    "\n",
    "The prediction error can be computed in the same way, but using the test samples instead of the training samples.\n",
    "\n",
    "Test error can be different and training error, for example:\n",
    "\n",
    "- If training error is high, this is a case of __high bias__. This generally means the model is not powerful enough to fit the training data.\n",
    "- If the training error is low, but the test error is high, this is a case of __high variance__. This usually often means the model is overfitting and does not generalize well with data it has not seen."
   ]
  },
  {
   "cell_type": "markdown",
   "metadata": {},
   "source": [
    "## Extending the Model\n",
    "\n",
    "In the case where a straight line will not accurately fit the available data, a more complex mode can be used. For example, a quadratic model might be more suitable:\n",
    "\n",
    "$$ y_i = a {x_i}^2 + b x_i + c \\tag{10}$$"
   ]
  },
  {
   "cell_type": "markdown",
   "metadata": {},
   "source": [
    "In matrix form:\n",
    "\n",
    "$$ \\begin{bmatrix}\n",
    "y_1 \\\\\n",
    "y_2 \\\\\n",
    "... \\\\\n",
    "y_n\n",
    "\\end{bmatrix} = \\begin{bmatrix}\n",
    "{x_1}^2 & x_1 & 1 \\\\\n",
    "{x_2}^2 & x_2 & 1 \\\\\n",
    "... \\\\\n",
    "{x_n}^2 & x_n & 1\n",
    "\\end{bmatrix} \\begin{bmatrix}\n",
    "a \\\\\n",
    "b \\\\\n",
    "... \\\\\n",
    "c\n",
    "\\end{bmatrix} \\tag{11}$$"
   ]
  },
  {
   "cell_type": "markdown",
   "metadata": {},
   "source": [
    "In this case the matrix $A$ is:\n",
    "\n",
    "$$ A = \\begin{bmatrix}\n",
    "{x_1}^2 & x_1 & 1 \\\\\n",
    "{x_2}^2 & x_2 & 1 \\\\\n",
    "... \\\\\n",
    "{x_n}^2 & x_n & 1\n",
    "\\end{bmatrix}\\tag{12}$$"
   ]
  },
  {
   "cell_type": "markdown",
   "metadata": {},
   "source": [
    "The same procedure can be used to find $a$, $b$, and $c$:\n",
    "\n",
    "$$ \\begin{bmatrix}\n",
    "a \\\\\n",
    "b \\\\\n",
    "c\n",
    "\\end{bmatrix} = (A^T A)^{-1} A^T y \\tag{13}$$"
   ]
  },
  {
   "cell_type": "code",
   "execution_count": null,
   "metadata": {},
   "outputs": [],
   "source": []
  }
 ],
 "metadata": {
  "kernelspec": {
   "display_name": "Python 3",
   "language": "python",
   "name": "python3"
  },
  "language_info": {
   "codemirror_mode": {
    "name": "ipython",
    "version": 3
   },
   "file_extension": ".py",
   "mimetype": "text/x-python",
   "name": "python",
   "nbconvert_exporter": "python",
   "pygments_lexer": "ipython3",
   "version": "3.6.8"
  }
 },
 "nbformat": 4,
 "nbformat_minor": 2
}
