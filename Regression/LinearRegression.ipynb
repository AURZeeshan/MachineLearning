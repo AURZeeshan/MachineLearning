{
 "cells": [
  {
   "cell_type": "markdown",
   "metadata": {},
   "source": [
    "## Linear Regression\n",
    "\n",
    "Given a set of samples, $x_1, x_2, ... x_n$ and $y_1, y_2, ... y_n$, a simple linear model can be written as:\n",
    "\n",
    "$$ y_i = a x_i + b\\tag{1}$$"
   ]
  },
  {
   "cell_type": "markdown",
   "metadata": {},
   "source": [
    "(1) can be rewritten in matrix form:\n",
    "\n",
    "$$ \\begin{bmatrix}\n",
    "y_1 \\\\\n",
    "y_2 \\\\\n",
    "... \\\\\n",
    "y_n\n",
    "\\end{bmatrix} = \\begin{bmatrix}\n",
    "x_1 & 1 \\\\\n",
    "x_2 & 1 \\\\\n",
    "... \\\\\n",
    "x_n & 1\n",
    "\\end{bmatrix} \\begin{bmatrix}\n",
    "a \\\\\n",
    "b\n",
    "\\end{bmatrix} \\tag{2}$$"
   ]
  },
  {
   "cell_type": "markdown",
   "metadata": {},
   "source": [
    "Introduce variables for simplification:\n",
    "\n",
    "$$ y = \\begin{bmatrix}\n",
    "y_1 \\\\\n",
    "y_2 \\\\\n",
    "... \\\\\n",
    "y_n\n",
    "\\end{bmatrix} \\tag{3}$$\n",
    "\n",
    "$$ A = \\begin{bmatrix}\n",
    "x_1 & 1 \\\\\n",
    "x_2 & 1 \\\\\n",
    "... \\\\\n",
    "x_n & 1\n",
    "\\end{bmatrix} \\tag{4}$$"
   ]
  },
  {
   "cell_type": "markdown",
   "metadata": {},
   "source": [
    "Substitute variables defined in (3) and (4) to produce a simplifed form of (2):\n",
    "\n",
    "$$ y = A \\begin{bmatrix}\n",
    "a \\\\\n",
    "b\n",
    "\\end{bmatrix} \\tag{5}$$"
   ]
  },
  {
   "cell_type": "markdown",
   "metadata": {},
   "source": [
    "If $A$ is a square matrix, i.e. $n = 2$, $a$ and $b$ can be determined exactly:\n",
    "\n",
    "$$ \\begin{bmatrix}\n",
    "a \\\\\n",
    "b\n",
    "\\end{bmatrix} = A^{-1} y \\tag{6}$$"
   ]
  },
  {
   "cell_type": "markdown",
   "metadata": {},
   "source": [
    "In the case where $n > 2$, $A$ is not square and cannot be inverted. One solution is to compute a pseudo-inverse by multiplying $A$ by it's transpose $A^T$, which will yield a square matrix on the right hand side:\n",
    "\n",
    "$$ A^T y = A^T A \\begin{bmatrix}\n",
    "a \\\\\n",
    "b\n",
    "\\end{bmatrix} \\tag{7}$$"
   ]
  },
  {
   "cell_type": "markdown",
   "metadata": {},
   "source": [
    "The matrix $A^T A$ on the right can be eliminated by multiplying by it's inverse $(A^T A)^{-1}$:\n",
    "\n",
    "$$ (A^T A)^{-1} A^T y = (A^T A)^{-1} (A^T A) \\begin{bmatrix}\n",
    "a \\\\\n",
    "b\n",
    "\\end{bmatrix} \\tag{8} $$"
   ]
  },
  {
   "cell_type": "markdown",
   "metadata": {},
   "source": [
    "Simplifying yields the result for $a$ and $b$:\n",
    "\n",
    "$$ \\begin{bmatrix}\n",
    "a \\\\\n",
    "b\n",
    "\\end{bmatrix} = (A^T A)^{-1} A^T y\\tag{9}$$"
   ]
  },
  {
   "cell_type": "markdown",
   "metadata": {},
   "source": [
    "## Model Accuracy\n",
    "\n",
    "The accuracy of the model above can be measured by computing the mean squared error between predicted and training values:\n",
    "\n",
    "$$ \\epsilon = \\frac{1}{m} \\sum_{i=1}^{m} (a x_i + b - y_i)^2 $$\n",
    "\n",
    "The prediction error can be computed in the same way, but using the test samples instead of the training samples.\n",
    "\n",
    "Test error can be different and training error, for example:\n",
    "\n",
    "- If training error is high, this is a case of __high bias__. This generally means the model is not powerful enough to fit the training data.\n",
    "- If the training error is low, but the test error is high, this is a case of __high variance__. This usually often means the model is overfitting and does not generalize well with data it has not seen."
   ]
  },
  {
   "cell_type": "markdown",
   "metadata": {},
   "source": [
    "## Extending the Model\n",
    "\n",
    "In the case where a straight line will not accurately fit the available data, a more complex mode can be used. For example, a quadratic model might be more suitable:\n",
    "\n",
    "$$ y_i = a {x_i}^2 + b x_i + c \\tag{10}$$"
   ]
  },
  {
   "cell_type": "markdown",
   "metadata": {},
   "source": [
    "In matrix form:\n",
    "\n",
    "$$ \\begin{bmatrix}\n",
    "y_1 \\\\\n",
    "y_2 \\\\\n",
    "... \\\\\n",
    "y_n\n",
    "\\end{bmatrix} = \\begin{bmatrix}\n",
    "{x_1}^2 & x_1 & 1 \\\\\n",
    "{x_2}^2 & x_2 & 1 \\\\\n",
    "... \\\\\n",
    "{x_n}^2 & x_n & 1\n",
    "\\end{bmatrix} \\begin{bmatrix}\n",
    "a \\\\\n",
    "b \\\\\n",
    "... \\\\\n",
    "c\n",
    "\\end{bmatrix} \\tag{11}$$"
   ]
  },
  {
   "cell_type": "markdown",
   "metadata": {},
   "source": [
    "In this case the matrix $A$ is:\n",
    "\n",
    "$$ A = \\begin{bmatrix}\n",
    "{x_1}^2 & x_1 & 1 \\\\\n",
    "{x_2}^2 & x_2 & 1 \\\\\n",
    "... \\\\\n",
    "{x_n}^2 & x_n & 1\n",
    "\\end{bmatrix}\\tag{12}$$"
   ]
  },
  {
   "cell_type": "markdown",
   "metadata": {},
   "source": [
    "The same procedure can be used to find $a$, $b$, and $c$:\n",
    "\n",
    "$$ \\begin{bmatrix}\n",
    "a \\\\\n",
    "b \\\\\n",
    "c\n",
    "\\end{bmatrix} = (A^T A)^{-1} A^T y \\tag{13}$$"
   ]
  },
  {
   "cell_type": "code",
   "execution_count": null,
   "metadata": {},
   "outputs": [],
   "source": []
  }
 ],
 "metadata": {
  "kernelspec": {
   "display_name": "Python 3",
   "language": "python",
   "name": "python3"
  },
  "language_info": {
   "codemirror_mode": {
    "name": "ipython",
    "version": 3
   },
   "file_extension": ".py",
   "mimetype": "text/x-python",
   "name": "python",
   "nbconvert_exporter": "python",
   "pygments_lexer": "ipython3",
   "version": "3.6.8"
  }
 },
 "nbformat": 4,
 "nbformat_minor": 2
}
