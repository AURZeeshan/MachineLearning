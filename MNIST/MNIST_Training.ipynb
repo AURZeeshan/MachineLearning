{
 "cells": [
  {
   "cell_type": "markdown",
   "metadata": {},
   "source": [
    "## MNIST Handwritten Digit Recognition\n",
    "\n",
    "[MNIST](http://yann.lecun.com/exdb/mnist) is often considered the [hello world](https://en.wikipedia.org/wiki/%22Hello,_World!%22_program) of machine learning. It contains 70,000 images of handwritten digits suitable for image classification. Typically, 60,000 of these images are used for training and 10,000 are set aside for testing. Each digit is a black and white 28 x 28 pixel image along with a label, so the full dataset can be used for supervised training as well as testing unsupervised algorithms.\n",
    "\n",
    "Over the years, MNIST has been used to measure the accuracy of a number of different algorithms. In this example, we will train a standard three layer neural network. Even this simple model can achieve 98% accuracy, rivaling human performance.\n",
    "\n",
    "This example requires Python 3, Keras, Tensorflow, matplotlib, and numpy. You can use either Tensorflow-CPU or Tensorflow-GPU, of course Tensorflow-GPU will train significantly faster."
   ]
  },
  {
   "cell_type": "code",
   "execution_count": 1,
   "metadata": {},
   "outputs": [
    {
     "name": "stderr",
     "output_type": "stream",
     "text": [
      "Using TensorFlow backend.\n"
     ]
    }
   ],
   "source": [
    "import keras\n",
    "from keras.datasets import mnist\n",
    "from keras.models import Sequential\n",
    "from keras.layers import Dense, Dropout, Flatten\n",
    "from keras.optimizers import Adam\n",
    "from matplotlib import pyplot as plt\n",
    "import numpy as np\n",
    "import random"
   ]
  },
  {
   "cell_type": "markdown",
   "metadata": {},
   "source": [
    "These are some configuration parameters and hyperparameters."
   ]
  },
  {
   "cell_type": "code",
   "execution_count": 2,
   "metadata": {
    "collapsed": true
   },
   "outputs": [],
   "source": [
    "# The number of training samples per batch. 128 is a reasonable number.\n",
    "batch_size = 128\n",
    "\n",
    "# Our data set contains 10 digits, so the number of classes is 10\n",
    "num_classes = 10\n",
    "\n",
    "# epochs is the number of times the model is trained with the data set, more can be better, up to a point\n",
    "epochs = 20\n",
    "\n",
    "# dropout is a common regularization hyperperameter. It helps to avoid overfitting or memorizing the input.\n",
    "dropout = 0.5"
   ]
  },
  {
   "cell_type": "markdown",
   "metadata": {},
   "source": [
    "### Load data\n",
    "\n",
    "Keras has a builting function for loading MNIST data and splitting it into train and test sets. x_train and x_test are arrays of train and test input images respectively. Images are represented as a 28 x 28 matrix of pixel values. y_train and y_test are train and test labels respectively.\n",
    "\n",
    "Pixel values are normalized into values ranging from 0.0 - 1.0."
   ]
  },
  {
   "cell_type": "code",
   "execution_count": 3,
   "metadata": {},
   "outputs": [
    {
     "name": "stdout",
     "output_type": "stream",
     "text": [
      "60000 train samples\n",
      "10000 test samples\n"
     ]
    }
   ],
   "source": [
    "(x_train, y_train), (x_test, y_test) = mnist.load_data()\n",
    "\n",
    "# Save original test images for display purposes\n",
    "orig_test = x_test\n",
    "\n",
    "x_train, x_test = x_train / 255.0, x_test / 255.0\n",
    "\n",
    "print(x_train.shape[0], 'train samples')\n",
    "print(x_test.shape[0], 'test samples')"
   ]
  },
  {
   "cell_type": "markdown",
   "metadata": {},
   "source": [
    "The following cell display random test images to get an idea of what they look like."
   ]
  },
  {
   "cell_type": "code",
   "execution_count": 6,
   "metadata": {},
   "outputs": [
    {
     "data": {
      "image/png": "[encoded data removed]",
      "text/plain": [
       "<Figure size 432x288 with 1 Axes>"
      ]
     },
     "metadata": {
      "needs_background": "light"
     },
     "output_type": "display_data"
    }
   ],
   "source": [
    "index = random.randrange(1000)\n",
    "plt.imshow(orig_test[index], cmap='gray')\n",
    "plt.title('Label: %d' % y_test[index])\n",
    "plt.show()"
   ]
  },
  {
   "cell_type": "markdown",
   "metadata": {},
   "source": [
    "### Define Model\n",
    "\n",
    "This is the neural network model itself built using predefined Keras classes. This is a simple three layer model using dense, fully connected layers. Still, it achieves very good accuracy which demonstrates the predictive power of properly trained neural networks. The initial layer flattens the input matrix into a 784 element vector.\n",
    "\n",
    "The following two layers use a REctified Linear Unit activation function, which does not suffer from the \"vanishing gradient\" problem that plagued traditional sigmoid activation functions in the past. The output layer has 10 neurons corresponding to one of 10 possible digit classes. The neuron with the largest output is the most likely digit. This is known as one-hot encoding, a concept borrowed from digital logic.\n",
    "\n",
    "The best image recognition models use Convolutional Neural Networks (CNNs), which are like two dimensional FIR filters. The inpiration for CNNs comes from the visual cortex of animal brains. Models with over 100 CNN, pooling, padding, and other layers have been successfully trained to recognize complex objects as well as multiple objects in the one image."
   ]
  },
  {
   "cell_type": "code",
   "execution_count": 7,
   "metadata": {},
   "outputs": [
    {
     "name": "stdout",
     "output_type": "stream",
     "text": [
      "_________________________________________________________________\n",
      "Layer (type)                 Output Shape              Param #   \n",
      "=================================================================\n",
      "flatten_1 (Flatten)          (None, 784)               0         \n",
      "_________________________________________________________________\n",
      "dense_1 (Dense)              (None, 512)               401920    \n",
      "_________________________________________________________________\n",
      "dropout_1 (Dropout)          (None, 512)               0         \n",
      "_________________________________________________________________\n",
      "dense_2 (Dense)              (None, 512)               262656    \n",
      "_________________________________________________________________\n",
      "dropout_2 (Dropout)          (None, 512)               0         \n",
      "_________________________________________________________________\n",
      "dense_3 (Dense)              (None, 10)                5130      \n",
      "=================================================================\n",
      "Total params: 669,706\n",
      "Trainable params: 669,706\n",
      "Non-trainable params: 0\n",
      "_________________________________________________________________\n"
     ]
    }
   ],
   "source": [
    "# Create three layer model, two hidden layers, one output layer\n",
    "model = Sequential()\n",
    "model.add(Flatten(input_shape=(28,28)))\n",
    "model.add(Dense(512, activation='relu', input_shape=(784,)))\n",
    "model.add(Dropout(dropout))\n",
    "model.add(Dense(512, activation='relu'))\n",
    "model.add(Dropout(dropout))\n",
    "# 10 output units, one for each digit (one hot encoding)\n",
    "model.add(Dense(10, activation='softmax'))\n",
    "\n",
    "model.summary()"
   ]
  },
  {
   "cell_type": "markdown",
   "metadata": {},
   "source": [
    "### Train Model\n",
    "\n",
    "This is more or less boilerplate Keras code to train the model given the training data set. Keras can also evaluate the trained model given the test data set. Matplotlib is used to plot train and test accuracy as a function of the epoch number.\n",
    "\n",
    "Ideally, the accuracy with test and train data should be about the same. Low training accuracy means the model exhibits high bias. High bias could be caused by a weak model, not enough training examples, or too few training epochs. High train accuracy and low test accuracy is a case of high variance. This means the model is more or less \"memorizing\" the expected output and not generalizing well. High variance can be reduced through *regularization*."
   ]
  },
  {
   "cell_type": "code",
   "execution_count": 8,
   "metadata": {},
   "outputs": [
    {
     "name": "stdout",
     "output_type": "stream",
     "text": [
      "Train on 60000 samples, validate on 10000 samples\n",
      "Epoch 1/20\n",
      "60000/60000 [==============================] - 29s 481us/step - loss: 0.3473 - acc: 0.8942 - val_loss: 0.1171 - val_acc: 0.9634 ETA: 5s - loss: 0.3805 - a - ETA: 4s - loss: 0.3763 - a - ETA: 4 - ETA: 0s - loss: 0.3476 - acc: 0.894\n",
      "Epoch 2/20\n",
      "60000/60000 [==============================] - 29s 483us/step - loss: 0.1602 - acc: 0.9509 - val_loss: 0.0898 - val_acc: 0.9710.1604 - acc: 0 - ETA: 2s - loss: 0.1606 - acc: 0 - ETA: 0s - loss: 0.1604 - acc: 0.9\n",
      "Epoch 3/20\n",
      "60000/60000 [==============================] - 31s 520us/step - loss: 0.1256 - acc: 0.9618 - val_loss: 0.0760 - val_acc: 0.97612 - acc: - ETA: 2s - loss: 0.1259 - acc: 0.9 - ETA: 2s - loss: 0.1258 - ac - ETA: 1s - loss: 0.1261 - acc - ETA: 1s - loss: 0\n",
      "Epoch 4/20\n",
      "60000/60000 [==============================] - 31s 519us/step - loss: 0.1046 - acc: 0.9679 - val_loss: 0.0784 - val_acc: 0.97630. - ETA: 4s - loss: 0.1053 - acc: 0.9  - ETA: 1s - loss: 0.105 - ETA: 1s - loss: 0.1047 - acc: 0 - ETA: 0s - loss: 0.1042 - \n",
      "Epoch 5/20\n",
      "60000/60000 [==============================] - 31s 520us/step - loss: 0.0912 - acc: 0.9710 - val_loss: 0.0712 - val_acc: 0.97749s - loss - ETA: 19s - loss: 0.09 - ETA: 18 - ETA: 11s - loss: 0. - ETA: 10s -  - ETA: 9s - loss: 0.0922 - acc: 0. - ETA: 7s - loss: 0.0912 - acc - ETA: 6s - loss: 0.0910 - acc: - ETA: 6s - loss: 0.0915 - acc: 0.9 - ETA: 5s - loss: 0.0919 - acc: 0.970 - ETA: 5s - loss: - ETA: 4s - loss: 0.0914 - acc: 0.9 - ETA: 4s - loss: 0.091 - ETA: 3s - loss: 0.0910 - acc - ETA: 0s - loss: 0.0915 - acc: \n",
      "Epoch 6/20\n",
      "60000/60000 [==============================] - 32s 528us/step - loss: 0.0861 - acc: 0.9729 - val_loss: 0.0694 - val_acc: 0.9791- ETA: 11s - ETA: 5s - loss: 0.0853 - acc: 0 - ETA: 5s - loss: 0.0855 - acc:  - ETA: 4s - loss: 0.0852 -  - ETA: 3s - loss\n",
      "Epoch 7/20\n",
      "60000/60000 [==============================] - 32s 531us/step - loss: 0.0770 - acc: 0.9753 - val_loss: 0.0641 - val_acc: 0.9809. - ETA: 17s - loss: 0. - ETA: 17s - loss:  - ETA: 16s - loss: 0.0777 -  - ETA: 5s - loss: 0.0766 - ac - E - ETA: 0s - loss: 0.0768 - acc\n",
      "Epoch 8/20\n",
      "60000/60000 [==============================] - 32s 541us/step - loss: 0.0711 - acc: 0.9776 - val_loss: 0.0643 - val_acc: 0.9823724 - a - ETA: 1s\n",
      "Epoch 9/20\n",
      "60000/60000 [==============================] - 33s 553us/step - loss: 0.0658 - acc: 0.9788 - val_loss: 0.0622 - val_acc: 0.9822\n",
      "Epoch 10/20\n",
      "60000/60000 [==============================] - 32s 531us/step - loss: 0.0642 - acc: 0.9802 - val_loss: 0.0588 - val_acc: 0.9820cc: 0.98 - ETA: 7 - ETA: 5s - loss: 0.0631 - - ETA: 5s - loss: 0.0640 - acc:  - ETA: 4s - los - ETA: 3s - loss: 0.0641 -  - ETA: 2s - loss: 0.0637 - - ETA: 1s - lo\n",
      "Epoch 11/20\n",
      "60000/60000 [==============================] - 31s 518us/step - loss: 0.0617 - acc: 0.9802 - val_loss: 0.0582 - val_acc: 0.9833A: 3s - loss: 0.0598 - acc:  - ETA: 3s - loss: 0.059 - ETA: 2s - loss: 0.0604 - acc: 0.98 - ETA: 2s - loss: 0.0606 - acc: 0.9 - ETA: 1s - ETA: 0s - loss: 0.0617 - acc: 0.98\n",
      "Epoch 12/20\n",
      "60000/60000 [==============================] - 32s 538us/step - loss: 0.0615 - acc: 0.9805 - val_loss: 0.0618 - val_acc: 0.98170.0626 - ETA: 2s - loss: 0.0615 - acc: 0.9 - ETA: 2s - los - ETA: 1s - loss: 0.0611 - acc: - ETA: 0s - loss: 0.0610 -\n",
      "Epoch 13/20\n",
      "60000/60000 [==============================] - 33s 542us/step - loss: 0.0552 - acc: 0.9819 - val_loss: 0.0562 - val_acc: 0.9835\n",
      "Epoch 14/20\n",
      "60000/60000 [==============================] - 33s 544us/step - loss: 0.0563 - acc: 0.9818 - val_loss: 0.0618 - val_acc: 0.9828TA: 7s - loss: 0.0544 - - ETA: 3s - loss: 0.054 - ETA: 2s - loss: 0.0552 - acc: 0.98 - ETA: 2s - l - ETA: 0s - loss: 0.0555 - acc: 0. - ETA: 0s - loss: 0.0558 - \n",
      "Epoch 15/20\n",
      "60000/60000 [==============================] - 32s 532us/step - loss: 0.0497 - acc: 0.9838 - val_loss: 0.0574 - val_acc: 0.9841- ETA: 9s - loss: - ETA: 8s - loss: 0.0489 - acc: 0.98\n",
      "Epoch 16/20\n",
      "60000/60000 [==============================] - 27s 449us/step - loss: 0.0496 - acc: 0.9844 - val_loss: 0.0595 - val_acc: 0.9848\n",
      "Epoch 17/20\n",
      "60000/60000 [==============================] - 29s 478us/step - loss: 0.0490 - acc: 0.9845 - val_loss: 0.0611 - val_acc: 0.98291s - loss: - ETA: 0s - loss: 0.0491 - acc: 0.9\n",
      "Epoch 18/20\n",
      "60000/60000 [==============================] - 28s 470us/step - loss: 0.0461 - acc: 0.9855 - val_loss: 0.0592 - val_acc: 0.9842\n",
      "Epoch 19/20\n",
      "60000/60000 [==============================] - 33s 544us/step - loss: 0.0457 - acc: 0.9854 - val_loss: 0.0601 - val_acc: 0.9829\n",
      "Epoch 20/20\n",
      "60000/60000 [==============================] - 32s 538us/step - loss: 0.0452 - acc: 0.9854 - val_loss: 0.0583 - val_acc: 0.9832\n",
      "Test loss: 0.05832645067558842\n",
      "Test accuracy: 0.9832\n"
     ]
    },
    {
     "data": {
      "image/png": "[encoded data removed]",
      "text/plain": [
       "<Figure size 432x288 with 1 Axes>"
      ]
     },
     "metadata": {
      "needs_background": "light"
     },
     "output_type": "display_data"
    }
   ],
   "source": [
    "model.compile(loss='sparse_categorical_crossentropy', optimizer=Adam(), metrics=['accuracy'])\n",
    "\n",
    "# Train model for a given number of epochs\n",
    "history = model.fit(x_train, y_train, batch_size=batch_size, epochs=epochs, verbose=1, validation_data=(x_test, y_test))\n",
    "\n",
    "# Evaluate model against test data\n",
    "score = model.evaluate(x_test, y_test, verbose=0)\n",
    "print('Test loss:', score[0])\n",
    "print('Test accuracy:', score[1])\n",
    "\n",
    "# summarize history for accuracy\n",
    "plt.plot(history.history['acc'])\n",
    "plt.plot(history.history['val_acc'])\n",
    "plt.title('Model accuracy')\n",
    "plt.ylabel('Accuracy')\n",
    "plt.xlabel('Epoch')\n",
    "plt.legend(['Train', 'Test'], loc='upper left')\n",
    "plt.show()"
   ]
  },
  {
   "cell_type": "markdown",
   "metadata": {},
   "source": [
    "Save model structure and trained weights/biases to separate files.\n",
    "\n",
    "These files will be used to restore the trained model at prediction time."
   ]
  },
  {
   "cell_type": "code",
   "execution_count": 9,
   "metadata": {
    "collapsed": true
   },
   "outputs": [],
   "source": [
    "model_structure = model.to_json()\n",
    "with open(\"model.json\", \"w\") as json_file:\n",
    "    json_file.write(model_structure)\n",
    "model.save_weights(\"weights.h5\")"
   ]
  },
  {
   "cell_type": "code",
   "execution_count": null,
   "metadata": {
    "collapsed": true
   },
   "outputs": [],
   "source": []
  }
 ],
 "metadata": {
  "anaconda-cloud": {},
  "kernelspec": {
   "display_name": "tensorflow",
   "language": "python",
   "name": "tensorflow"
  },
  "language_info": {
   "codemirror_mode": {
    "name": "ipython",
    "version": 3
   },
   "file_extension": ".py",
   "mimetype": "text/x-python",
   "name": "python",
   "nbconvert_exporter": "python",
   "pygments_lexer": "ipython3",
   "version": "3.5.4"
  }
 },
 "nbformat": 4,
 "nbformat_minor": 1
}
