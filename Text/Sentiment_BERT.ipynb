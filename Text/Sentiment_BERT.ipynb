{
  "nbformat": 4,
  "nbformat_minor": 0,
  "metadata": {
    "colab": {
      "name": "Sentiment-BERT.ipynb",
      "provenance": [],
      "collapsed_sections": []
    },
    "kernelspec": {
      "name": "python3",
      "display_name": "Python 3"
    },
    "accelerator": "GPU"
  },
  "cells": [
    {
      "cell_type": "markdown",
      "metadata": {
        "id": "-XYOUdwbNZ1f",
        "colab_type": "text"
      },
      "source": [
        "# BERT Sentiment Classification\n",
        "\n",
        "Bidirectional Encoder Representations from Transformers (BERT) for Natural Language Understanding\n",
        "\n",
        "* Transfer learning\n",
        "* Fine tuning"
      ]
    },
    {
      "cell_type": "code",
      "metadata": {
        "id": "N6WlBu6GNSyi",
        "colab_type": "code",
        "outputId": "83bcfe60-dbd8-4e19-e5ee-72e1bfe26bcf",
        "colab": {
          "base_uri": "https://localhost:8080/",
          "height": 34
        }
      },
      "source": [
        "%tensorflow_version 2.x"
      ],
      "execution_count": 1,
      "outputs": [
        {
          "output_type": "stream",
          "text": [
            "TensorFlow 2.x selected.\n"
          ],
          "name": "stdout"
        }
      ]
    },
    {
      "cell_type": "code",
      "metadata": {
        "id": "ZdwgQ7MfNoj2",
        "colab_type": "code",
        "colab": {
          "base_uri": "https://localhost:8080/",
          "height": 103
        },
        "outputId": "fc72d686-779c-43b9-b9b8-e7ba200dc1c8"
      },
      "source": [
        "!pip install --quiet bert-for-tf2\n",
        "!pip install --quiet sentencepiece"
      ],
      "execution_count": 2,
      "outputs": [
        {
          "output_type": "stream",
          "text": [
            "\u001b[?25l\r\u001b[K     |████████▏                       | 10kB 25.3MB/s eta 0:00:01\r\u001b[K     |████████████████▎               | 20kB 1.9MB/s eta 0:00:01\r\u001b[K     |████████████████████████▍       | 30kB 2.5MB/s eta 0:00:01\r\u001b[K     |████████████████████████████████| 40kB 2.0MB/s \n",
            "\u001b[?25h  Building wheel for bert-for-tf2 (setup.py) ... \u001b[?25l\u001b[?25hdone\n",
            "  Building wheel for py-params (setup.py) ... \u001b[?25l\u001b[?25hdone\n",
            "  Building wheel for params-flow (setup.py) ... \u001b[?25l\u001b[?25hdone\n",
            "\u001b[K     |████████████████████████████████| 1.0MB 2.9MB/s \n",
            "\u001b[?25h"
          ],
          "name": "stdout"
        }
      ]
    },
    {
      "cell_type": "code",
      "metadata": {
        "id": "VJzvJaBONyHe",
        "colab_type": "code",
        "colab": {}
      },
      "source": [
        "import tensorflow_hub as hub\n",
        "import bert\n",
        "import pandas as pd\n",
        "import numpy as np\n",
        "import tensorflow as tf\n",
        "\n",
        "from tensorflow.keras.layers import Dense, Dropout, Input, Dropout, GlobalAveragePooling1D, Lambda, GlobalMaxPooling1D\n",
        "from tensorflow.keras import Sequential\n",
        "from tensorflow.keras.models import Model\n",
        "from tensorflow.keras.optimizers import Adam\n",
        "\n",
        "from sklearn.model_selection import train_test_split\n",
        "\n",
        "import matplotlib.pyplot as plt\n",
        "import random"
      ],
      "execution_count": 0,
      "outputs": []
    },
    {
      "cell_type": "markdown",
      "metadata": {
        "id": "tl9VyhxKnZRP",
        "colab_type": "text"
      },
      "source": [
        "# Training Data\n",
        "\n",
        "Download labeled data from [UCI Machine Learning Repository](https://archive.ics.uci.edu/ml/datasets/Sentiment+Labelled+Sentences)"
      ]
    },
    {
      "cell_type": "code",
      "metadata": {
        "id": "Gr-B216RN3zu",
        "colab_type": "code",
        "colab": {}
      },
      "source": [
        "!unzip -q \"sentiment labelled sentences.zip\""
      ],
      "execution_count": 0,
      "outputs": []
    },
    {
      "cell_type": "code",
      "metadata": {
        "id": "j2JYb3UQNte2",
        "colab_type": "code",
        "outputId": "7f6ba78e-b8a0-4b76-9e32-6c16193ddce6",
        "colab": {
          "base_uri": "https://localhost:8080/",
          "height": 220
        }
      },
      "source": [
        "files = ['sentiment labelled sentences/yelp_labelled.txt', 'sentiment labelled sentences/amazon_cells_labelled.txt', 'sentiment labelled sentences/imdb_labelled.txt']\n",
        "\n",
        "df_list = []\n",
        "for file in files:\n",
        "    df = pd.read_csv(file, names=['comment', 'sentiment'], sep='\\t')\n",
        "    df_list.append(df)\n",
        "\n",
        "data = pd.concat(df_list)\n",
        "data['length'] = data.comment.str.split(' ').str.len()\n",
        "\n",
        "max_seq_length = 128\n",
        "\n",
        "# Keep only short comments\n",
        "shortComments = data[data.length < max_seq_length-5]\n",
        "print('Number of rows: %d' % len(shortComments))\n",
        "\n",
        "shortComments.head()"
      ],
      "execution_count": 5,
      "outputs": [
        {
          "output_type": "stream",
          "text": [
            "Number of rows: 2743\n"
          ],
          "name": "stdout"
        },
        {
          "output_type": "execute_result",
          "data": {
            "text/html": [
              "<div>\n",
              "<style scoped>\n",
              "    .dataframe tbody tr th:only-of-type {\n",
              "        vertical-align: middle;\n",
              "    }\n",
              "\n",
              "    .dataframe tbody tr th {\n",
              "        vertical-align: top;\n",
              "    }\n",
              "\n",
              "    .dataframe thead th {\n",
              "        text-align: right;\n",
              "    }\n",
              "</style>\n",
              "<table border=\"1\" class=\"dataframe\">\n",
              "  <thead>\n",
              "    <tr style=\"text-align: right;\">\n",
              "      <th></th>\n",
              "      <th>comment</th>\n",
              "      <th>sentiment</th>\n",
              "      <th>length</th>\n",
              "    </tr>\n",
              "  </thead>\n",
              "  <tbody>\n",
              "    <tr>\n",
              "      <th>0</th>\n",
              "      <td>Wow... Loved this place.</td>\n",
              "      <td>1</td>\n",
              "      <td>4</td>\n",
              "    </tr>\n",
              "    <tr>\n",
              "      <th>1</th>\n",
              "      <td>Crust is not good.</td>\n",
              "      <td>0</td>\n",
              "      <td>4</td>\n",
              "    </tr>\n",
              "    <tr>\n",
              "      <th>2</th>\n",
              "      <td>Not tasty and the texture was just nasty.</td>\n",
              "      <td>0</td>\n",
              "      <td>8</td>\n",
              "    </tr>\n",
              "    <tr>\n",
              "      <th>3</th>\n",
              "      <td>Stopped by during the late May bank holiday of...</td>\n",
              "      <td>1</td>\n",
              "      <td>15</td>\n",
              "    </tr>\n",
              "    <tr>\n",
              "      <th>4</th>\n",
              "      <td>The selection on the menu was great and so wer...</td>\n",
              "      <td>1</td>\n",
              "      <td>12</td>\n",
              "    </tr>\n",
              "  </tbody>\n",
              "</table>\n",
              "</div>"
            ],
            "text/plain": [
              "                                             comment  sentiment  length\n",
              "0                           Wow... Loved this place.          1       4\n",
              "1                                 Crust is not good.          0       4\n",
              "2          Not tasty and the texture was just nasty.          0       8\n",
              "3  Stopped by during the late May bank holiday of...          1      15\n",
              "4  The selection on the menu was great and so wer...          1      12"
            ]
          },
          "metadata": {
            "tags": []
          },
          "execution_count": 5
        }
      ]
    },
    {
      "cell_type": "markdown",
      "metadata": {
        "id": "hg7hnkt4neK1",
        "colab_type": "text"
      },
      "source": [
        "# Data Preparation"
      ]
    },
    {
      "cell_type": "code",
      "metadata": {
        "id": "no25EuibRkn3",
        "colab_type": "code",
        "colab": {}
      },
      "source": [
        "comments = shortComments.comment.astype(str).tolist()\n",
        "sentiments = shortComments.sentiment.tolist()\n",
        "labels = np.asarray(sentiments)\n",
        "\n",
        "x_train, x_test, y_train, y_test = train_test_split(comments, labels, test_size=0.2, random_state=42)"
      ],
      "execution_count": 0,
      "outputs": []
    },
    {
      "cell_type": "code",
      "metadata": {
        "id": "SLsycFuUQUMU",
        "colab_type": "code",
        "colab": {}
      },
      "source": [
        "bert_path = \"https://tfhub.dev/tensorflow/bert_en_uncased_L-12_H-768_A-12/1\"\n",
        "bert_layer = hub.KerasLayer(bert_path, trainable=False, name='BERT')\n",
        "vocab_file1 = bert_layer.resolved_object.vocab_file.asset_path.numpy()\n",
        "tokenizer = bert.bert_tokenization.FullTokenizer(vocab_file1, do_lower_case=True)"
      ],
      "execution_count": 0,
      "outputs": []
    },
    {
      "cell_type": "code",
      "metadata": {
        "id": "tsWSnJaj5H2V",
        "colab_type": "code",
        "colab": {}
      },
      "source": [
        "def encodeText(textList):\n",
        "  token_list = []\n",
        "  att_list = []\n",
        "  segment_list = []\n",
        "  for text in textList:\n",
        "    tokens = tokenizer.tokenize(text)\n",
        "    padding = ['[PAD]'] * (max_seq_length - len(tokens) - 2)\n",
        "    token_ids = tokenizer.convert_tokens_to_ids(['[CLS]'] + tokens + ['[SEP]'] + padding)\n",
        "    token_list.append(token_ids)\n",
        "\n",
        "    att_mask = [int(id > 0) for id in token_ids]\n",
        "    att_list.append(att_mask)\n",
        "\n",
        "    segment_ids = [0]*max_seq_length\n",
        "    segment_list.append(segment_ids)\n",
        "  return [tf.cast(token_list,tf.int32), tf.cast(att_list,tf.int32), tf.cast(segment_list,tf.int32)]"
      ],
      "execution_count": 0,
      "outputs": []
    },
    {
      "cell_type": "markdown",
      "metadata": {
        "id": "QmkLLlNEfxPO",
        "colab_type": "text"
      },
      "source": [
        "# Define Model"
      ]
    },
    {
      "cell_type": "code",
      "metadata": {
        "id": "1Pfz4yKZxG28",
        "colab_type": "code",
        "outputId": "c62f4247-275f-4f79-e706-6882111dea8d",
        "colab": {
          "base_uri": "https://localhost:8080/",
          "height": 464
        }
      },
      "source": [
        "input_word_ids = tf.keras.layers.Input(shape=(max_seq_length,), dtype=tf.int32, name=\"input_word_ids\")\n",
        "input_mask = tf.keras.layers.Input(shape=(max_seq_length,), dtype=tf.int32, name=\"input_mask\")\n",
        "input_segment_ids = tf.keras.layers.Input(shape=(max_seq_length,), dtype=tf.int32, name=\"segment_ids\")\n",
        "pooled_output, sequence_output = bert_layer([input_word_ids, input_mask, input_segment_ids])\n",
        "\n",
        "d1 = Dense(256, activation='relu')(sequence_output)\n",
        "dropout = Dropout(0.5)(d1)\n",
        "pooling = GlobalMaxPooling1D()(dropout)\n",
        "output = Dense(2, activation='softmax')(pooling)\n",
        "model = Model([input_word_ids, input_mask, input_segment_ids], output)\n",
        "model.compile(loss='sparse_categorical_crossentropy', optimizer=Adam(), metrics=['accuracy'])\n",
        "model.summary()"
      ],
      "execution_count": 72,
      "outputs": [
        {
          "output_type": "stream",
          "text": [
            "Model: \"model_12\"\n",
            "__________________________________________________________________________________________________\n",
            "Layer (type)                    Output Shape         Param #     Connected to                     \n",
            "==================================================================================================\n",
            "input_word_ids (InputLayer)     [(None, 128)]        0                                            \n",
            "__________________________________________________________________________________________________\n",
            "input_mask (InputLayer)         [(None, 128)]        0                                            \n",
            "__________________________________________________________________________________________________\n",
            "segment_ids (InputLayer)        [(None, 128)]        0                                            \n",
            "__________________________________________________________________________________________________\n",
            "BERT (KerasLayer)               [(None, 768), (None, 109482241   input_word_ids[0][0]             \n",
            "                                                                 input_mask[0][0]                 \n",
            "                                                                 segment_ids[0][0]                \n",
            "__________________________________________________________________________________________________\n",
            "dense_20 (Dense)                (None, None, 256)    196864      BERT[1][1]                       \n",
            "__________________________________________________________________________________________________\n",
            "dropout_1 (Dropout)             (None, None, 256)    0           dense_20[0][0]                   \n",
            "__________________________________________________________________________________________________\n",
            "global_max_pooling1d_6 (GlobalM (None, 256)          0           dropout_1[0][0]                  \n",
            "__________________________________________________________________________________________________\n",
            "dense_21 (Dense)                (None, 2)            514         global_max_pooling1d_6[0][0]     \n",
            "==================================================================================================\n",
            "Total params: 109,679,619\n",
            "Trainable params: 197,378\n",
            "Non-trainable params: 109,482,241\n",
            "__________________________________________________________________________________________________\n"
          ],
          "name": "stdout"
        }
      ]
    },
    {
      "cell_type": "markdown",
      "metadata": {
        "id": "zBY_Za9Ef2XM",
        "colab_type": "text"
      },
      "source": [
        "# Transfer Learning\n",
        "\n",
        "BERT layer weights/biases are frozen, only train the final dense layers."
      ]
    },
    {
      "cell_type": "code",
      "metadata": {
        "id": "89VjM6GQ050W",
        "colab_type": "code",
        "outputId": "f1ffee32-c0da-455a-d669-4f15b91bfe2f",
        "colab": {
          "base_uri": "https://localhost:8080/",
          "height": 206
        }
      },
      "source": [
        "history = model.fit(encodeText(x_train), y_train, epochs=5, verbose=1, batch_size = 3, validation_data=(encodeText(x_test), y_test))"
      ],
      "execution_count": 73,
      "outputs": [
        {
          "output_type": "stream",
          "text": [
            "Train on 2194 samples, validate on 549 samples\n",
            "Epoch 1/5\n",
            "2194/2194 [==============================] - 31s 14ms/sample - loss: 0.1741 - accuracy: 0.9476 - val_loss: 0.4057 - val_accuracy: 0.8634\n",
            "Epoch 2/5\n",
            "2194/2194 [==============================] - 28s 13ms/sample - loss: 0.0497 - accuracy: 0.9872 - val_loss: 0.2366 - val_accuracy: 0.9435\n",
            "Epoch 3/5\n",
            "2194/2194 [==============================] - 28s 13ms/sample - loss: 0.0130 - accuracy: 0.9945 - val_loss: 0.2696 - val_accuracy: 0.9235\n",
            "Epoch 4/5\n",
            "2194/2194 [==============================] - 28s 13ms/sample - loss: 0.0334 - accuracy: 0.9904 - val_loss: 0.2975 - val_accuracy: 0.9490\n",
            "Epoch 5/5\n",
            "2194/2194 [==============================] - 28s 13ms/sample - loss: 0.0140 - accuracy: 0.9964 - val_loss: 0.5789 - val_accuracy: 0.9126\n"
          ],
          "name": "stdout"
        }
      ]
    },
    {
      "cell_type": "markdown",
      "metadata": {
        "id": "G_G37pRkgGvf",
        "colab_type": "text"
      },
      "source": [
        "# Fine Tuning\n",
        "\n",
        "Unfreeze BERT layer, choose lower learning rate and retrain all layers."
      ]
    },
    {
      "cell_type": "code",
      "metadata": {
        "id": "SGAnGRAHZjgq",
        "colab_type": "code",
        "colab": {
          "base_uri": "https://localhost:8080/",
          "height": 464
        },
        "outputId": "f01e7165-47f4-4d4a-b70f-4c146aa060e7"
      },
      "source": [
        "bert_layer.trainable = True\n",
        "model2 = Model([input_word_ids, input_mask, input_segment_ids], output)\n",
        "model2.compile(loss='sparse_categorical_crossentropy', optimizer=Adam(1e-5), metrics=['accuracy'])\n",
        "model2.summary()"
      ],
      "execution_count": 74,
      "outputs": [
        {
          "output_type": "stream",
          "text": [
            "Model: \"model_13\"\n",
            "__________________________________________________________________________________________________\n",
            "Layer (type)                    Output Shape         Param #     Connected to                     \n",
            "==================================================================================================\n",
            "input_word_ids (InputLayer)     [(None, 128)]        0                                            \n",
            "__________________________________________________________________________________________________\n",
            "input_mask (InputLayer)         [(None, 128)]        0                                            \n",
            "__________________________________________________________________________________________________\n",
            "segment_ids (InputLayer)        [(None, 128)]        0                                            \n",
            "__________________________________________________________________________________________________\n",
            "BERT (KerasLayer)               [(None, 768), (None, 109482241   input_word_ids[0][0]             \n",
            "                                                                 input_mask[0][0]                 \n",
            "                                                                 segment_ids[0][0]                \n",
            "__________________________________________________________________________________________________\n",
            "dense_20 (Dense)                (None, None, 256)    196864      BERT[1][1]                       \n",
            "__________________________________________________________________________________________________\n",
            "dropout_1 (Dropout)             (None, None, 256)    0           dense_20[0][0]                   \n",
            "__________________________________________________________________________________________________\n",
            "global_max_pooling1d_6 (GlobalM (None, 256)          0           dropout_1[0][0]                  \n",
            "__________________________________________________________________________________________________\n",
            "dense_21 (Dense)                (None, 2)            514         global_max_pooling1d_6[0][0]     \n",
            "==================================================================================================\n",
            "Total params: 109,679,619\n",
            "Trainable params: 109,679,618\n",
            "Non-trainable params: 1\n",
            "__________________________________________________________________________________________________\n"
          ],
          "name": "stdout"
        }
      ]
    },
    {
      "cell_type": "code",
      "metadata": {
        "id": "ZIQQ78oZTrVl",
        "colab_type": "code",
        "colab": {
          "base_uri": "https://localhost:8080/",
          "height": 206
        },
        "outputId": "ce221071-5b70-4f4b-d8ea-7023c466a91e"
      },
      "source": [
        "history2 = model2.fit(encodeText(x_train), y_train, epochs=5, verbose=1, batch_size = 3, validation_data=(encodeText(x_test), y_test))"
      ],
      "execution_count": 75,
      "outputs": [
        {
          "output_type": "stream",
          "text": [
            "Train on 2194 samples, validate on 549 samples\n",
            "Epoch 1/5\n",
            "2194/2194 [==============================] - 90s 41ms/sample - loss: 0.0907 - accuracy: 0.9872 - val_loss: 0.2797 - val_accuracy: 0.9344\n",
            "Epoch 2/5\n",
            "2194/2194 [==============================] - 81s 37ms/sample - loss: 0.0275 - accuracy: 0.9918 - val_loss: 0.3309 - val_accuracy: 0.9435\n",
            "Epoch 3/5\n",
            "2194/2194 [==============================] - 81s 37ms/sample - loss: 0.0212 - accuracy: 0.9932 - val_loss: 0.3359 - val_accuracy: 0.9326\n",
            "Epoch 4/5\n",
            "2194/2194 [==============================] - 82s 37ms/sample - loss: 0.0039 - accuracy: 0.9986 - val_loss: 0.3248 - val_accuracy: 0.9508\n",
            "Epoch 5/5\n",
            "2194/2194 [==============================] - 82s 37ms/sample - loss: 0.0015 - accuracy: 0.9991 - val_loss: 0.3225 - val_accuracy: 0.9545\n"
          ],
          "name": "stdout"
        }
      ]
    },
    {
      "cell_type": "code",
      "metadata": {
        "id": "iO1LWnfrHOeD",
        "colab_type": "code",
        "colab": {
          "base_uri": "https://localhost:8080/",
          "height": 295
        },
        "outputId": "815c7cb4-54ff-438b-825a-8a4d6bc579d2"
      },
      "source": [
        "plt.plot(history2.history['accuracy'])\n",
        "plt.plot(history2.history['val_accuracy'])\n",
        "plt.title('Model accuracy')\n",
        "plt.ylabel('Accuracy')\n",
        "plt.xlabel('Epoch')\n",
        "plt.legend(['Train', 'Test'], loc='upper left')\n",
        "plt.show()"
      ],
      "execution_count": 71,
      "outputs": [
        {
          "output_type": "display_data",
          "data": {
            "image/png": "[encoded data removed]",
            "text/plain": [
              "<Figure size 432x288 with 1 Axes>"
            ]
          },
          "metadata": {
            "tags": []
          }
        }
      ]
    },
    {
      "cell_type": "markdown",
      "metadata": {
        "id": "aM3opEonfIiy",
        "colab_type": "text"
      },
      "source": [
        "# Predictions"
      ]
    },
    {
      "cell_type": "code",
      "metadata": {
        "id": "FJY-hrCsdHqZ",
        "colab_type": "code",
        "colab": {}
      },
      "source": [
        "predictions = model2.predict(encodeText(x_test))\n",
        "most_likely = predictions.argmax(1)"
      ],
      "execution_count": 0,
      "outputs": []
    },
    {
      "cell_type": "code",
      "metadata": {
        "id": "Duv3GUEgdXzD",
        "colab_type": "code",
        "colab": {
          "base_uri": "https://localhost:8080/",
          "height": 51
        },
        "outputId": "ceae9bc2-d011-4528-bbb0-0b5b0342af91"
      },
      "source": [
        "index = random.randrange(len(predictions))\n",
        "print(x_test[index])\n",
        "print('Prediction: %d, label: %d' % (most_likely[index], y_test[index]))"
      ],
      "execution_count": 54,
      "outputs": [
        {
          "output_type": "stream",
          "text": [
            "The only thing really worth watching was the scenery and the house, because it is beautiful.  \n",
            "Prediction: 1, label: 1\n"
          ],
          "name": "stdout"
        }
      ]
    },
    {
      "cell_type": "markdown",
      "metadata": {
        "id": "9jGFSCDDfCDN",
        "colab_type": "text"
      },
      "source": [
        "# Error Analysis"
      ]
    },
    {
      "cell_type": "code",
      "metadata": {
        "id": "LysdAXCheBZW",
        "colab_type": "code",
        "colab": {
          "base_uri": "https://localhost:8080/",
          "height": 315
        },
        "outputId": "97c61c39-c962-410a-f4c3-9b0e19a8cec2"
      },
      "source": [
        "for i in range(1000):\n",
        "    index = random.randrange(len(predictions))\n",
        "    if most_likely[index] != y_test[index]:\n",
        "        break\n",
        "\n",
        "print(x_test[index])\n",
        "print('Prediction: %d, label: %d' % (most_likely[index], y_test[index]))\n",
        "\n",
        "plt.bar(range(2), predictions[index], tick_label=range(2))\n",
        "plt.title('Prediction values')\n",
        "plt.show()"
      ],
      "execution_count": 65,
      "outputs": [
        {
          "output_type": "stream",
          "text": [
            "It was horrendous.  \n",
            "Prediction: 1, label: 0\n"
          ],
          "name": "stdout"
        },
        {
          "output_type": "display_data",
          "data": {
            "image/png": "[encoded data removed]",
            "text/plain": [
              "<Figure size 432x288 with 1 Axes>"
            ]
          },
          "metadata": {
            "tags": []
          }
        }
      ]
    }
  ]
}